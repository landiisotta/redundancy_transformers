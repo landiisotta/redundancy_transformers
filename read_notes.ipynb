{
 "cells": [
  {
   "cell_type": "code",
   "execution_count": 1,
   "metadata": {},
   "outputs": [],
   "source": [
    "from html.parser import HTMLParser\n",
    "import xml.etree.ElementTree as ET\n",
    "import os\n",
    "import csv\n",
    "import re\n",
    "import pickle as pkl\n",
    "from IPython.display import display, Markdown"
   ]
  },
  {
   "cell_type": "code",
   "execution_count": 2,
   "metadata": {},
   "outputs": [],
   "source": [
    "# Class that parses html files and returns dictionary of ID:note\n",
    "class ChHTMLParser(HTMLParser):\n",
    "    def __init__(self):\n",
    "        HTMLParser.__init__(self)\n",
    "        self.notes = {}\n",
    "        self.idx = ''\n",
    "        self.mytag = \"\"\n",
    "        \n",
    "    def handle_starttag(self, tag, attrs):\n",
    "        self.mytag = tag\n",
    "        if self.mytag == 'record' or self.mytag == 'doc':\n",
    "            idn, self.idx = attrs[0]\n",
    "\n",
    "    def handle_data(self, data):\n",
    "        if self.mytag == 'text':\n",
    "            if not re.match(r'\\n$', data):\n",
    "                if self.idx in self.notes.keys():\n",
    "                    raise IndexError(\"Duplicated note IDs, please check each note has a unique ID to avoid overwriting.\")\n",
    "                self.notes[self.idx] = data.strip('\\n')"
   ]
  },
  {
   "cell_type": "code",
   "execution_count": 3,
   "metadata": {},
   "outputs": [],
   "source": [
    "# # Txt file reader (first line corresponds to the record number)\n",
    "# def read_txt(file, header=True):\n",
    "#     with open(file, 'r') as f:\n",
    "#         rd = csv.reader(f)\n",
    "#         if header:\n",
    "#             rn = next(rd)[0]\n",
    "#             out = ' '.join([r[0] for r in rd if len(r)>0])\n",
    "#             return rn, out\n",
    "#         else:\n",
    "#             out = ' '.join([r[0] for r in rd if len(r)>0])\n",
    "#             return out\n",
    "def read_txt(file):\n",
    "    \"\"\"\n",
    "    Txt file reader (first line corresponds to the record number if any)\n",
    "    :param file: file name\n",
    "    :return: note\n",
    "    \"\"\"\n",
    "    f = open(file, mode='r', encoding='utf-8-sig')\n",
    "    text = f.read()\n",
    "    return text"
   ]
  },
  {
   "cell_type": "code",
   "execution_count": 4,
   "metadata": {},
   "outputs": [],
   "source": [
    "# XML reader with CDATA sections\n",
    "def readXML(file):\n",
    "    tree = ET.parse(file)\n",
    "    root = tree.getroot()\n",
    "    for child in root:\n",
    "        if child.tag == 'TEXT':\n",
    "            return child.text"
   ]
  },
  {
   "cell_type": "code",
   "execution_count": 5,
   "metadata": {},
   "outputs": [],
   "source": [
    "data_folder = './data'"
   ]
  },
  {
   "cell_type": "markdown",
   "metadata": {},
   "source": [
    "# Notes from i2b2 challenges"
   ]
  },
  {
   "cell_type": "markdown",
   "metadata": {},
   "source": [
    "## Smoking status (2006)"
   ]
  },
  {
   "cell_type": "code",
   "execution_count": 516,
   "metadata": {},
   "outputs": [],
   "source": [
    "# Training and test sets with smoking status. xml format.\n",
    "ss_train_file = data_folder + '/2006_smoking_status/smokers_surrogate_train_all_version2.xml'\n",
    "ss_test_file = data_folder + '/2006_smoking_status/smokers_surrogate_test_all_groundtruth_version2.xml'"
   ]
  },
  {
   "cell_type": "code",
   "execution_count": 518,
   "metadata": {},
   "outputs": [
    {
     "data": {
      "text/markdown": [
       "**Training set notes**: 398"
      ],
      "text/plain": [
       "<IPython.core.display.Markdown object>"
      ]
     },
     "metadata": {},
     "output_type": "display_data"
    },
    {
     "data": {
      "text/markdown": [
       "**Test set notes**: 104"
      ],
      "text/plain": [
       "<IPython.core.display.Markdown object>"
      ]
     },
     "metadata": {},
     "output_type": "display_data"
    },
    {
     "data": {
      "text/markdown": [
       "**Total**: 502"
      ],
      "text/plain": [
       "<IPython.core.display.Markdown object>"
      ]
     },
     "metadata": {},
     "output_type": "display_data"
    }
   ],
   "source": [
    "parser_smk_tr = ChHTMLParser()\n",
    "with open(ss_train_file) as f:\n",
    "    file = f.read()\n",
    "parser_smk_tr.feed(file)\n",
    "display(Markdown(f\"**Training set notes**: {len(parser_smk_tr.notes)}\"))\n",
    "\n",
    "parser_smk_ts = ChHTMLParser()\n",
    "with open(ss_test_file) as f:\n",
    "    file = f.read()\n",
    "parser_smk_ts.feed(file)\n",
    "display(Markdown(f\"**Test set notes**: {len(parser_smk_ts.notes)}\"))\n",
    "\n",
    "display(Markdown(f\"**Total**: {len(parser_smk_tr.notes) + len(parser_smk_ts.notes)}\"))"
   ]
  },
  {
   "cell_type": "markdown",
   "metadata": {},
   "source": [
    "## Obesity and comorbidities (2008)"
   ]
  },
  {
   "cell_type": "code",
   "execution_count": 519,
   "metadata": {},
   "outputs": [],
   "source": [
    "ob_train_file1 = data_folder + '/2008_obesity/obesity_patient_records_training.xml'\n",
    "ob_train_file2 = data_folder + '/2008_obesity/obesity_patient_records_training2.xml'\n",
    "ob_test_file = data_folder + '/2008_obesity/obesity_patient_records_test.xml'"
   ]
  },
  {
   "cell_type": "code",
   "execution_count": 520,
   "metadata": {},
   "outputs": [
    {
     "data": {
      "text/markdown": [
       "**Training set notes**: 730"
      ],
      "text/plain": [
       "<IPython.core.display.Markdown object>"
      ]
     },
     "metadata": {},
     "output_type": "display_data"
    },
    {
     "data": {
      "text/markdown": [
       "**Test set notes**: 507"
      ],
      "text/plain": [
       "<IPython.core.display.Markdown object>"
      ]
     },
     "metadata": {},
     "output_type": "display_data"
    },
    {
     "data": {
      "text/markdown": [
       "**Total**: 1237"
      ],
      "text/plain": [
       "<IPython.core.display.Markdown object>"
      ]
     },
     "metadata": {},
     "output_type": "display_data"
    }
   ],
   "source": [
    "parser_ob_tr = ChHTMLParser()\n",
    "with open(ob_train_file1) as f:\n",
    "    file1 = f.read()\n",
    "with open(ob_train_file2) as f:\n",
    "    file2 = f.read()\n",
    "parser_ob_tr.feed(file1)\n",
    "parser_ob_tr.feed(file2)\n",
    "display(Markdown(f\"**Training set notes**: {len(parser_ob_tr.notes)}\"))\n",
    "\n",
    "parser_ob_ts = ChHTMLParser()\n",
    "with open(ob_test_file) as f:\n",
    "    file = f.read()\n",
    "parser_ob_ts.feed(file)\n",
    "display(Markdown(f\"**Test set notes**: {len(parser_ob_ts.notes)}\"))\n",
    "\n",
    "display(Markdown(f\"**Total**: {len(parser_ob_tr.notes) + len(parser_ob_ts.notes)}\"))"
   ]
  },
  {
   "cell_type": "markdown",
   "metadata": {},
   "source": [
    "## Medication extraction (2009)"
   ]
  },
  {
   "cell_type": "code",
   "execution_count": 47,
   "metadata": {},
   "outputs": [],
   "source": [
    "med_tr_files = []\n",
    "for ff in os.listdir(data_folder + '/2009_medication/training.sets.released'):\n",
    "    for tf in os.listdir(os.path.join(data_folder + '/2009_medication/training.sets.released', ff)):\n",
    "        if not re.match('^\\.', tf):\n",
    "            med_tr_files.append('/'.join([ff, tf]))\n",
    "\n",
    "med_ts_files = [tf for tf in os.listdir(data_folder + '/2009_medication/train.test.released.8.17.09/') if tf not in [fftf.split('/')[1] for fftf in med_tr_files] and not re.match('^\\.', tf)]"
   ]
  },
  {
   "cell_type": "code",
   "execution_count": 48,
   "metadata": {},
   "outputs": [],
   "source": [
    "parser_med_tr = {tf.split('/')[1]: read_txt(os.path.join(data_folder + '/2009_medication/training.sets.released', tf)) for tf in med_tr_files}\n",
    "parser_med_ts = {tf: read_txt(os.path.join(data_folder + '/2009_medication/train.test.released.8.17.09/', tf)) for tf in med_ts_files}"
   ]
  },
  {
   "cell_type": "code",
   "execution_count": 524,
   "metadata": {},
   "outputs": [
    {
     "data": {
      "text/markdown": [
       "**Training set notes**: 696"
      ],
      "text/plain": [
       "<IPython.core.display.Markdown object>"
      ]
     },
     "metadata": {},
     "output_type": "display_data"
    },
    {
     "data": {
      "text/markdown": [
       "**Test set notes**: 553"
      ],
      "text/plain": [
       "<IPython.core.display.Markdown object>"
      ]
     },
     "metadata": {},
     "output_type": "display_data"
    },
    {
     "data": {
      "text/markdown": [
       "**Total**: 1249"
      ],
      "text/plain": [
       "<IPython.core.display.Markdown object>"
      ]
     },
     "metadata": {},
     "output_type": "display_data"
    }
   ],
   "source": [
    "display(Markdown(f\"**Training set notes**: {len(parser_med_tr)}\"))\n",
    "display(Markdown(f\"**Test set notes**: {len(parser_med_ts)}\"))\n",
    "display(Markdown(f\"**Total**: {len(parser_med_tr) + len(parser_med_ts)}\"))"
   ]
  },
  {
   "cell_type": "markdown",
   "metadata": {},
   "source": [
    "**Remark**: Authors report 1,243 deidentified discharge summaries, <u>696 in the training</u> and <u>547 in the test set</u>$^1$.\n",
    "1. Uzuner, O., Solti, I., & Cadag, E. (2010). Extracting medication information from clinical text. Journal of the American Medical Informatics Association : JAMIA, 17(5), 514–518. https://doi.org/10.1136/jamia.2010.003947"
   ]
  },
  {
   "cell_type": "markdown",
   "metadata": {},
   "source": [
    "## Concept extraction, assertion and relation classification (2010)"
   ]
  },
  {
   "cell_type": "code",
   "execution_count": 526,
   "metadata": {},
   "outputs": [],
   "source": [
    "cac_tr_files = []\n",
    "for ff in os.listdir(data_folder + '/2010_relations/concept_assertion_relation_training_data'):\n",
    "    for sff in os.listdir(os.path.join(data_folder + '/2010_relations/concept_assertion_relation_training_data', ff)):\n",
    "        if sff == 'txt' or sff == 'unannotated':\n",
    "            for tf in os.listdir(os.path.join(data_folder + '/2010_relations/concept_assertion_relation_training_data', ff, sff)):\n",
    "                if not re.match('^\\.', tf):\n",
    "                    cac_tr_files.append('/'.join([ff, sff, tf]))\n",
    "cac_ts_files = [tf for tf in os.listdir(data_folder + '/2010_relations/test_data') if not re.match('^\\.', tf)]"
   ]
  },
  {
   "cell_type": "code",
   "execution_count": 527,
   "metadata": {},
   "outputs": [],
   "source": [
    "parser_cac_tr = {}\n",
    "for tr_path in cac_tr_files:\n",
    "    text = read_txt(os.path.join(data_folder + '/2010_relations/concept_assertion_relation_training_data', tr_path))\n",
    "    if re.match(r\" *A[Dd][Mm][Ii][Ss][Ss][Ii][Oo][Nn] D[Aa][Tt][Ee] *:?\", text):\n",
    "        tr_file = tr_path.split('/')[2]\n",
    "        idx = re.search(r'[0-9]+(_[a-z]{1})*', tr_file).group(0)\n",
    "        parser_cac_tr[idx] = text\n",
    "    else:\n",
    "        idx = re.match(r'[0-9]+(_[a-z])*', text)\n",
    "        parser_cac_tr[idx.group(0)] = text[idx.span()[1]:]\n",
    "\n",
    "parser_cac_ts = {}\n",
    "for ts_file in cac_ts_files:\n",
    "    text = read_txt(os.path.join(data_folder + '/2010_relations/test_data', ts_file))\n",
    "    if re.match(r\" *A[Dd][Mm][Ii][Ss][Ss][Ii][Oo][Nn] D[Aa][Tt][Ee] *:?\", text):\n",
    "        idx = re.search(r'[0-9]+', ts_file).group(0)\n",
    "        parser_cac_ts[idx] = text\n",
    "    else:\n",
    "        idx = re.match(r'[0-9]+(_[a-z])*', text)\n",
    "        parser_cac_ts[idx.group(0)] = text[idx.span()[1]:]"
   ]
  },
  {
   "cell_type": "code",
   "execution_count": 528,
   "metadata": {},
   "outputs": [
    {
     "data": {
      "text/markdown": [
       "**Training set notes**: 437"
      ],
      "text/plain": [
       "<IPython.core.display.Markdown object>"
      ]
     },
     "metadata": {},
     "output_type": "display_data"
    },
    {
     "data": {
      "text/markdown": [
       "**Test set notes**: 255"
      ],
      "text/plain": [
       "<IPython.core.display.Markdown object>"
      ]
     },
     "metadata": {},
     "output_type": "display_data"
    },
    {
     "data": {
      "text/markdown": [
       "**Total**: 692"
      ],
      "text/plain": [
       "<IPython.core.display.Markdown object>"
      ]
     },
     "metadata": {},
     "output_type": "display_data"
    }
   ],
   "source": [
    "display(Markdown(f\"**Training set notes**: {len(parser_cac_tr)}\"))\n",
    "display(Markdown(f\"**Test set notes**: {len(parser_cac_ts)}\"))\n",
    "display(Markdown(f\"**Total**: {len(parser_cac_tr) + len(parser_cac_ts)}\"))"
   ]
  },
  {
   "cell_type": "markdown",
   "metadata": {},
   "source": [
    "**Remark**: authors report a total of <u>394 training reports</u>, <u>477 test reports</u>, and <u>877 unannotated reports</u>$^1$. One note in the test set is a duplicate, specifically _0017.txt_ and _0094.txt_ are the same (MRN: 139391631).\n",
    "\n",
    "1. Uzuner, Ö., South, B. R., Shen, S., & DuVall, S. L. (2011). 2010 i2b2/VA challenge on concepts, assertions, and relations in clinical text. Journal of the American Medical Informatics Association : JAMIA, 18(5), 552–556. https://doi.org/10.1136/amiajnl-2011-000203"
   ]
  },
  {
   "cell_type": "markdown",
   "metadata": {},
   "source": [
    "## Coreference resolution (2011)"
   ]
  },
  {
   "cell_type": "code",
   "execution_count": 529,
   "metadata": {},
   "outputs": [],
   "source": [
    "cr_tr_files = []\n",
    "for ff in os.listdir(data_folder + '/2011_coreference/i2b2_train/'):\n",
    "    if not re.match('^\\.', ff):\n",
    "        for sff in os.listdir(os.path.join(data_folder + '/2011_coreference/i2b2_train', ff)):\n",
    "            if sff == 'docs':\n",
    "                for tf in os.listdir(os.path.join(data_folder + '/2011_coreference/i2b2_train', ff, sff)):\n",
    "                    if not re.match('^\\.', tf):\n",
    "                        cr_tr_files.append('/'.join([ff, sff, tf]))\n",
    "cr_ts_files = []\n",
    "for ff in os.listdir(data_folder + '/2011_coreference/i2b2_Test/'):\n",
    "    for sff in os.listdir(os.path.join(data_folder + '/2011_coreference/i2b2_Test', ff)):\n",
    "        if sff == 'docs':\n",
    "            for tf in os.listdir(os.path.join(data_folder + '/2011_coreference/i2b2_Test', ff, sff)):\n",
    "                if not re.match('^\\.', tf):\n",
    "                    cr_ts_files.append('/'.join([ff, sff, tf]))"
   ]
  },
  {
   "cell_type": "code",
   "execution_count": 532,
   "metadata": {},
   "outputs": [],
   "source": [
    "parser_cr_tr = {}\n",
    "for tr_path in cr_tr_files:\n",
    "    text = read_txt(os.path.join(data_folder + '/2011_coreference/i2b2_train', tr_path))\n",
    "    if re.match(r\" *A[Dd][Mm][Ii][Ss][Ss][Ii][Oo][Nn] D[Aa][Tt][Ee] *:?\", text):\n",
    "        tr_file = tr_path.split('/')[2]\n",
    "        idx = re.search(r'[0-9]+', tr_file).group(0)\n",
    "        parser_cr_tr[idx] = text\n",
    "    else:\n",
    "        idx = re.match(r'[0-9]+(_[a-z])*', text)\n",
    "        parser_cr_tr[idx.group(0)] = text[idx.span()[1]:]\n",
    "        \n",
    "parser_cr_ts = {}\n",
    "for ts_path in cr_ts_files:\n",
    "    text = read_txt(os.path.join(data_folder + '/2011_coreference/i2b2_Test', ts_path))\n",
    "    if re.match(r\" *A[Dd][Mm][Ii][Ss][Ss][Ii][Oo][Nn] D[Aa][Tt][Ee] *:?\", text):\n",
    "        ts_file = ts_path.split('/')[2]\n",
    "        idx = re.search(r'[0-9]+', ts_file).group(0)\n",
    "        parser_cr_ts[idx] = text\n",
    "    else:\n",
    "        idx = re.match(r'[0-9]+(_[a-z])*', text)\n",
    "        parser_cr_ts[idx.group(0)] = text[idx.span()[1]:]"
   ]
  },
  {
   "cell_type": "code",
   "execution_count": 533,
   "metadata": {},
   "outputs": [
    {
     "data": {
      "text/markdown": [
       "**Training set notes**: 251"
      ],
      "text/plain": [
       "<IPython.core.display.Markdown object>"
      ]
     },
     "metadata": {},
     "output_type": "display_data"
    },
    {
     "data": {
      "text/markdown": [
       "**Test set notes**: 172"
      ],
      "text/plain": [
       "<IPython.core.display.Markdown object>"
      ]
     },
     "metadata": {},
     "output_type": "display_data"
    },
    {
     "data": {
      "text/markdown": [
       "**Total**: 423"
      ],
      "text/plain": [
       "<IPython.core.display.Markdown object>"
      ]
     },
     "metadata": {},
     "output_type": "display_data"
    }
   ],
   "source": [
    "display(Markdown(f\"**Training set notes**: {len(parser_cr_tr)}\"))\n",
    "display(Markdown(f\"**Test set notes**: {len(parser_cr_ts)}\"))\n",
    "display(Markdown(f\"**Total**: {len(parser_cr_tr) + len(parser_cr_ts)}\"))"
   ]
  },
  {
   "cell_type": "code",
   "execution_count": 573,
   "metadata": {},
   "outputs": [],
   "source": [
    "# Check if duplicated from 2010\n",
    "old_dt = [v.strip('\\n') for v in parser_cac_tr.values()] + [v.strip('\\n') for v in parser_cac_ts.values()]\n",
    "\n",
    "count_tr = 0\n",
    "count_ts = 0\n",
    "for idx, note in parser_cr_tr.items():\n",
    "    if note.strip('\\n') in old_dt:\n",
    "        count_tr += 1\n",
    "for idx, note in parser_cr_ts.items():\n",
    "    if note.strip('\\n') in old_dt:\n",
    "        count_ts += 1"
   ]
  },
  {
   "cell_type": "code",
   "execution_count": 574,
   "metadata": {},
   "outputs": [
    {
     "data": {
      "text/markdown": [
       "**Notes from 2010 challenge**: Tr: 251, Ts: 171"
      ],
      "text/plain": [
       "<IPython.core.display.Markdown object>"
      ]
     },
     "metadata": {},
     "output_type": "display_data"
    }
   ],
   "source": [
    "display(Markdown(f\"**Notes from 2010 challenge**: Tr: {count_tr}, Ts: {count_ts}\"))"
   ]
  },
  {
   "cell_type": "markdown",
   "metadata": {},
   "source": [
    "One note is missing from the test set because the duplicated version (MRN: 139391631) differs by the presence of string \"[ report_end ]\" and the 2010 dataset version is imported without."
   ]
  },
  {
   "cell_type": "markdown",
   "metadata": {},
   "source": [
    "**Remark**: the notes included in this challenge are a subset of those from 2010 challenge. In the paper <u>590 notes are included in the training set</u> and <u>388 in the testing set</u> but only the _Beth_ (N=194) and _Partners_ (N=230) datasets are available and the number of notes are consistent with those reported in the paper$^1$. As in the 2010 dataset a note is duplicated (same MRN: 139391631), see files _clinical-147.txt_ and _clinical-91.txt_ in the test set.\n",
    "\n",
    "1. Uzuner O, Bodnari A, Shen S, Forbush T, Pestian J, South BR. Evaluating the state of the art in coreference resolution for electronic medical records. J Am Med Inform Assoc. 2012 Sep-Oct;19(5):786-91. doi: 10.1136/amiajnl-2011-000784. Epub 2012 Feb 24. PMID: 22366294; PMCID: PMC3422835."
   ]
  },
  {
   "cell_type": "markdown",
   "metadata": {},
   "source": [
    "## Temporal relations (2012)"
   ]
  },
  {
   "cell_type": "code",
   "execution_count": 210,
   "metadata": {},
   "outputs": [],
   "source": [
    "tr_tr_files = []\n",
    "tr_ts_files = []\n",
    "for ff in os.listdir(data_folder + '/2012_temporal_relations/'):\n",
    "    if re.search('release-fix', ff):\n",
    "        for tf in os.listdir(os.path.join(data_folder + '/2012_temporal_relations', ff)):\n",
    "            if re.search('.txt', tf):\n",
    "                tr_tr_files.append('/'.join([ff, tf]))\n",
    "    elif re.search('test-data-release', ff):\n",
    "        for tf in os.listdir(os.path.join(data_folder + '/2012_temporal_relations', ff, 'txt')):\n",
    "            if not re.match('^\\.', tf):\n",
    "                        tr_ts_files.append('/'.join([ff, 'txt', tf]))"
   ]
  },
  {
   "cell_type": "code",
   "execution_count": 575,
   "metadata": {},
   "outputs": [],
   "source": [
    "parser_tr_tr = {}\n",
    "for tr_path in tr_tr_files:\n",
    "    text = read_txt(os.path.join(data_folder + '/2012_temporal_relations', tr_path))\n",
    "    tr_file = tr_path.split('/')[1]\n",
    "    tr_span = re.search(r'[0-9]+', tr_file).span()\n",
    "    idx = tr_file[tr_span[0]:tr_span[1]]\n",
    "    parser_tr_tr[idx] = text\n",
    "parser_tr_ts = {}\n",
    "for ts_path in tr_ts_files:\n",
    "    text = read_txt(os.path.join(data_folder + '/2012_temporal_relations', ts_path))\n",
    "    ts_file = ts_path.split('/')[2]\n",
    "    ts_span = re.search(r'[0-9]+', ts_file).span()\n",
    "    idx = ts_file[ts_span[0]:ts_span[1]]\n",
    "    parser_tr_ts[idx] = text"
   ]
  },
  {
   "cell_type": "code",
   "execution_count": 576,
   "metadata": {},
   "outputs": [
    {
     "data": {
      "text/markdown": [
       "**Training set notes**: 190"
      ],
      "text/plain": [
       "<IPython.core.display.Markdown object>"
      ]
     },
     "metadata": {},
     "output_type": "display_data"
    },
    {
     "data": {
      "text/markdown": [
       "**Test set notes**: 120"
      ],
      "text/plain": [
       "<IPython.core.display.Markdown object>"
      ]
     },
     "metadata": {},
     "output_type": "display_data"
    },
    {
     "data": {
      "text/markdown": [
       "**Total**: 310"
      ],
      "text/plain": [
       "<IPython.core.display.Markdown object>"
      ]
     },
     "metadata": {},
     "output_type": "display_data"
    }
   ],
   "source": [
    "display(Markdown(f\"**Training set notes**: {len(parser_tr_tr)}\"))\n",
    "display(Markdown(f\"**Test set notes**: {len(parser_tr_ts)}\"))\n",
    "display(Markdown(f\"**Total**: {len(parser_tr_tr) + len(parser_tr_ts)}\"))"
   ]
  },
  {
   "cell_type": "code",
   "execution_count": 577,
   "metadata": {},
   "outputs": [],
   "source": [
    "# Check if duplicated from 2010\n",
    "old_dt = [v.strip('\\n').lower() for v in parser_cac_tr.values()] + [v.strip('\\n').lower() for v in parser_cac_ts.values()]\n",
    "\n",
    "count_tr = 0\n",
    "count_ts = 0\n",
    "for note in parser_tr_tr.values():\n",
    "    if note.strip('\\n').lower() in old_dt:\n",
    "        count_tr += 1\n",
    "for note in parser_tr_ts.values():\n",
    "    if note.strip('\\n').lower() in old_dt:\n",
    "        count_ts += 1"
   ]
  },
  {
   "cell_type": "code",
   "execution_count": 578,
   "metadata": {},
   "outputs": [
    {
     "data": {
      "text/markdown": [
       "**Notes from 2010 challenge**: Tr: 0, Ts: 0"
      ],
      "text/plain": [
       "<IPython.core.display.Markdown object>"
      ]
     },
     "metadata": {},
     "output_type": "display_data"
    }
   ],
   "source": [
    "display(Markdown(f\"**Notes from 2010 challenge**: Tr: {count_tr}, Ts: {count_ts}\"))"
   ]
  },
  {
   "cell_type": "markdown",
   "metadata": {},
   "source": [
    "## Longitudinal annotated dataset (2014)"
   ]
  },
  {
   "cell_type": "code",
   "execution_count": 579,
   "metadata": {},
   "outputs": [],
   "source": [
    "long_tr_files = [tf for tf in os.listdir(data_folder + '/2014_heart_disease/training-RiskFactors-Complete-Set1/') if not re.match(r'^\\.', tf)]\n",
    "for tf in os.listdir(data_folder + '/2014_heart_disease/training-RiskFactors-Complete-Set2/'):\n",
    "    if not re.match(r'^\\.', tf):\n",
    "        long_tr_files.append(tf)\n",
    "long_ts_files = [tf for tf in os.listdir(data_folder + '/2014_heart_disease/testing-RiskFactors-Complete/') if not re.match(r'^\\.', tf)]"
   ]
  },
  {
   "cell_type": "code",
   "execution_count": 580,
   "metadata": {},
   "outputs": [],
   "source": [
    "parser_long_tr = {}\n",
    "for tr_file in sorted(long_tr_files):\n",
    "    try:\n",
    "        text = readXML(os.path.join(data_folder + '/2014_heart_disease', 'training-RiskFactors-Complete-Set1', tr_file))\n",
    "    except FileNotFoundError:\n",
    "        text = readXML(os.path.join(data_folder + '/2014_heart_disease', 'training-RiskFactors-Complete-Set2', tr_file))\n",
    "    span = re.search(r'[0-9]+-[0-9]+', tr_file).span()\n",
    "    idxt = tr_file[span[0]:span[1]].split('-')\n",
    "    idx = idxt[0]\n",
    "    n = idxt[1]\n",
    "    if idx in parser_long_tr:\n",
    "        parser_long_tr[idx][n] = text\n",
    "    else:\n",
    "        parser_long_tr[idx] = {n: text}\n",
    "\n",
    "parser_long_ts = {}\n",
    "for ts_file in sorted(long_ts_files):\n",
    "    text = readXML(os.path.join(data_folder + '/2014_heart_disease/testing-RiskFactors-Complete/', ts_file))\n",
    "    span = re.search(r'[0-9]+-[0-9]+', ts_file).span()\n",
    "    idxt = ts_file[span[0]:span[1]].split('-')\n",
    "    idx = idxt[0]\n",
    "    n = idxt[1]\n",
    "    if idx in parser_long_ts:\n",
    "        parser_long_ts[idx][n] = text\n",
    "    else:\n",
    "        parser_long_ts[idx] = {n: text}"
   ]
  },
  {
   "cell_type": "code",
   "execution_count": 581,
   "metadata": {},
   "outputs": [
    {
     "data": {
      "text/markdown": [
       "**Training set**: **patients** 178; **notes** 790"
      ],
      "text/plain": [
       "<IPython.core.display.Markdown object>"
      ]
     },
     "metadata": {},
     "output_type": "display_data"
    },
    {
     "data": {
      "text/markdown": [
       "**Test set**: **patients** 118; **notes** 514"
      ],
      "text/plain": [
       "<IPython.core.display.Markdown object>"
      ]
     },
     "metadata": {},
     "output_type": "display_data"
    },
    {
     "data": {
      "text/markdown": [
       "**Total**: **patients** 296; **notes**: 1304"
      ],
      "text/plain": [
       "<IPython.core.display.Markdown object>"
      ]
     },
     "metadata": {},
     "output_type": "display_data"
    }
   ],
   "source": [
    "display(Markdown(f\"**Training set**: **patients** {len(parser_long_tr)}; **notes** {sum([len(val) for val in parser_long_tr.values()])}\"))\n",
    "display(Markdown(f\"**Test set**: **patients** {len(parser_long_ts)}; **notes** {sum([len(val) for val in parser_long_ts.values()])}\"))\n",
    "display(Markdown(f\"**Total**: **patients** {len(parser_long_tr) + len(parser_long_ts)}; **notes**: {sum([len(val) for val in parser_long_tr.values()]) + sum([len(val) for val in parser_long_ts.values()])}\"))"
   ]
  },
  {
   "cell_type": "markdown",
   "metadata": {},
   "source": [
    "## Cohort selection (2018 - Task 1)"
   ]
  },
  {
   "cell_type": "code",
   "execution_count": 582,
   "metadata": {},
   "outputs": [],
   "source": [
    "parser_cs_tr = {}\n",
    "for tf in os.listdir(data_folder + '/2018_cohort_selection/train/'):\n",
    "    if not re.match(r'\\.', tf):\n",
    "        text = readXML(os.path.join(data_folder + '/2018_cohort_selection/train/', tf))\n",
    "        parser_cs_tr[tf.split('.')[0]] = text\n",
    "\n",
    "parser_cs_ts = {}\n",
    "for tf in os.listdir(data_folder + '/2018_cohort_selection/test_notags/'):\n",
    "    if not re.match(r'\\.', tf):\n",
    "        text = readXML(os.path.join(data_folder + '/2018_cohort_selection/test_notags/', tf))\n",
    "        parser_cs_ts[tf.split('.')[0]] = text"
   ]
  },
  {
   "cell_type": "code",
   "execution_count": 583,
   "metadata": {},
   "outputs": [
    {
     "data": {
      "text/markdown": [
       "**Training set notes**: 202"
      ],
      "text/plain": [
       "<IPython.core.display.Markdown object>"
      ]
     },
     "metadata": {},
     "output_type": "display_data"
    },
    {
     "data": {
      "text/markdown": [
       "**Test set notes**: 86"
      ],
      "text/plain": [
       "<IPython.core.display.Markdown object>"
      ]
     },
     "metadata": {},
     "output_type": "display_data"
    },
    {
     "data": {
      "text/markdown": [
       "**Total**: 288"
      ],
      "text/plain": [
       "<IPython.core.display.Markdown object>"
      ]
     },
     "metadata": {},
     "output_type": "display_data"
    }
   ],
   "source": [
    "display(Markdown(f\"**Training set notes**: {len(parser_cs_tr)}\"))\n",
    "display(Markdown(f\"**Test set notes**: {len(parser_cs_ts)}\"))\n",
    "display(Markdown(f\"**Total**: {len(parser_cs_tr) + len(parser_cs_ts)}\"))"
   ]
  },
  {
   "cell_type": "markdown",
   "metadata": {},
   "source": [
    "**Remark**: Notes for this task are taken from the 2014 longitudinal dataset. On a first impression it looks like each note is obtained concatenating longitudinal notes for each patient. Hereafter we investigate if that is the case."
   ]
  },
  {
   "cell_type": "code",
   "execution_count": 584,
   "metadata": {},
   "outputs": [
    {
     "data": {
      "text/markdown": [
       "Training/Training perfect concatenation: 125"
      ],
      "text/plain": [
       "<IPython.core.display.Markdown object>"
      ]
     },
     "metadata": {},
     "output_type": "display_data"
    },
    {
     "data": {
      "text/markdown": [
       "Training/Training concatenation with one note less: 3"
      ],
      "text/plain": [
       "<IPython.core.display.Markdown object>"
      ]
     },
     "metadata": {},
     "output_type": "display_data"
    },
    {
     "data": {
      "text/markdown": [
       "Training/Testing perfect concatenation: 74"
      ],
      "text/plain": [
       "<IPython.core.display.Markdown object>"
      ]
     },
     "metadata": {},
     "output_type": "display_data"
    },
    {
     "data": {
      "text/markdown": [
       "**Total training count**: 202"
      ],
      "text/plain": [
       "<IPython.core.display.Markdown object>"
      ]
     },
     "metadata": {},
     "output_type": "display_data"
    }
   ],
   "source": [
    "#Training\n",
    "count_same = []\n",
    "count_diff = []\n",
    "for idx in parser_cs_tr.keys():\n",
    "    try:\n",
    "        count_same.append(len(re.findall(r'Record date: [0-9]{4}-[0-9]{2}-[0-9]{2}', parser_cs_tr[idx])) - len(parser_long_tr[idx]))\n",
    "    except KeyError:\n",
    "        count_diff.append(len(re.findall(r'Record date: [0-9]{4}-[0-9]{2}-[0-9]{2}', parser_cs_tr[idx])) - len(parser_long_ts[idx]))\n",
    "        \n",
    "display(Markdown(f\"Training/Training perfect concatenation: {len([c for c in count_same if c==0])}\"))\n",
    "display(Markdown(f\"Training/Training concatenation with one note less: {len([c for c in count_same if c==-1])}\"))\n",
    "display(Markdown(f\"Training/Testing perfect concatenation: {len([c for c in count_diff if c==0])}\"))\n",
    "display(Markdown(f\"**Total training count**: {len([c for c in count_same if c==0]) + len([c for c in count_same if c==-1]) + len([c for c in count_diff if c==0])}\"))"
   ]
  },
  {
   "cell_type": "code",
   "execution_count": 585,
   "metadata": {},
   "outputs": [
    {
     "data": {
      "text/markdown": [
       "Testing/Testing perfect concatenation: 39"
      ],
      "text/plain": [
       "<IPython.core.display.Markdown object>"
      ]
     },
     "metadata": {},
     "output_type": "display_data"
    },
    {
     "data": {
      "text/markdown": [
       "Testing/Training perfect concatenation: 47"
      ],
      "text/plain": [
       "<IPython.core.display.Markdown object>"
      ]
     },
     "metadata": {},
     "output_type": "display_data"
    },
    {
     "data": {
      "text/markdown": [
       "**Total training count**: 86"
      ],
      "text/plain": [
       "<IPython.core.display.Markdown object>"
      ]
     },
     "metadata": {},
     "output_type": "display_data"
    }
   ],
   "source": [
    "#Testing\n",
    "count_same = []\n",
    "count_diff = []\n",
    "for idx in parser_cs_ts.keys():\n",
    "    try:\n",
    "        count_same.append(len(re.findall(r'Record date: [0-9]{4}-[0-9]{2}-[0-9]{2}', parser_cs_ts[idx])) - len(parser_long_ts[idx]))\n",
    "    except KeyError:\n",
    "        count_diff.append(len(re.findall(r'Record date: [0-9]{4}-[0-9]{2}-[0-9]{2}', parser_cs_ts[idx])) - len(parser_long_tr[idx]))\n",
    "        \n",
    "display(Markdown(f\"Testing/Testing perfect concatenation: {len([c for c in count_same if c==0])}\"))\n",
    "display(Markdown(f\"Testing/Training perfect concatenation: {len([c for c in count_diff if c==0])}\"))\n",
    "display(Markdown(f\"**Total training count**: {len([c for c in count_same if c==0]) + len([c for c in count_diff if c==0])}\"))"
   ]
  },
  {
   "cell_type": "markdown",
   "metadata": {},
   "source": [
    "## Medication extraction (2018 - Task 2)"
   ]
  },
  {
   "cell_type": "code",
   "execution_count": 6,
   "metadata": {},
   "outputs": [],
   "source": [
    "parser_me_tr = {}\n",
    "for tf in os.listdir(data_folder + '/2018_medication_extraction/training_20180910/'):\n",
    "    if re.search('.txt', tf):\n",
    "        text = read_txt(os.path.join(data_folder + '/2018_medication_extraction/training_20180910', tf))\n",
    "        idx = tf.split('.')[0]\n",
    "        parser_me_tr[idx] = text\n",
    "parser_me_ts = {}\n",
    "for tf in os.listdir(data_folder + '/2018_medication_extraction/test/'):\n",
    "    if re.search('.txt', tf):\n",
    "        text = read_txt(os.path.join(data_folder + '/2018_medication_extraction/test', tf))\n",
    "        idx = tf.split('.')[0]\n",
    "        parser_me_ts[idx] = text"
   ]
  },
  {
   "cell_type": "code",
   "execution_count": 587,
   "metadata": {},
   "outputs": [
    {
     "data": {
      "text/markdown": [
       "**Training set notes**: 303"
      ],
      "text/plain": [
       "<IPython.core.display.Markdown object>"
      ]
     },
     "metadata": {},
     "output_type": "display_data"
    },
    {
     "data": {
      "text/markdown": [
       "**Test set notes**: 202"
      ],
      "text/plain": [
       "<IPython.core.display.Markdown object>"
      ]
     },
     "metadata": {},
     "output_type": "display_data"
    },
    {
     "data": {
      "text/markdown": [
       "**Total**: 505"
      ],
      "text/plain": [
       "<IPython.core.display.Markdown object>"
      ]
     },
     "metadata": {},
     "output_type": "display_data"
    }
   ],
   "source": [
    "display(Markdown(f\"**Training set notes**: {len(parser_me_tr)}\"))\n",
    "display(Markdown(f\"**Test set notes**: {len(parser_me_ts)}\"))\n",
    "display(Markdown(f\"**Total**: {len(parser_me_tr) + len(parser_me_ts)}\"))"
   ]
  },
  {
   "cell_type": "markdown",
   "metadata": {},
   "source": [
    "# Create unique dataset for language modeling"
   ]
  },
  {
   "cell_type": "code",
   "execution_count": 588,
   "metadata": {},
   "outputs": [
    {
     "data": {
      "text/markdown": [
       "Training Notes: 2932 -- Notes from datasets: 2932"
      ],
      "text/plain": [
       "<IPython.core.display.Markdown object>"
      ]
     },
     "metadata": {},
     "output_type": "display_data"
    }
   ],
   "source": [
    "tr_vect = [parser_smk_tr.notes, \n",
    "           parser_ob_tr.notes, \n",
    "           parser_med_tr, \n",
    "           parser_cac_tr, \n",
    "           parser_tr_tr, \n",
    "           {k: ' '.join([n for n in notes.values()]) for k, notes in parser_long_tr.items()}, \n",
    "           parser_me_tr]\n",
    "\n",
    "dt_tr = {}\n",
    "\n",
    "for chk, tr in enumerate(tr_vect):\n",
    "    for k, note in tr.items():\n",
    "        if k in dt_tr:\n",
    "            i = len([idx for idx in dt_tr.keys() if re.match(k, idx)])\n",
    "            dt_tr['_'.join([k, str(i)])] = note\n",
    "        else:\n",
    "            dt_tr[k] = note\n",
    "            \n",
    "display(Markdown(f\"Training Notes: {len(dt_tr)} -- Notes from datasets: {sum([len(dd) for dd in tr_vect])}\"))"
   ]
  },
  {
   "cell_type": "code",
   "execution_count": 589,
   "metadata": {},
   "outputs": [
    {
     "data": {
      "text/markdown": [
       "Testing Notes: 1859 -- Notes from datasets: 1859"
      ],
      "text/plain": [
       "<IPython.core.display.Markdown object>"
      ]
     },
     "metadata": {},
     "output_type": "display_data"
    }
   ],
   "source": [
    "ts_vect = [parser_smk_ts.notes, \n",
    "           parser_ob_ts.notes, \n",
    "           parser_med_ts, \n",
    "           parser_cac_ts, \n",
    "           parser_tr_ts, \n",
    "           {k: ' '.join([n for n in notes.values()]) for k, notes in parser_long_ts.items()}, \n",
    "           parser_me_ts]\n",
    "\n",
    "dt_ts = {}\n",
    "\n",
    "for chk, ts in enumerate(ts_vect):\n",
    "    for k, note in ts.items():\n",
    "        if k in dt_ts:\n",
    "            i = len([idx for idx in dt_ts.keys() if re.match(k, idx)])\n",
    "            dt_ts['_'.join([k, str(i)])] = note\n",
    "        else:\n",
    "            dt_ts[k] = note\n",
    "            \n",
    "display(Markdown(f\"Testing Notes: {len(dt_ts)} -- Notes from datasets: {sum([len(dd) for dd in ts_vect])}\"))"
   ]
  },
  {
   "cell_type": "code",
   "execution_count": 40,
   "metadata": {},
   "outputs": [
    {
     "name": "stdout",
     "output_type": "stream",
     "text": [
      "e . however she had area of cancer which will required surgical resection . thus she was referred to us. in order to undergo aortic balloon valvuloplasty as a bridge to her larynx surgery . allergies \n",
      "oking no etoh pt lives alone in die he was born raised in lo and flew planes in wwii after coming to us. in 1950's he worked as radiology tech @ sun de ed course afebrile vss exam notable for firm dis\n",
      ". - gyn ct pelvis did show r adnexal cyst on prelim read which will need further characterization by us. and outpt follow up. - cv she has extensive cardiac history as above. her fall is not likely re\n",
      "y of significant coronary artery disease and other medical problems as stated above who presented to us. in the emergency department complaining of chest pain. the patient was admitted recently on jan\n",
      "e mental status changes but these studies were deferred given the lack of interventions available to us. given the patient's decreased functional status. we did however obtained a transthoracic echoca\n",
      "pertension hyperlipidemia with a known ef of 25 to 30% and history of graves disease who presents to us. after a fall at home with a chief complaint of left shoulder pain. the patient states on the mo\n",
      "y of significant coronary artery disease and other medical problems as stated above who presented to us. in the emergency department complaining of chest pain. the patient was admitted recently on mar\n",
      "ry of type ii diabetes mellitus congestive heart failure peripheral vascular disease who presents to us. with right leg swelling pain and tenderness times 2-3 days. the patient was last discharged fro\n",
      "e mental status changes but these studies were deferred given the lack of interventions available to us. given the patient's decreased functional status. we did however obtained a transthoracic echoca\n",
      " mri brain eeg lumbar puncture . in concert with the neurology service who followed the patient with us. we ordered an eeg and mri with susceptibilities and dwi . an lumbar puncture was performed in w\n",
      "e . however she had area of cancer which will required surgical resection . thus she was referred to us. in order to undergo aortic balloon valvuloplasty as a bridge to her larynx surgery . allergies \n",
      "ascites . us finding pt was incidentally found to have r hydronephrosis and a r adenexal mass on her us . the hydronephrosis was likely caused by blockage by her tumor . given her disease prognosis an\n",
      "is should improve after he is further from his complicated hospital/icu stay. at his next visit with us. next month we will recheck his c-reactive protein esr iron studies/ferritin for some idea of wh\n",
      "ent to north iowa oral surgery center where they discovered her to be in heart block and sent her to us. review of systems. negative for fever chills chest pain shortness of breath and abdominal pain.\n",
      "in a tte without bubbles for our annual review and will call her once these results are available to us. we agree with continuation of her asa therapy and will see her in follow up appointment in 1 ye\n",
      "e have urged to continue to take unusual non-stereotyped deficits seriously. she will follow-up with us. in 4-6 months or sooner if the need arises. thank you for allowing us to participate in the car\n",
      "he most part with a left internal carotid artery stenosis that was less than 50%. she is referred to us. today for an opinion as to how to manage the possible patent foramen ovale. this lady has never\n",
      "y would prefer to have his treatment carried out at the elk ridge health center in coordination with us. this seems quite reasonable and we will proceed to set that up. i will also get a ca19-9 today \n",
      "eumonia vaccine. thank you for allowing me to participate in mr gregg's care. he will follow up with us. on a routine basis in 6 month's time but will contact us sooner should he develop more symptoms\n",
      "t sure what is causing this. she may have a primary pulmonary problem. she will be following up with us. in one week. it is heartening to see that she does not have an abnormal exercise tolerance test\n",
      "nt shortness of breath. history of presenting complaint this is a 59 year old female who presents to us. with shortness of breath tonight. she has been developing shortness of breath now with nausea a\n",
      "w transplant which was negative. whether this was a hodgkin's or non-hodgki's lymphoma is unclear to us. but he was treated with bleomycin adriamycin and prednisone for approximately 26 weeks. at that\n",
      "e md renal consult note it is a pleasure seeing seeing ms yount in consultation. she was referred to us. by dr michael. ms yount has a history of diabetes mellitus for the last seven years. she also h\n",
      ". unfortunately he did take his cyclosporin this morning and therefore he will mail his labs back to us. i did discuss with him attempting some weight loss with portion control. i think it might work \n",
      " s/p unsuccessful intrabronchial stent placement in 2101-12-29 . she has been lost to follow up with us. since 2101 . in the mean time she was being seen by dr last name stitle 12517 name stitle 16991\n",
      "uld not be aspirated. the patient's lung was imaged by the interventional pulmonology ip fellow with us. and thick fluid vs consildation vs lung parenchyma was obseved. the ip fellow suggested that a \n",
      "fluenza a direct influenza b antigen test final 2114-12-19 negative for influenza b 2114-12-19 liver us . impression no intra or extra-hepatic biliary duct dilatation. small amount of free perihepatic\n",
      "skin tape. change every day. we have made numerous changes to your medications during your stay with us. please take the following medications as described post-discharge medications albumin please ta\n",
      "al history other than tb no medical history. tb was found on routine screening prior to migrating to us. he has never experienced respiratory symptoms. he received nine months of therapy. social histo\n",
      "cu intubated and an urgent pulmonology consult was requested. our pulmonology colleagues agreed with us. that she was retaining fluid leading to pulmonary edema so we removed all iv fluid and began di\n",
      "ealed pseudoaneurysm of the femoral artery with bleeding resolved by thrombin injection confirmed by us. the patient developed fever on 2120-7-15 and increased oxygen requirement. 8/8 bottles were gro\n",
      "mental status/obtunded rhabdo fevers and increased stiffness after found down at home transferred to us. from hospital1 487 for worsened fever rigidity ck had indications of rhabdo. his mental status \n"
     ]
    }
   ],
   "source": [
    "notes = pkl.load(open('./data/train_n2c2_datasets_preprocessed.pkl', 'rb'))\n",
    "for n in notes:\n",
    "    fa = re.findall(' us ?\\. ', n[1])\n",
    "    if len(fa) > 0:\n",
    "#         print(n)\n",
    "#         print(re.sub(r'\\t+', ' ', n[1]))\n",
    "#         print(re.findall(' [a-z]{1,3}\\. ', n[1]))\n",
    "#         print(re.findall(' [a-z]{1,3}\\. ?[a-z]+\\. ', n[1]))\n",
    "        print(n[1][re.search(' us ?\\. ', n[1]).span()[0]-100:re.search(' us ?\\. ', n[1]).span()[0]+100])"
   ]
  },
  {
   "cell_type": "code",
   "execution_count": 37,
   "metadata": {},
   "outputs": [],
   "source": [
    "notes = pkl.load(open('./data/test_n2c2_datasets_preprocessed.pkl', 'rb'))\n",
    "for n in notes:\n",
    "    fa = re.findall(' nt\\. bs\\. ', n[1])\n",
    "    if len(fa) > 0:\n",
    "#         print(n)\n",
    "#         print(re.sub(r'\\t+', ' ', n[1]))\n",
    "#         print(re.findall(' [a-z]{1,3}\\. ', n[1]))\n",
    "#         print(re.findall(' [a-z]{1,3}\\. ?[a-z]+\\. ', n[1]))\n",
    "        print(n[1][re.search(' nt\\. bs\\. ', n[1]).span()[0]-100:re.search(' nt\\. bs\\. ', n[1]).span()[0]+100])"
   ]
  },
  {
   "cell_type": "code",
   "execution_count": 749,
   "metadata": {},
   "outputs": [
    {
     "name": "stdout",
     "output_type": "stream",
     "text": [
      "279 03\n"
     ]
    }
   ],
   "source": [
    "prova = \"279::03\".split('::')\n",
    "a, b = prova[0], prova[1]\n",
    "print(a, b)"
   ]
  },
  {
   "cell_type": "code",
   "execution_count": 798,
   "metadata": {},
   "outputs": [],
   "source": [
    "from collections import namedtuple\n",
    "\n",
    "wn_redundancy = namedtuple('wn_redundancy', ['note_id', 'nr_score', 'counts', 'challenge'])\n",
    "bp_redundancy = namedtuple('bp_redundancy', ['sen_A', 'sen_B', 'align_A', 'align_B', 'align_score', 'ovrlp_score'])\n",
    "\n",
    "notes = pkl.load(open(os.path.join(ut.data_folder, 'train_bp_redundancy.pkl'), 'rb'))"
   ]
  },
  {
   "cell_type": "code",
   "execution_count": 799,
   "metadata": {
    "collapsed": true,
    "jupyter": {
     "outputs_hidden": true
    }
   },
   "outputs": [
    {
     "data": {
      "text/plain": [
       "[bp_redundancy(sen_A='hypertension', sen_B='abdomen is soft nontender positive bowel sounds', align_A=['hypertension', '-', '-', '-', '-', '-', '-', '-'], align_B=['-', 'abdomen', 'is', 'soft', 'nontender', 'positive', 'bowel', 'sounds'], align_score=-1.6, ovrlp_score=0.0),\n",
       " bp_redundancy(sen_A='hypertension', sen_B='lower extremities no edema nontender', align_A=['hypertension', '-', '-', '-', '-', '-'], align_B=['-', 'lower', 'extremities', 'no', 'edema', 'nontender'], align_score=-1.4, ovrlp_score=0.0),\n",
       " bp_redundancy(sen_A='hypertension', sen_B='briefly 70 yo f w htn dm2 stable angina who is transferred to nsh on 4/3/89 with aortic valve endocarditis complicated by ai and chf', align_A=['hypertension', '-', '-', '-', '-', '-', '-', '-', '-', '-', '-', '-', '-', '-', '-', '-', '-', '-', '-', '-', '-', '-', '-', '-', '-', '-'], align_B=['-', 'briefly', '70', 'yo', 'f', 'w', 'htn', 'dm2', 'stable', 'angina', 'who', 'is', 'transferred', 'to', 'nsh', 'on', '4/3/89', 'with', 'aortic', 'valve', 'endocarditis', 'complicated', 'by', 'ai', 'and', 'chf'], align_score=-3.4, ovrlp_score=0.0),\n",
       " bp_redundancy(sen_A='hypertension', sen_B='she was in her usoh until 2/8/89 when she had an episode of shingles on r arm for which she took valtrex', align_A=['hypertension', '-', '-', '-', '-', '-', '-', '-', '-', '-', '-', '-', '-', '-', '-', '-', '-', '-', '-', '-', '-', '-', '-'], align_B=['-', 'she', 'was', 'in', 'her', 'usoh', 'until', '2/8/89', 'when', 'she', 'had', 'an', 'episode', 'of', 'shingles', 'on', 'r', 'arm', 'for', 'which', 'she', 'took', 'valtrex'], align_score=-3.1, ovrlp_score=0.0),\n",
       " bp_redundancy(sen_A='hypertension', sen_B='soon after she began to feel fatigued and febrile and was found to have a 2/2 bottles positive for group b streptococcus on 2/21 pcn mic 0.125 for which her pcp treated her with 2 week course of amoxicillin', align_A=['hypertension', '-', '-', '-', '-', '-', '-', '-', '-', '-', '-', '-', '-', '-', '-', '-', '-', '-', '-', '-', '-', '-', '-', '-', '-', '-', '-', '-', '-', '-', '-', '-', '-', '-', '-', '-', '-', '-', '-', '-'], align_B=['-', 'soon', 'after', 'she', 'began', 'to', 'feel', 'fatigued', 'and', 'febrile', 'and', 'was', 'found', 'to', 'have', 'a', '2/2', 'bottles', 'positive', 'for', 'group', 'b', 'streptococcus', 'on', '2/21', 'pcn', 'mic', '0.125', 'for', 'which', 'her', 'pcp', 'treated', 'her', 'with', '2', 'week', 'course', 'of', 'amoxicillin'], align_score=-4.8, ovrlp_score=0.0),\n",
       " bp_redundancy(sen_A='hypertension', sen_B='on 4/3 she presents with sob orthopnea and pnd', align_A=['hypertension', '-', '-', '-', '-', '-', '-', '-', '-', '-'], align_B=['-', 'on', '4/3', 'she', 'presents', 'with', 'sob', 'orthopnea', 'and', 'pnd'], align_score=-1.7999999999999998, ovrlp_score=0.0),\n",
       " bp_redundancy(sen_A='hypertension', sen_B='she developed doe pnd orthopnea worsening fatigue and malaise', align_A=['hypertension', '-', '-', '-', '-', '-', '-', '-', '-', '-'], align_B=['-', 'she', 'developed', 'doe', 'pnd', 'orthopnea', 'worsening', 'fatigue', 'and', 'malaise'], align_score=-1.7999999999999998, ovrlp_score=0.0),\n",
       " bp_redundancy(sen_A='hypertension', sen_B='cxr at osh notable for pulm edema and tte demonstrated vegetation on the aortic valve', align_A=['hypertension', '-', '-', '-', '-', '-', '-', '-', '-', '-', '-', '-', '-', '-', '-', '-'], align_B=['-', 'cxr', 'at', 'osh', 'notable', 'for', 'pulm', 'edema', 'and', 'tte', 'demonstrated', 'vegetation', 'on', 'the', 'aortic', 'valve'], align_score=-2.4, ovrlp_score=0.0),\n",
       " bp_redundancy(sen_A='hypertension', sen_B='she was transferred to nsh where she was started on ampicillin 1gm iv q8h and gentamicin 120 mg tid', align_A=['hypertension', '-', '-', '-', '-', '-', '-', '-', '-', '-', '-', '-', '-', '-', '-', '-', '-', '-', '-', '-'], align_B=['-', 'she', 'was', 'transferred', 'to', 'nsh', 'where', 'she', 'was', 'started', 'on', 'ampicillin', '1gm', 'iv', 'q8h', 'and', 'gentamicin', '120', 'mg', 'tid'], align_score=-2.8000000000000003, ovrlp_score=0.0),\n",
       " bp_redundancy(sen_A='hypertension', sen_B='tte 4/4 showed a mobile mass of echoes attached to the valve c/w vegetation', align_A=['hypertension', '-', '-', '-', '-', '-', '-', '-', '-', '-', '-', '-', '-', '-', '-'], align_B=['-', 'tte', '4/4', 'showed', 'a', 'mobile', 'mass', 'of', 'echoes', 'attached', 'to', 'the', 'valve', 'c/w', 'vegetation'], align_score=-2.3, ovrlp_score=0.0),\n",
       " bp_redundancy(sen_A='hypertension', sen_B='the right coronary leaflet appears flail and there was prolapse of the non-coronary cusp as well', align_A=['hypertension', '-', '-', '-', '-', '-', '-', '-', '-', '-', '-', '-', '-', '-', '-', '-', '-'], align_B=['-', 'the', 'right', 'coronary', 'leaflet', 'appears', 'flail', 'and', 'there', 'was', 'prolapse', 'of', 'the', 'non-coronary', 'cusp', 'as', 'well'], align_score=-2.5, ovrlp_score=0.0),\n",
       " bp_redundancy(sen_A='hypertension', sen_B='there was evidence of at least moderate aortic insufficiency by color and spectral doppler', align_A=['hypertension', '-', '-', '-', '-', '-', '-', '-', '-', '-', '-', '-', '-', '-', '-'], align_B=['-', 'there', 'was', 'evidence', 'of', 'at', 'least', 'moderate', 'aortic', 'insufficiency', 'by', 'color', 'and', 'spectral', 'doppler'], align_score=-2.3, ovrlp_score=0.0),\n",
       " bp_redundancy(sen_A='hypertension', sen_B='she went to the or on 4/5 cabg tee homograft aortic root placement oin the or the aortic valve was severely damaged', align_A=['hypertension', '-', '-', '-', '-', '-', '-', '-', '-', '-', '-', '-', '-', '-', '-', '-', '-', '-', '-', '-', '-', '-', '-'], align_B=['-', 'she', 'went', 'to', 'the', 'or', 'on', '4/5', 'cabg', 'tee', 'homograft', 'aortic', 'root', 'placement', 'oin', 'the', 'or', 'the', 'aortic', 'valve', 'was', 'severely', 'damaged'], align_score=-3.1, ovrlp_score=0.0),\n",
       " bp_redundancy(sen_A='hypertension', sen_B='there was perforation of the right coronary leaflet and there were numerous vegetations which appeared to be rolled up aortic valve tissue on predominantly the right and noncoronary leaflets', align_A=['hypertension', '-', '-', '-', '-', '-', '-', '-', '-', '-', '-', '-', '-', '-', '-', '-', '-', '-', '-', '-', '-', '-', '-', '-', '-', '-', '-', '-', '-', '-'], align_B=['-', 'there', 'was', 'perforation', 'of', 'the', 'right', 'coronary', 'leaflet', 'and', 'there', 'were', 'numerous', 'vegetations', 'which', 'appeared', 'to', 'be', 'rolled', 'up', 'aortic', 'valve', 'tissue', 'on', 'predominantly', 'the', 'right', 'and', 'noncoronary', 'leaflets'], align_score=-3.8000000000000003, ovrlp_score=0.0),\n",
       " bp_redundancy(sen_A='hypertension', sen_B='underneath the annulus of the right coronary there was an area of early abscess formation', align_A=['hypertension', '-', '-', '-', '-', '-', '-', '-', '-', '-', '-', '-', '-', '-', '-', '-'], align_B=['-', 'underneath', 'the', 'annulus', 'of', 'the', 'right', 'coronary', 'there', 'was', 'an', 'area', 'of', 'early', 'abscess', 'formation'], align_score=-2.4, ovrlp_score=0.0),\n",
       " bp_redundancy(sen_A='hypertension', sen_B='gram stain of tissues was negative for organisms and cultures were negative', align_A=['hypertension', '-', '-', '-', '-', '-', '-', '-', '-', '-', '-', '-', '-'], align_B=['-', 'gram', 'stain', 'of', 'tissues', 'was', 'negative', 'for', 'organisms', 'and', 'cultures', 'were', 'negative'], align_score=-2.1, ovrlp_score=0.0),\n",
       " bp_redundancy(sen_A='hypertension', sen_B='pathology was notable for numerous degenerated bacterial coccal forms present on silver stain consistent with streptococcus', align_A=['hypertension', '-', '-', '-', '-', '-', '-', '-', '-', '-', '-', '-', '-', '-', '-', '-', '-'], align_B=['-', 'pathology', 'was', 'notable', 'for', 'numerous', 'degenerated', 'bacterial', 'coccal', 'forms', 'present', 'on', 'silver', 'stain', 'consistent', 'with', 'streptococcus'], align_score=-2.5, ovrlp_score=0.0),\n",
       " bp_redundancy(sen_A='hypertension', sen_B='occasional residual gram positive cocci present on brown-hopps stain', align_A=['hypertension', '-', '-', '-', '-', '-', '-', '-', '-', '-'], align_B=['-', 'occasional', 'residual', 'gram', 'positive', 'cocci', 'present', 'on', 'brown-hopps', 'stain'], align_score=-1.7999999999999998, ovrlp_score=0.0),\n",
       " bp_redundancy(sen_A='abdomen is soft nontender positive bowel sounds', sen_B='lower extremities no edema nontender', align_A=['abdomen', 'is', 'soft', '-', '-', '-', '-', 'nontender', 'positive', 'bowel', 'sounds'], align_B=['-', '-', '-', 'lower', 'extremities', 'no', 'edema', 'nontender', '-', '-', '-'], align_score=-0.20000000000000023, ovrlp_score=0.14285714285714285),\n",
       " bp_redundancy(sen_A='abdomen is soft nontender positive bowel sounds', sen_B='briefly 70 yo f w htn dm2 stable angina who is transferred to nsh on 4/3/89 with aortic valve endocarditis complicated by ai and chf', align_A=['abdomen', '-', '-', '-', '-', '-', '-', '-', '-', '-', '-', 'is', 'soft', 'nontender', 'positive', 'bowel', 'sounds', '-', '-', '-', '-', '-', '-', '-', '-', '-', '-', '-', '-', '-', '-'], align_B=['-', 'briefly', '70', 'yo', 'f', 'w', 'htn', 'dm2', 'stable', 'angina', 'who', 'is', '-', '-', '-', '-', '-', 'transferred', 'to', 'nsh', 'on', '4/3/89', 'with', 'aortic', 'valve', 'endocarditis', 'complicated', 'by', 'ai', 'and', 'chf'], align_score=-2.6000000000000005, ovrlp_score=0.14285714285714285),\n",
       " bp_redundancy(sen_A='abdomen is soft nontender positive bowel sounds', sen_B='she was in her usoh until 2/8/89 when she had an episode of shingles on r arm for which she took valtrex', align_A=['abdomen', 'is', 'soft', 'nontender', 'positive', 'bowel', 'sounds', '-', '-', '-', '-', '-', '-', '-', '-', '-', '-', '-', '-', '-', '-', '-', '-', '-', '-', '-', '-', '-', '-'], align_B=['-', '-', '-', '-', '-', '-', '-', 'she', 'was', 'in', 'her', 'usoh', 'until', '2/8/89', 'when', 'she', 'had', 'an', 'episode', 'of', 'shingles', 'on', 'r', 'arm', 'for', 'which', 'she', 'took', 'valtrex'], align_score=-3.7000000000000006, ovrlp_score=0.0),\n",
       " bp_redundancy(sen_A='abdomen is soft nontender positive bowel sounds', sen_B='soon after she began to feel fatigued and febrile and was found to have a 2/2 bottles positive for group b streptococcus on 2/21 pcn mic 0.125 for which her pcp treated her with 2 week course of amoxicillin', align_A=['abdomen', 'is', 'soft', 'nontender', '-', '-', '-', '-', '-', '-', '-', '-', '-', '-', '-', '-', '-', '-', '-', '-', '-', 'positive', 'bowel', 'sounds', '-', '-', '-', '-', '-', '-', '-', '-', '-', '-', '-', '-', '-', '-', '-', '-', '-', '-', '-', '-', '-'], align_B=['-', '-', '-', '-', 'soon', 'after', 'she', 'began', 'to', 'feel', 'fatigued', 'and', 'febrile', 'and', 'was', 'found', 'to', 'have', 'a', '2/2', 'bottles', 'positive', '-', '-', 'for', 'group', 'b', 'streptococcus', 'on', '2/21', 'pcn', 'mic', '0.125', 'for', 'which', 'her', 'pcp', 'treated', 'her', 'with', '2', 'week', 'course', 'of', 'amoxicillin'], align_score=-4.000000000000002, ovrlp_score=0.14285714285714285),\n",
       " bp_redundancy(sen_A='abdomen is soft nontender positive bowel sounds', sen_B='on 4/3 she presents with sob orthopnea and pnd', align_A=['abdomen', 'is', 'soft', 'nontender', 'positive', 'bowel', 'sounds', '-', '-', '-', '-', '-', '-', '-', '-', '-'], align_B=['-', '-', '-', '-', '-', '-', '-', 'on', '4/3', 'she', 'presents', 'with', 'sob', 'orthopnea', 'and', 'pnd'], align_score=-2.4000000000000004, ovrlp_score=0.0),\n",
       " bp_redundancy(sen_A='abdomen is soft nontender positive bowel sounds', sen_B='she developed doe pnd orthopnea worsening fatigue and malaise', align_A=['abdomen', 'is', 'soft', 'nontender', 'positive', 'bowel', 'sounds', '-', '-', '-', '-', '-', '-', '-', '-', '-'], align_B=['-', '-', '-', '-', '-', '-', '-', 'she', 'developed', 'doe', 'pnd', 'orthopnea', 'worsening', 'fatigue', 'and', 'malaise'], align_score=-2.4000000000000004, ovrlp_score=0.0),\n",
       " bp_redundancy(sen_A='abdomen is soft nontender positive bowel sounds', sen_B='cxr at osh notable for pulm edema and tte demonstrated vegetation on the aortic valve', align_A=['abdomen', 'is', 'soft', 'nontender', 'positive', 'bowel', 'sounds', '-', '-', '-', '-', '-', '-', '-', '-', '-', '-', '-', '-', '-', '-', '-'], align_B=['-', '-', '-', '-', '-', '-', '-', 'cxr', 'at', 'osh', 'notable', 'for', 'pulm', 'edema', 'and', 'tte', 'demonstrated', 'vegetation', 'on', 'the', 'aortic', 'valve'], align_score=-3.0000000000000004, ovrlp_score=0.0),\n",
       " bp_redundancy(sen_A='abdomen is soft nontender positive bowel sounds', sen_B='she was transferred to nsh where she was started on ampicillin 1gm iv q8h and gentamicin 120 mg tid', align_A=['abdomen', 'is', 'soft', 'nontender', 'positive', 'bowel', 'sounds', '-', '-', '-', '-', '-', '-', '-', '-', '-', '-', '-', '-', '-', '-', '-', '-', '-', '-', '-'], align_B=['-', '-', '-', '-', '-', '-', '-', 'she', 'was', 'transferred', 'to', 'nsh', 'where', 'she', 'was', 'started', 'on', 'ampicillin', '1gm', 'iv', 'q8h', 'and', 'gentamicin', '120', 'mg', 'tid'], align_score=-3.400000000000001, ovrlp_score=0.0),\n",
       " bp_redundancy(sen_A='abdomen is soft nontender positive bowel sounds', sen_B='tte 4/4 showed a mobile mass of echoes attached to the valve c/w vegetation', align_A=['abdomen', 'is', 'soft', 'nontender', 'positive', 'bowel', 'sounds', '-', '-', '-', '-', '-', '-', '-', '-', '-', '-', '-', '-', '-', '-'], align_B=['-', '-', '-', '-', '-', '-', '-', 'tte', '4/4', 'showed', 'a', 'mobile', 'mass', 'of', 'echoes', 'attached', 'to', 'the', 'valve', 'c/w', 'vegetation'], align_score=-2.9000000000000004, ovrlp_score=0.0),\n",
       " bp_redundancy(sen_A='abdomen is soft nontender positive bowel sounds', sen_B='the right coronary leaflet appears flail and there was prolapse of the non-coronary cusp as well', align_A=['abdomen', 'is', 'soft', 'nontender', 'positive', 'bowel', 'sounds', '-', '-', '-', '-', '-', '-', '-', '-', '-', '-', '-', '-', '-', '-', '-', '-'], align_B=['-', '-', '-', '-', '-', '-', '-', 'the', 'right', 'coronary', 'leaflet', 'appears', 'flail', 'and', 'there', 'was', 'prolapse', 'of', 'the', 'non-coronary', 'cusp', 'as', 'well'], align_score=-3.1000000000000005, ovrlp_score=0.0),\n",
       " bp_redundancy(sen_A='abdomen is soft nontender positive bowel sounds', sen_B='there was evidence of at least moderate aortic insufficiency by color and spectral doppler', align_A=['abdomen', 'is', 'soft', 'nontender', 'positive', 'bowel', 'sounds', '-', '-', '-', '-', '-', '-', '-', '-', '-', '-', '-', '-', '-', '-'], align_B=['-', '-', '-', '-', '-', '-', '-', 'there', 'was', 'evidence', 'of', 'at', 'least', 'moderate', 'aortic', 'insufficiency', 'by', 'color', 'and', 'spectral', 'doppler'], align_score=-2.9000000000000004, ovrlp_score=0.0),\n",
       " bp_redundancy(sen_A='abdomen is soft nontender positive bowel sounds', sen_B='she went to the or on 4/5 cabg tee homograft aortic root placement oin the or the aortic valve was severely damaged', align_A=['abdomen', 'is', 'soft', 'nontender', 'positive', 'bowel', 'sounds', '-', '-', '-', '-', '-', '-', '-', '-', '-', '-', '-', '-', '-', '-', '-', '-', '-', '-', '-', '-', '-', '-'], align_B=['-', '-', '-', '-', '-', '-', '-', 'she', 'went', 'to', 'the', 'or', 'on', '4/5', 'cabg', 'tee', 'homograft', 'aortic', 'root', 'placement', 'oin', 'the', 'or', 'the', 'aortic', 'valve', 'was', 'severely', 'damaged'], align_score=-3.7000000000000006, ovrlp_score=0.0),\n",
       " bp_redundancy(sen_A='abdomen is soft nontender positive bowel sounds', sen_B='there was perforation of the right coronary leaflet and there were numerous vegetations which appeared to be rolled up aortic valve tissue on predominantly the right and noncoronary leaflets', align_A=['abdomen', 'is', 'soft', 'nontender', 'positive', 'bowel', 'sounds', '-', '-', '-', '-', '-', '-', '-', '-', '-', '-', '-', '-', '-', '-', '-', '-', '-', '-', '-', '-', '-', '-', '-', '-', '-', '-', '-', '-', '-'], align_B=['-', '-', '-', '-', '-', '-', '-', 'there', 'was', 'perforation', 'of', 'the', 'right', 'coronary', 'leaflet', 'and', 'there', 'were', 'numerous', 'vegetations', 'which', 'appeared', 'to', 'be', 'rolled', 'up', 'aortic', 'valve', 'tissue', 'on', 'predominantly', 'the', 'right', 'and', 'noncoronary', 'leaflets'], align_score=-4.399999999999999, ovrlp_score=0.0),\n",
       " bp_redundancy(sen_A='abdomen is soft nontender positive bowel sounds', sen_B='underneath the annulus of the right coronary there was an area of early abscess formation', align_A=['abdomen', 'is', 'soft', 'nontender', 'positive', 'bowel', 'sounds', '-', '-', '-', '-', '-', '-', '-', '-', '-', '-', '-', '-', '-', '-', '-'], align_B=['-', '-', '-', '-', '-', '-', '-', 'underneath', 'the', 'annulus', 'of', 'the', 'right', 'coronary', 'there', 'was', 'an', 'area', 'of', 'early', 'abscess', 'formation'], align_score=-3.0000000000000004, ovrlp_score=0.0),\n",
       " bp_redundancy(sen_A='abdomen is soft nontender positive bowel sounds', sen_B='gram stain of tissues was negative for organisms and cultures were negative', align_A=['abdomen', 'is', 'soft', 'nontender', 'positive', 'bowel', 'sounds', '-', '-', '-', '-', '-', '-', '-', '-', '-', '-', '-', '-'], align_B=['-', '-', '-', '-', '-', '-', '-', 'gram', 'stain', 'of', 'tissues', 'was', 'negative', 'for', 'organisms', 'and', 'cultures', 'were', 'negative'], align_score=-2.7000000000000006, ovrlp_score=0.0),\n",
       " bp_redundancy(sen_A='abdomen is soft nontender positive bowel sounds', sen_B='pathology was notable for numerous degenerated bacterial coccal forms present on silver stain consistent with streptococcus', align_A=['abdomen', 'is', 'soft', 'nontender', 'positive', 'bowel', 'sounds', '-', '-', '-', '-', '-', '-', '-', '-', '-', '-', '-', '-', '-', '-', '-', '-'], align_B=['-', '-', '-', '-', '-', '-', '-', 'pathology', 'was', 'notable', 'for', 'numerous', 'degenerated', 'bacterial', 'coccal', 'forms', 'present', 'on', 'silver', 'stain', 'consistent', 'with', 'streptococcus'], align_score=-3.1000000000000005, ovrlp_score=0.0),\n",
       " bp_redundancy(sen_A='abdomen is soft nontender positive bowel sounds', sen_B='occasional residual gram positive cocci present on brown-hopps stain', align_A=['abdomen', 'is', 'soft', 'nontender', '-', '-', '-', 'positive', 'bowel', 'sounds', '-', '-', '-', '-', '-'], align_B=['-', '-', '-', '-', 'occasional', 'residual', 'gram', 'positive', '-', '-', 'cocci', 'present', 'on', 'brown-hopps', 'stain'], align_score=-1.0000000000000002, ovrlp_score=0.14285714285714285),\n",
       " bp_redundancy(sen_A='lower extremities no edema nontender', sen_B='briefly 70 yo f w htn dm2 stable angina who is transferred to nsh on 4/3/89 with aortic valve endocarditis complicated by ai and chf', align_A=['lower', 'extremities', 'no', 'edema', 'nontender', '-', '-', '-', '-', '-', '-', '-', '-', '-', '-', '-', '-', '-', '-', '-', '-', '-', '-', '-', '-', '-', '-', '-', '-', '-'], align_B=['-', '-', '-', '-', '-', 'briefly', '70', 'yo', 'f', 'w', 'htn', 'dm2', 'stable', 'angina', 'who', 'is', 'transferred', 'to', 'nsh', 'on', '4/3/89', 'with', 'aortic', 'valve', 'endocarditis', 'complicated', 'by', 'ai', 'and', 'chf'], align_score=-3.8000000000000003, ovrlp_score=0.0),\n",
       " bp_redundancy(sen_A='lower extremities no edema nontender', sen_B='she was in her usoh until 2/8/89 when she had an episode of shingles on r arm for which she took valtrex', align_A=['lower', 'extremities', 'no', 'edema', 'nontender', '-', '-', '-', '-', '-', '-', '-', '-', '-', '-', '-', '-', '-', '-', '-', '-', '-', '-', '-', '-', '-', '-'], align_B=['-', '-', '-', '-', '-', 'she', 'was', 'in', 'her', 'usoh', 'until', '2/8/89', 'when', 'she', 'had', 'an', 'episode', 'of', 'shingles', 'on', 'r', 'arm', 'for', 'which', 'she', 'took', 'valtrex'], align_score=-3.5000000000000004, ovrlp_score=0.0),\n",
       " bp_redundancy(sen_A='lower extremities no edema nontender', sen_B='soon after she began to feel fatigued and febrile and was found to have a 2/2 bottles positive for group b streptococcus on 2/21 pcn mic 0.125 for which her pcp treated her with 2 week course of amoxicillin', align_A=['lower', 'extremities', 'no', 'edema', 'nontender', '-', '-', '-', '-', '-', '-', '-', '-', '-', '-', '-', '-', '-', '-', '-', '-', '-', '-', '-', '-', '-', '-', '-', '-', '-', '-', '-', '-', '-', '-', '-', '-', '-', '-', '-', '-', '-', '-', '-'], align_B=['-', '-', '-', '-', '-', 'soon', 'after', 'she', 'began', 'to', 'feel', 'fatigued', 'and', 'febrile', 'and', 'was', 'found', 'to', 'have', 'a', '2/2', 'bottles', 'positive', 'for', 'group', 'b', 'streptococcus', 'on', '2/21', 'pcn', 'mic', '0.125', 'for', 'which', 'her', 'pcp', 'treated', 'her', 'with', '2', 'week', 'course', 'of', 'amoxicillin'], align_score=-5.1999999999999975, ovrlp_score=0.0),\n",
       " bp_redundancy(sen_A='lower extremities no edema nontender', sen_B='on 4/3 she presents with sob orthopnea and pnd', align_A=['lower', 'extremities', 'no', 'edema', 'nontender', '-', '-', '-', '-', '-', '-', '-', '-', '-'], align_B=['-', '-', '-', '-', '-', 'on', '4/3', 'she', 'presents', 'with', 'sob', 'orthopnea', 'and', 'pnd'], align_score=-2.2, ovrlp_score=0.0),\n",
       " bp_redundancy(sen_A='lower extremities no edema nontender', sen_B='she developed doe pnd orthopnea worsening fatigue and malaise', align_A=['lower', 'extremities', 'no', 'edema', 'nontender', '-', '-', '-', '-', '-', '-', '-', '-', '-'], align_B=['-', '-', '-', '-', '-', 'she', 'developed', 'doe', 'pnd', 'orthopnea', 'worsening', 'fatigue', 'and', 'malaise'], align_score=-2.2, ovrlp_score=0.0),\n",
       " bp_redundancy(sen_A='lower extremities no edema nontender', sen_B='cxr at osh notable for pulm edema and tte demonstrated vegetation on the aortic valve', align_A=['lower', 'extremities', 'no', '-', '-', '-', '-', '-', '-', 'edema', 'nontender', '-', '-', '-', '-', '-', '-', '-', '-'], align_B=['-', '-', '-', 'cxr', 'at', 'osh', 'notable', 'for', 'pulm', 'edema', '-', 'and', 'tte', 'demonstrated', 'vegetation', 'on', 'the', 'aortic', 'valve'], align_score=-1.4, ovrlp_score=0.2),\n",
       " bp_redundancy(sen_A='lower extremities no edema nontender', sen_B='she was transferred to nsh where she was started on ampicillin 1gm iv q8h and gentamicin 120 mg tid', align_A=['lower', 'extremities', 'no', 'edema', 'nontender', '-', '-', '-', '-', '-', '-', '-', '-', '-', '-', '-', '-', '-', '-', '-', '-', '-', '-', '-'], align_B=['-', '-', '-', '-', '-', 'she', 'was', 'transferred', 'to', 'nsh', 'where', 'she', 'was', 'started', 'on', 'ampicillin', '1gm', 'iv', 'q8h', 'and', 'gentamicin', '120', 'mg', 'tid'], align_score=-3.2000000000000006, ovrlp_score=0.0),\n",
       " bp_redundancy(sen_A='lower extremities no edema nontender', sen_B='tte 4/4 showed a mobile mass of echoes attached to the valve c/w vegetation', align_A=['lower', 'extremities', 'no', 'edema', 'nontender', '-', '-', '-', '-', '-', '-', '-', '-', '-', '-', '-', '-', '-', '-'], align_B=['-', '-', '-', '-', '-', 'tte', '4/4', 'showed', 'a', 'mobile', 'mass', 'of', 'echoes', 'attached', 'to', 'the', 'valve', 'c/w', 'vegetation'], align_score=-2.7, ovrlp_score=0.0),\n",
       " bp_redundancy(sen_A='lower extremities no edema nontender', sen_B='the right coronary leaflet appears flail and there was prolapse of the non-coronary cusp as well', align_A=['lower', 'extremities', 'no', 'edema', 'nontender', '-', '-', '-', '-', '-', '-', '-', '-', '-', '-', '-', '-', '-', '-', '-', '-'], align_B=['-', '-', '-', '-', '-', 'the', 'right', 'coronary', 'leaflet', 'appears', 'flail', 'and', 'there', 'was', 'prolapse', 'of', 'the', 'non-coronary', 'cusp', 'as', 'well'], align_score=-2.9000000000000004, ovrlp_score=0.0),\n",
       " bp_redundancy(sen_A='lower extremities no edema nontender', sen_B='there was evidence of at least moderate aortic insufficiency by color and spectral doppler', align_A=['lower', 'extremities', 'no', 'edema', 'nontender', '-', '-', '-', '-', '-', '-', '-', '-', '-', '-', '-', '-', '-', '-'], align_B=['-', '-', '-', '-', '-', 'there', 'was', 'evidence', 'of', 'at', 'least', 'moderate', 'aortic', 'insufficiency', 'by', 'color', 'and', 'spectral', 'doppler'], align_score=-2.7, ovrlp_score=0.0),\n",
       " bp_redundancy(sen_A='lower extremities no edema nontender', sen_B='she went to the or on 4/5 cabg tee homograft aortic root placement oin the or the aortic valve was severely damaged', align_A=['lower', 'extremities', 'no', 'edema', 'nontender', '-', '-', '-', '-', '-', '-', '-', '-', '-', '-', '-', '-', '-', '-', '-', '-', '-', '-', '-', '-', '-', '-'], align_B=['-', '-', '-', '-', '-', 'she', 'went', 'to', 'the', 'or', 'on', '4/5', 'cabg', 'tee', 'homograft', 'aortic', 'root', 'placement', 'oin', 'the', 'or', 'the', 'aortic', 'valve', 'was', 'severely', 'damaged'], align_score=-3.5000000000000004, ovrlp_score=0.0),\n",
       " bp_redundancy(sen_A='lower extremities no edema nontender', sen_B='there was perforation of the right coronary leaflet and there were numerous vegetations which appeared to be rolled up aortic valve tissue on predominantly the right and noncoronary leaflets', align_A=['lower', 'extremities', 'no', 'edema', 'nontender', '-', '-', '-', '-', '-', '-', '-', '-', '-', '-', '-', '-', '-', '-', '-', '-', '-', '-', '-', '-', '-', '-', '-', '-', '-', '-', '-', '-', '-'], align_B=['-', '-', '-', '-', '-', 'there', 'was', 'perforation', 'of', 'the', 'right', 'coronary', 'leaflet', 'and', 'there', 'were', 'numerous', 'vegetations', 'which', 'appeared', 'to', 'be', 'rolled', 'up', 'aortic', 'valve', 'tissue', 'on', 'predominantly', 'the', 'right', 'and', 'noncoronary', 'leaflets'], align_score=-4.199999999999999, ovrlp_score=0.0),\n",
       " bp_redundancy(sen_A='lower extremities no edema nontender', sen_B='underneath the annulus of the right coronary there was an area of early abscess formation', align_A=['lower', 'extremities', 'no', 'edema', 'nontender', '-', '-', '-', '-', '-', '-', '-', '-', '-', '-', '-', '-', '-', '-', '-'], align_B=['-', '-', '-', '-', '-', 'underneath', 'the', 'annulus', 'of', 'the', 'right', 'coronary', 'there', 'was', 'an', 'area', 'of', 'early', 'abscess', 'formation'], align_score=-2.8000000000000003, ovrlp_score=0.0),\n",
       " bp_redundancy(sen_A='lower extremities no edema nontender', sen_B='gram stain of tissues was negative for organisms and cultures were negative', align_A=['lower', 'extremities', 'no', 'edema', 'nontender', '-', '-', '-', '-', '-', '-', '-', '-', '-', '-', '-', '-'], align_B=['-', '-', '-', '-', '-', 'gram', 'stain', 'of', 'tissues', 'was', 'negative', 'for', 'organisms', 'and', 'cultures', 'were', 'negative'], align_score=-2.5000000000000004, ovrlp_score=0.0),\n",
       " bp_redundancy(sen_A='lower extremities no edema nontender', sen_B='pathology was notable for numerous degenerated bacterial coccal forms present on silver stain consistent with streptococcus', align_A=['lower', 'extremities', 'no', 'edema', 'nontender', '-', '-', '-', '-', '-', '-', '-', '-', '-', '-', '-', '-', '-', '-', '-', '-'], align_B=['-', '-', '-', '-', '-', 'pathology', 'was', 'notable', 'for', 'numerous', 'degenerated', 'bacterial', 'coccal', 'forms', 'present', 'on', 'silver', 'stain', 'consistent', 'with', 'streptococcus'], align_score=-2.9000000000000004, ovrlp_score=0.0),\n",
       " bp_redundancy(sen_A='lower extremities no edema nontender', sen_B='occasional residual gram positive cocci present on brown-hopps stain', align_A=['lower', 'extremities', 'no', 'edema', 'nontender', '-', '-', '-', '-', '-', '-', '-', '-', '-'], align_B=['-', '-', '-', '-', '-', 'occasional', 'residual', 'gram', 'positive', 'cocci', 'present', 'on', 'brown-hopps', 'stain'], align_score=-2.2, ovrlp_score=0.0),\n",
       " bp_redundancy(sen_A='briefly 70 yo f w htn dm2 stable angina who is transferred to nsh on 4/3/89 with aortic valve endocarditis complicated by ai and chf', sen_B='she was in her usoh until 2/8/89 when she had an episode of shingles on r arm for which she took valtrex', align_A=['briefly', '70', 'yo', 'f', 'w', 'htn', 'dm2', 'stable', 'angina', 'who', 'is', 'transferred', 'to', 'nsh', '-', '-', '-', '-', '-', '-', '-', '-', '-', '-', '-', '-', '-', '-', 'on', '4/3/89', 'with', 'aortic', 'valve', 'endocarditis', 'complicated', 'by', 'ai', 'and', 'chf', '-', '-', '-', '-', '-', '-', '-'], align_B=['-', '-', '-', '-', '-', '-', '-', '-', '-', '-', '-', '-', '-', '-', 'she', 'was', 'in', 'her', 'usoh', 'until', '2/8/89', 'when', 'she', 'had', 'an', 'episode', 'of', 'shingles', 'on', '-', '-', '-', '-', '-', '-', '-', '-', '-', '-', 'r', 'arm', 'for', 'which', 'she', 'took', 'valtrex'], align_score=-4.100000000000001, ovrlp_score=0.04),\n",
       " bp_redundancy(sen_A='briefly 70 yo f w htn dm2 stable angina who is transferred to nsh on 4/3/89 with aortic valve endocarditis complicated by ai and chf', sen_B='soon after she began to feel fatigued and febrile and was found to have a 2/2 bottles positive for group b streptococcus on 2/21 pcn mic 0.125 for which her pcp treated her with 2 week course of amoxicillin', align_A=['briefly', '70', 'yo', 'f', 'w', 'htn', 'dm2', 'stable', 'angina', 'who', 'is', 'transferred', '-', '-', '-', '-', 'to', 'nsh', '-', '-', '-', '-', '-', '-', '-', '-', '-', '-', '-', '-', '-', '-', '-', '-', '-', 'on', '4/3/89', '-', '-', '-', '-', '-', '-', '-', '-', '-', '-', 'with', 'aortic', 'valve', 'endocarditis', 'complicated', 'by', 'ai', 'and', 'chf', '-', '-', '-', '-', '-'], align_B=['-', '-', '-', '-', '-', '-', '-', '-', '-', '-', '-', '-', 'soon', 'after', 'she', 'began', 'to', '-', 'feel', 'fatigued', 'and', 'febrile', 'and', 'was', 'found', 'to', 'have', 'a', '2/2', 'bottles', 'positive', 'for', 'group', 'b', 'streptococcus', 'on', '-', '2/21', 'pcn', 'mic', '0.125', 'for', 'which', 'her', 'pcp', 'treated', 'her', 'with', '-', '-', '-', '-', '-', '-', '-', '-', '2', 'week', 'course', 'of', 'amoxicillin'], align_score=-3.0000000000000036, ovrlp_score=0.16),\n",
       " bp_redundancy(sen_A='briefly 70 yo f w htn dm2 stable angina who is transferred to nsh on 4/3/89 with aortic valve endocarditis complicated by ai and chf', sen_B='on 4/3 she presents with sob orthopnea and pnd', align_A=['briefly', '70', 'yo', 'f', 'w', 'htn', 'dm2', 'stable', 'angina', 'who', 'is', 'transferred', 'to', 'nsh', 'on', '4/3/89', '-', '-', '-', 'with', 'aortic', 'valve', 'endocarditis', 'complicated', 'by', 'ai', '-', '-', 'and', 'chf', '-'], align_B=['-', '-', '-', '-', '-', '-', '-', '-', '-', '-', '-', '-', '-', '-', 'on', '-', '4/3', 'she', 'presents', 'with', '-', '-', '-', '-', '-', '-', 'sob', 'orthopnea', 'and', '-', 'pnd'], align_score=0.3999999999999999, ovrlp_score=0.12),\n",
       " bp_redundancy(sen_A='briefly 70 yo f w htn dm2 stable angina who is transferred to nsh on 4/3/89 with aortic valve endocarditis complicated by ai and chf', sen_B='she developed doe pnd orthopnea worsening fatigue and malaise', align_A=['briefly', '70', 'yo', 'f', 'w', 'htn', 'dm2', 'stable', 'angina', 'who', 'is', 'transferred', 'to', 'nsh', 'on', '4/3/89', 'with', 'aortic', 'valve', 'endocarditis', 'complicated', 'by', 'ai', '-', '-', '-', '-', '-', '-', '-', 'and', 'chf', '-'], align_B=['-', '-', '-', '-', '-', '-', '-', '-', '-', '-', '-', '-', '-', '-', '-', '-', '-', '-', '-', '-', '-', '-', '-', 'she', 'developed', 'doe', 'pnd', 'orthopnea', 'worsening', 'fatigue', 'and', '-', 'malaise'], align_score=-2.8000000000000007, ovrlp_score=0.04),\n",
       " bp_redundancy(sen_A='briefly 70 yo f w htn dm2 stable angina who is transferred to nsh on 4/3/89 with aortic valve endocarditis complicated by ai and chf', sen_B='cxr at osh notable for pulm edema and tte demonstrated vegetation on the aortic valve', align_A=['briefly', '70', 'yo', 'f', 'w', 'htn', 'dm2', 'stable', 'angina', 'who', 'is', 'transferred', 'to', 'nsh', '-', '-', '-', '-', '-', '-', '-', '-', '-', '-', '-', 'on', '4/3/89', 'with', '-', 'aortic', 'valve', 'endocarditis', 'complicated', 'by', 'ai', 'and', 'chf'], align_B=['-', '-', '-', '-', '-', '-', '-', '-', '-', '-', '-', '-', '-', '-', 'cxr', 'at', 'osh', 'notable', 'for', 'pulm', 'edema', 'and', 'tte', 'demonstrated', 'vegetation', 'on', '-', '-', 'the', 'aortic', 'valve', '-', '-', '-', '-', '-', '-'], align_score=0.5999999999999993, ovrlp_score=0.16),\n",
       " bp_redundancy(sen_A='briefly 70 yo f w htn dm2 stable angina who is transferred to nsh on 4/3/89 with aortic valve endocarditis complicated by ai and chf', sen_B='she was transferred to nsh where she was started on ampicillin 1gm iv q8h and gentamicin 120 mg tid', align_A=['briefly', '70', 'yo', 'f', 'w', 'htn', 'dm2', 'stable', 'angina', 'who', 'is', '-', '-', 'transferred', 'to', 'nsh', '-', '-', '-', '-', 'on', '4/3/89', 'with', 'aortic', 'valve', 'endocarditis', 'complicated', 'by', 'ai', '-', '-', '-', '-', 'and', 'chf', '-', '-', '-', '-'], align_B=['-', '-', '-', '-', '-', '-', '-', '-', '-', '-', '-', 'she', 'was', 'transferred', 'to', 'nsh', 'where', 'she', 'was', 'started', 'on', '-', '-', '-', '-', '-', '-', '-', '-', 'ampicillin', '1gm', 'iv', 'q8h', 'and', '-', 'gentamicin', '120', 'mg', 'tid'], align_score=3.8000000000000025, ovrlp_score=0.2),\n",
       " bp_redundancy(sen_A='briefly 70 yo f w htn dm2 stable angina who is transferred to nsh on 4/3/89 with aortic valve endocarditis complicated by ai and chf', sen_B='tte 4/4 showed a mobile mass of echoes attached to the valve c/w vegetation', align_A=['briefly', '70', 'yo', 'f', 'w', 'htn', 'dm2', 'stable', 'angina', 'who', 'is', 'transferred', '-', '-', '-', '-', '-', '-', '-', '-', '-', 'to', 'nsh', 'on', '4/3/89', 'with', 'aortic', '-', 'valve', 'endocarditis', 'complicated', 'by', 'ai', 'and', 'chf', '-', '-'], align_B=['-', '-', '-', '-', '-', '-', '-', '-', '-', '-', '-', '-', 'tte', '4/4', 'showed', 'a', 'mobile', 'mass', 'of', 'echoes', 'attached', 'to', '-', '-', '-', '-', '-', 'the', 'valve', '-', '-', '-', '-', '-', '-', 'c/w', 'vegetation'], align_score=-1.9000000000000015, ovrlp_score=0.08),\n",
       " bp_redundancy(sen_A='briefly 70 yo f w htn dm2 stable angina who is transferred to nsh on 4/3/89 with aortic valve endocarditis complicated by ai and chf', sen_B='the right coronary leaflet appears flail and there was prolapse of the non-coronary cusp as well', align_A=['briefly', '70', 'yo', 'f', 'w', 'htn', 'dm2', 'stable', 'angina', 'who', 'is', 'transferred', 'to', 'nsh', 'on', '4/3/89', 'with', 'aortic', 'valve', 'endocarditis', 'complicated', 'by', 'ai', '-', '-', '-', '-', '-', '-', 'and', 'chf', '-', '-', '-', '-', '-', '-', '-', '-', '-'], align_B=['-', '-', '-', '-', '-', '-', '-', '-', '-', '-', '-', '-', '-', '-', '-', '-', '-', '-', '-', '-', '-', '-', '-', 'the', 'right', 'coronary', 'leaflet', 'appears', 'flail', 'and', '-', 'there', 'was', 'prolapse', 'of', 'the', 'non-coronary', 'cusp', 'as', 'well'], align_score=-3.5000000000000013, ovrlp_score=0.04),\n",
       " bp_redundancy(sen_A='briefly 70 yo f w htn dm2 stable angina who is transferred to nsh on 4/3/89 with aortic valve endocarditis complicated by ai and chf', sen_B='there was evidence of at least moderate aortic insufficiency by color and spectral doppler', align_A=['briefly', '70', 'yo', 'f', 'w', 'htn', 'dm2', 'stable', 'angina', 'who', 'is', 'transferred', 'to', 'nsh', 'on', '4/3/89', 'with', '-', '-', '-', '-', '-', '-', '-', 'aortic', 'valve', 'endocarditis', 'complicated', '-', 'by', 'ai', '-', 'and', 'chf', '-', '-'], align_B=['-', '-', '-', '-', '-', '-', '-', '-', '-', '-', '-', '-', '-', '-', '-', '-', '-', 'there', 'was', 'evidence', 'of', 'at', 'least', 'moderate', 'aortic', '-', '-', '-', 'insufficiency', 'by', '-', 'color', 'and', '-', 'spectral', 'doppler'], align_score=-0.5000000000000008, ovrlp_score=0.12),\n",
       " bp_redundancy(sen_A='briefly 70 yo f w htn dm2 stable angina who is transferred to nsh on 4/3/89 with aortic valve endocarditis complicated by ai and chf', sen_B='she went to the or on 4/5 cabg tee homograft aortic root placement oin the or the aortic valve was severely damaged', align_A=['briefly', '70', 'yo', 'f', 'w', 'htn', 'dm2', 'stable', 'angina', 'who', 'is', 'transferred', '-', '-', 'to', 'nsh', '-', '-', 'on', '4/3/89', 'with', '-', '-', '-', '-', '-', '-', '-', '-', '-', '-', '-', 'aortic', 'valve', 'endocarditis', 'complicated', 'by', 'ai', 'and', 'chf', '-', '-', '-'], align_B=['-', '-', '-', '-', '-', '-', '-', '-', '-', '-', '-', '-', 'she', 'went', 'to', '-', 'the', 'or', 'on', '-', '-', '4/5', 'cabg', 'tee', 'homograft', 'aortic', 'root', 'placement', 'oin', 'the', 'or', 'the', 'aortic', 'valve', '-', '-', '-', '-', '-', '-', 'was', 'severely', 'damaged'], align_score=0.8999999999999992, ovrlp_score=0.16),\n",
       " bp_redundancy(sen_A='briefly 70 yo f w htn dm2 stable angina who is transferred to nsh on 4/3/89 with aortic valve endocarditis complicated by ai and chf', sen_B='there was perforation of the right coronary leaflet and there were numerous vegetations which appeared to be rolled up aortic valve tissue on predominantly the right and noncoronary leaflets', align_A=['briefly', '70', 'yo', 'f', 'w', 'htn', 'dm2', 'stable', 'angina', 'who', 'is', 'transferred', '-', '-', '-', '-', '-', '-', '-', '-', '-', '-', '-', '-', '-', '-', '-', 'to', 'nsh', 'on', '4/3/89', 'with', '-', '-', '-', 'aortic', 'valve', 'endocarditis', 'complicated', 'by', 'ai', '-', '-', '-', '-', '-', 'and', 'chf', '-', '-'], align_B=['-', '-', '-', '-', '-', '-', '-', '-', '-', '-', '-', '-', 'there', 'was', 'perforation', 'of', 'the', 'right', 'coronary', 'leaflet', 'and', 'there', 'were', 'numerous', 'vegetations', 'which', 'appeared', 'to', '-', '-', '-', '-', 'be', 'rolled', 'up', 'aortic', 'valve', '-', '-', '-', '-', 'tissue', 'on', 'predominantly', 'the', 'right', 'and', '-', 'noncoronary', 'leaflets'], align_score=0.19999999999999896, ovrlp_score=0.2),\n",
       " bp_redundancy(sen_A='briefly 70 yo f w htn dm2 stable angina who is transferred to nsh on 4/3/89 with aortic valve endocarditis complicated by ai and chf', sen_B='underneath the annulus of the right coronary there was an area of early abscess formation', align_A=['briefly', '70', 'yo', 'f', 'w', 'htn', 'dm2', 'stable', 'angina', 'who', 'is', 'transferred', 'to', 'nsh', 'on', '4/3/89', 'with', 'aortic', 'valve', 'endocarditis', 'complicated', 'by', 'ai', 'and', 'chf', '-', '-', '-', '-', '-', '-', '-', '-', '-', '-', '-', '-', '-', '-', '-'], align_B=['-', '-', '-', '-', '-', '-', '-', '-', '-', '-', '-', '-', '-', '-', '-', '-', '-', '-', '-', '-', '-', '-', '-', '-', '-', 'underneath', 'the', 'annulus', 'of', 'the', 'right', 'coronary', 'there', 'was', 'an', 'area', 'of', 'early', 'abscess', 'formation'], align_score=-4.799999999999997, ovrlp_score=0.0),\n",
       " bp_redundancy(sen_A='briefly 70 yo f w htn dm2 stable angina who is transferred to nsh on 4/3/89 with aortic valve endocarditis complicated by ai and chf', sen_B='gram stain of tissues was negative for organisms and cultures were negative', align_A=['briefly', '70', 'yo', 'f', 'w', 'htn', 'dm2', 'stable', 'angina', 'who', 'is', 'transferred', 'to', 'nsh', 'on', '4/3/89', 'with', 'aortic', 'valve', 'endocarditis', 'complicated', 'by', 'ai', '-', '-', '-', '-', '-', '-', '-', '-', 'and', 'chf', '-', '-', '-'], align_B=['-', '-', '-', '-', '-', '-', '-', '-', '-', '-', '-', '-', '-', '-', '-', '-', '-', '-', '-', '-', '-', '-', '-', 'gram', 'stain', 'of', 'tissues', 'was', 'negative', 'for', 'organisms', 'and', '-', 'cultures', 'were', 'negative'], align_score=-3.100000000000001, ovrlp_score=0.04),\n",
       " bp_redundancy(sen_A='briefly 70 yo f w htn dm2 stable angina who is transferred to nsh on 4/3/89 with aortic valve endocarditis complicated by ai and chf', sen_B='pathology was notable for numerous degenerated bacterial coccal forms present on silver stain consistent with streptococcus', align_A=['briefly', '70', 'yo', 'f', 'w', 'htn', 'dm2', 'stable', 'angina', 'who', 'is', 'transferred', 'to', 'nsh', '-', '-', '-', '-', '-', '-', '-', '-', '-', '-', 'on', '4/3/89', '-', '-', '-', 'with', 'aortic', 'valve', 'endocarditis', 'complicated', 'by', 'ai', 'and', 'chf', '-'], align_B=['-', '-', '-', '-', '-', '-', '-', '-', '-', '-', '-', '-', '-', '-', 'pathology', 'was', 'notable', 'for', 'numerous', 'degenerated', 'bacterial', 'coccal', 'forms', 'present', 'on', '-', 'silver', 'stain', 'consistent', 'with', '-', '-', '-', '-', '-', '-', '-', '-', 'streptococcus'], align_score=-2.1000000000000014, ovrlp_score=0.08),\n",
       " bp_redundancy(sen_A='briefly 70 yo f w htn dm2 stable angina who is transferred to nsh on 4/3/89 with aortic valve endocarditis complicated by ai and chf', sen_B='occasional residual gram positive cocci present on brown-hopps stain', align_A=['briefly', '70', 'yo', 'f', 'w', 'htn', 'dm2', 'stable', 'angina', 'who', 'is', 'transferred', 'to', 'nsh', '-', '-', '-', '-', '-', '-', 'on', '4/3/89', 'with', 'aortic', 'valve', 'endocarditis', 'complicated', 'by', 'ai', 'and', 'chf', '-', '-'], align_B=['-', '-', '-', '-', '-', '-', '-', '-', '-', '-', '-', '-', '-', '-', 'occasional', 'residual', 'gram', 'positive', 'cocci', 'present', 'on', '-', '-', '-', '-', '-', '-', '-', '-', '-', '-', 'brown-hopps', 'stain'], align_score=-2.800000000000001, ovrlp_score=0.04),\n",
       " bp_redundancy(sen_A='she was in her usoh until 2/8/89 when she had an episode of shingles on r arm for which she took valtrex', sen_B='soon after she began to feel fatigued and febrile and was found to have a 2/2 bottles positive for group b streptococcus on 2/21 pcn mic 0.125 for which her pcp treated her with 2 week course of amoxicillin', align_A=['-', '-', 'she', '-', '-', '-', '-', '-', '-', '-', 'was', 'in', 'her', 'usoh', 'until', '2/8/89', 'when', 'she', 'had', 'an', 'episode', 'of', 'shingles', '-', '-', '-', '-', '-', '-', '-', '-', '-', '-', '-', 'on', 'r', 'arm', '-', '-', '-', '-', 'for', 'which', 'she', 'took', 'valtrex', '-', '-', '-', '-', '-', '-', '-', '-', '-', '-'], align_B=['soon', 'after', 'she', 'began', 'to', 'feel', 'fatigued', 'and', 'febrile', 'and', 'was', '-', '-', '-', '-', '-', '-', '-', '-', '-', '-', '-', '-', 'found', 'to', 'have', 'a', '2/2', 'bottles', 'positive', 'for', 'group', 'b', 'streptococcus', 'on', '-', '-', '2/21', 'pcn', 'mic', '0.125', 'for', 'which', '-', '-', '-', 'her', 'pcp', 'treated', 'her', 'with', '2', 'week', 'course', 'of', 'amoxicillin'], align_score=1.6999999999999984, ovrlp_score=0.35),\n",
       " bp_redundancy(sen_A='she was in her usoh until 2/8/89 when she had an episode of shingles on r arm for which she took valtrex', sen_B='on 4/3 she presents with sob orthopnea and pnd', align_A=['she', 'was', 'in', 'her', 'usoh', 'until', '2/8/89', 'when', 'she', 'had', 'an', 'episode', 'of', 'shingles', 'on', 'r', 'arm', 'for', 'which', '-', 'she', 'took', 'valtrex', '-', '-', '-', '-', '-', '-'], align_B=['-', '-', '-', '-', '-', '-', '-', '-', '-', '-', '-', '-', '-', '-', 'on', '-', '-', '-', '-', '4/3', 'she', '-', '-', 'presents', 'with', 'sob', 'orthopnea', 'and', 'pnd'], align_score=-0.7, ovrlp_score=0.1),\n",
       " bp_redundancy(sen_A='she was in her usoh until 2/8/89 when she had an episode of shingles on r arm for which she took valtrex', sen_B='she developed doe pnd orthopnea worsening fatigue and malaise', align_A=['she', 'was', 'in', 'her', 'usoh', 'until', '2/8/89', 'when', 'she', 'had', 'an', 'episode', 'of', 'shingles', 'on', 'r', 'arm', 'for', 'which', 'she', 'took', 'valtrex', '-', '-', '-', '-', '-', '-', '-', '-'], align_B=['she', '-', '-', '-', '-', '-', '-', '-', '-', '-', '-', '-', '-', '-', '-', '-', '-', '-', '-', '-', '-', '-', 'developed', 'doe', 'pnd', 'orthopnea', 'worsening', 'fatigue', 'and', 'malaise'], align_score=-1.7000000000000008, ovrlp_score=0.05),\n",
       " bp_redundancy(sen_A='she was in her usoh until 2/8/89 when she had an episode of shingles on r arm for which she took valtrex', sen_B='cxr at osh notable for pulm edema and tte demonstrated vegetation on the aortic valve', align_A=['she', 'was', 'in', 'her', 'usoh', 'until', '2/8/89', 'when', 'she', 'had', 'an', 'episode', 'of', 'shingles', 'on', 'r', 'arm', '-', '-', '-', '-', 'for', 'which', 'she', 'took', 'valtrex', '-', '-', '-', '-', '-', '-', '-', '-', '-', '-'], align_B=['-', '-', '-', '-', '-', '-', '-', '-', '-', '-', '-', '-', '-', '-', '-', '-', '-', 'cxr', 'at', 'osh', 'notable', 'for', '-', '-', '-', '-', 'pulm', 'edema', 'and', 'tte', 'demonstrated', 'vegetation', 'on', 'the', 'aortic', 'valve'], align_score=-3.1000000000000014, ovrlp_score=0.1),\n",
       " bp_redundancy(sen_A='she was in her usoh until 2/8/89 when she had an episode of shingles on r arm for which she took valtrex', sen_B='she was transferred to nsh where she was started on ampicillin 1gm iv q8h and gentamicin 120 mg tid', align_A=['she', 'was', 'in', 'her', 'usoh', 'until', '2/8/89', 'when', '-', '-', '-', '-', 'she', 'had', 'an', 'episode', 'of', 'shingles', '-', '-', 'on', 'r', 'arm', 'for', 'which', 'she', 'took', 'valtrex', '-', '-', '-', '-', '-', '-', '-', '-', '-'], align_B=['she', 'was', '-', '-', '-', '-', '-', '-', 'transferred', 'to', 'nsh', 'where', 'she', '-', '-', '-', '-', '-', 'was', 'started', 'on', '-', '-', '-', '-', '-', '-', '-', 'ampicillin', '1gm', 'iv', 'q8h', 'and', 'gentamicin', '120', 'mg', 'tid'], align_score=2.2999999999999985, ovrlp_score=0.15),\n",
       " bp_redundancy(sen_A='she was in her usoh until 2/8/89 when she had an episode of shingles on r arm for which she took valtrex', sen_B='tte 4/4 showed a mobile mass of echoes attached to the valve c/w vegetation', align_A=['she', 'was', 'in', 'her', 'usoh', 'until', '2/8/89', 'when', 'she', 'had', 'an', 'episode', '-', '-', '-', '-', '-', '-', 'of', 'shingles', 'on', 'r', 'arm', 'for', 'which', 'she', 'took', 'valtrex', '-', '-', '-', '-', '-', '-', '-'], align_B=['-', '-', '-', '-', '-', '-', '-', '-', '-', '-', '-', '-', 'tte', '4/4', 'showed', 'a', 'mobile', 'mass', 'of', '-', '-', '-', '-', '-', '-', '-', '-', '-', 'echoes', 'attached', 'to', 'the', 'valve', 'c/w', 'vegetation'], align_score=-3.0000000000000018, ovrlp_score=0.05),\n",
       " bp_redundancy(sen_A='she was in her usoh until 2/8/89 when she had an episode of shingles on r arm for which she took valtrex', sen_B='the right coronary leaflet appears flail and there was prolapse of the non-coronary cusp as well', align_A=['she', '-', '-', '-', '-', '-', '-', '-', '-', 'was', 'in', 'her', 'usoh', 'until', '2/8/89', 'when', 'she', 'had', 'an', 'episode', '-', 'of', 'shingles', 'on', 'r', 'arm', 'for', 'which', 'she', 'took', 'valtrex', '-', '-', '-', '-', '-'], align_B=['-', 'the', 'right', 'coronary', 'leaflet', 'appears', 'flail', 'and', 'there', 'was', '-', '-', '-', '-', '-', '-', '-', '-', '-', '-', 'prolapse', 'of', '-', '-', '-', '-', '-', '-', '-', '-', '-', 'the', 'non-coronary', 'cusp', 'as', 'well'], align_score=-1.8000000000000003, ovrlp_score=0.1),\n",
       " bp_redundancy(sen_A='she was in her usoh until 2/8/89 when she had an episode of shingles on r arm for which she took valtrex', sen_B='there was evidence of at least moderate aortic insufficiency by color and spectral doppler', align_A=['she', '-', 'was', 'in', 'her', 'usoh', 'until', '2/8/89', 'when', 'she', 'had', 'an', 'episode', '-', 'of', 'shingles', 'on', 'r', 'arm', 'for', 'which', 'she', 'took', 'valtrex', '-', '-', '-', '-', '-', '-', '-', '-', '-', '-'], align_B=['-', 'there', 'was', '-', '-', '-', '-', '-', '-', '-', '-', '-', '-', 'evidence', 'of', '-', '-', '-', '-', '-', '-', '-', '-', '-', 'at', 'least', 'moderate', 'aortic', 'insufficiency', 'by', 'color', 'and', 'spectral', 'doppler'], align_score=-1.6000000000000003, ovrlp_score=0.1),\n",
       " bp_redundancy(sen_A='she was in her usoh until 2/8/89 when she had an episode of shingles on r arm for which she took valtrex', sen_B='she went to the or on 4/5 cabg tee homograft aortic root placement oin the or the aortic valve was severely damaged', align_A=['she', '-', '-', '-', '-', '-', '-', '-', '-', '-', '-', '-', '-', '-', '-', '-', '-', '-', '-', 'was', 'in', 'her', 'usoh', 'until', '2/8/89', 'when', 'she', 'had', 'an', 'episode', 'of', 'shingles', 'on', 'r', 'arm', 'for', 'which', 'she', 'took', 'valtrex', '-', '-'], align_B=['she', 'went', 'to', 'the', 'or', 'on', '4/5', 'cabg', 'tee', 'homograft', 'aortic', 'root', 'placement', 'oin', 'the', 'or', 'the', 'aortic', 'valve', 'was', '-', '-', '-', '-', '-', '-', '-', '-', '-', '-', '-', '-', '-', '-', '-', '-', '-', '-', '-', '-', 'severely', 'damaged'], align_score=-1.2000000000000002, ovrlp_score=0.15),\n",
       " bp_redundancy(sen_A='she was in her usoh until 2/8/89 when she had an episode of shingles on r arm for which she took valtrex', sen_B='there was perforation of the right coronary leaflet and there were numerous vegetations which appeared to be rolled up aortic valve tissue on predominantly the right and noncoronary leaflets', align_A=['she', '-', 'was', 'in', 'her', 'usoh', 'until', '2/8/89', 'when', 'she', 'had', 'an', 'episode', '-', 'of', 'shingles', 'on', 'r', 'arm', 'for', '-', '-', '-', '-', '-', '-', '-', '-', '-', 'which', 'she', 'took', 'valtrex', '-', '-', '-', '-', '-', '-', '-', '-', '-', '-', '-', '-', '-', '-', '-'], align_B=['-', 'there', 'was', '-', '-', '-', '-', '-', '-', '-', '-', '-', '-', 'perforation', 'of', '-', '-', '-', '-', '-', 'the', 'right', 'coronary', 'leaflet', 'and', 'there', 'were', 'numerous', 'vegetations', 'which', '-', '-', '-', 'appeared', 'to', 'be', 'rolled', 'up', 'aortic', 'valve', 'tissue', 'on', 'predominantly', 'the', 'right', 'and', 'noncoronary', 'leaflets'], align_score=-1.6999999999999997, ovrlp_score=0.2),\n",
       " bp_redundancy(sen_A='she was in her usoh until 2/8/89 when she had an episode of shingles on r arm for which she took valtrex', sen_B='underneath the annulus of the right coronary there was an area of early abscess formation', align_A=['she', '-', '-', '-', '-', '-', '-', '-', '-', 'was', 'in', 'her', 'usoh', 'until', '2/8/89', 'when', 'she', 'had', 'an', 'episode', '-', 'of', 'shingles', 'on', 'r', 'arm', 'for', 'which', 'she', 'took', 'valtrex', '-', '-', '-'], align_B=['-', 'underneath', 'the', 'annulus', 'of', 'the', 'right', 'coronary', 'there', 'was', '-', '-', '-', '-', '-', '-', '-', '-', 'an', '-', 'area', 'of', '-', '-', '-', '-', '-', '-', '-', '-', '-', 'early', 'abscess', 'formation'], align_score=0.10000000000000003, ovrlp_score=0.15),\n",
       " bp_redundancy(sen_A='she was in her usoh until 2/8/89 when she had an episode of shingles on r arm for which she took valtrex', sen_B='gram stain of tissues was negative for organisms and cultures were negative', align_A=['she', '-', '-', '-', '-', 'was', 'in', 'her', 'usoh', 'until', '2/8/89', 'when', 'she', 'had', 'an', 'episode', 'of', 'shingles', 'on', 'r', 'arm', '-', 'for', 'which', 'she', 'took', 'valtrex', '-', '-', '-', '-', '-'], align_B=['-', 'gram', 'stain', 'of', 'tissues', 'was', '-', '-', '-', '-', '-', '-', '-', '-', '-', '-', '-', '-', '-', '-', '-', 'negative', 'for', '-', '-', '-', '-', 'organisms', 'and', 'cultures', 'were', 'negative'], align_score=-1.4000000000000001, ovrlp_score=0.15),\n",
       " bp_redundancy(sen_A='she was in her usoh until 2/8/89 when she had an episode of shingles on r arm for which she took valtrex', sen_B='pathology was notable for numerous degenerated bacterial coccal forms present on silver stain consistent with streptococcus', align_A=['she', '-', 'was', 'in', 'her', 'usoh', 'until', '2/8/89', 'when', 'she', 'had', 'an', 'episode', 'of', 'shingles', 'on', 'r', 'arm', '-', 'for', 'which', 'she', 'took', 'valtrex', '-', '-', '-', '-', '-', '-', '-', '-', '-', '-', '-', '-'], align_B=['-', 'pathology', 'was', '-', '-', '-', '-', '-', '-', '-', '-', '-', '-', '-', '-', '-', '-', '-', 'notable', 'for', '-', '-', '-', '-', 'numerous', 'degenerated', 'bacterial', 'coccal', 'forms', 'present', 'on', 'silver', 'stain', 'consistent', 'with', 'streptococcus'], align_score=-1.8, ovrlp_score=0.15),\n",
       " bp_redundancy(sen_A='she was in her usoh until 2/8/89 when she had an episode of shingles on r arm for which she took valtrex', sen_B='occasional residual gram positive cocci present on brown-hopps stain', align_A=['she', 'was', 'in', 'her', 'usoh', 'until', '2/8/89', 'when', 'she', 'had', 'an', 'episode', 'of', 'shingles', '-', '-', '-', '-', '-', '-', 'on', 'r', 'arm', 'for', 'which', 'she', 'took', 'valtrex', '-', '-'], align_B=['-', '-', '-', '-', '-', '-', '-', '-', '-', '-', '-', '-', '-', '-', 'occasional', 'residual', 'gram', 'positive', 'cocci', 'present', 'on', '-', '-', '-', '-', '-', '-', '-', 'brown-hopps', 'stain'], align_score=-2.500000000000001, ovrlp_score=0.05),\n",
       " bp_redundancy(sen_A='soon after she began to feel fatigued and febrile and was found to have a 2/2 bottles positive for group b streptococcus on 2/21 pcn mic 0.125 for which her pcp treated her with 2 week course of amoxicillin', sen_B='on 4/3 she presents with sob orthopnea and pnd', align_A=['soon', 'after', 'she', 'began', 'to', 'feel', 'fatigued', 'and', 'febrile', 'and', 'was', 'found', 'to', 'have', 'a', '2/2', 'bottles', 'positive', 'for', 'group', 'b', 'streptococcus', 'on', '2/21', 'pcn', 'mic', '0.125', 'for', 'which', 'her', 'pcp', 'treated', 'her', '-', '-', '-', 'with', '2', 'week', 'course', 'of', 'amoxicillin', '-', '-', '-', '-'], align_B=['-', '-', '-', '-', '-', '-', '-', '-', '-', '-', '-', '-', '-', '-', '-', '-', '-', '-', '-', '-', '-', '-', 'on', '-', '-', '-', '-', '-', '-', '-', '-', '-', '-', '4/3', 'she', 'presents', 'with', '-', '-', '-', '-', '-', 'sob', 'orthopnea', 'and', 'pnd'], align_score=-2.4000000000000017, ovrlp_score=0.11428571428571428),\n",
       " bp_redundancy(sen_A='soon after she began to feel fatigued and febrile and was found to have a 2/2 bottles positive for group b streptococcus on 2/21 pcn mic 0.125 for which her pcp treated her with 2 week course of amoxicillin', sen_B='she developed doe pnd orthopnea worsening fatigue and malaise', align_A=['soon', 'after', 'she', 'began', 'to', 'feel', 'fatigued', '-', '-', '-', '-', '-', '-', 'and', 'febrile', 'and', 'was', 'found', 'to', 'have', 'a', '2/2', 'bottles', 'positive', 'for', 'group', 'b', 'streptococcus', 'on', '2/21', 'pcn', 'mic', '0.125', 'for', 'which', 'her', 'pcp', 'treated', 'her', 'with', '2', 'week', 'course', 'of', 'amoxicillin', '-'], align_B=['-', '-', 'she', '-', '-', '-', '-', 'developed', 'doe', 'pnd', 'orthopnea', 'worsening', 'fatigue', 'and', '-', '-', '-', '-', '-', '-', '-', '-', '-', '-', '-', '-', '-', '-', '-', '-', '-', '-', '-', '-', '-', '-', '-', '-', '-', '-', '-', '-', '-', '-', '-', 'malaise'], align_score=-2.4000000000000004, ovrlp_score=0.05714285714285714),\n",
       " bp_redundancy(sen_A='soon after she began to feel fatigued and febrile and was found to have a 2/2 bottles positive for group b streptococcus on 2/21 pcn mic 0.125 for which her pcp treated her with 2 week course of amoxicillin', sen_B='cxr at osh notable for pulm edema and tte demonstrated vegetation on the aortic valve', align_A=['soon', 'after', 'she', 'began', 'to', 'feel', 'fatigued', 'and', 'febrile', 'and', 'was', 'found', 'to', 'have', 'a', '2/2', 'bottles', 'positive', '-', '-', '-', '-', 'for', 'group', 'b', 'streptococcus', '-', '-', '-', '-', '-', '-', 'on', '2/21', 'pcn', 'mic', '0.125', 'for', 'which', 'her', 'pcp', 'treated', 'her', 'with', '2', 'week', 'course', 'of', 'amoxicillin', '-', '-', '-'], align_B=['-', '-', '-', '-', '-', '-', '-', '-', '-', '-', '-', '-', '-', '-', '-', '-', '-', '-', 'cxr', 'at', 'osh', 'notable', 'for', '-', '-', '-', 'pulm', 'edema', 'and', 'tte', 'demonstrated', 'vegetation', 'on', '-', '-', '-', '-', '-', '-', '-', '-', '-', '-', '-', '-', '-', '-', '-', '-', 'the', 'aortic', 'valve'], align_score=-3.400000000000002, ovrlp_score=0.08571428571428572),\n",
       " bp_redundancy(sen_A='soon after she began to feel fatigued and febrile and was found to have a 2/2 bottles positive for group b streptococcus on 2/21 pcn mic 0.125 for which her pcp treated her with 2 week course of amoxicillin', sen_B='she was transferred to nsh where she was started on ampicillin 1gm iv q8h and gentamicin 120 mg tid', align_A=['soon', 'after', 'she', 'began', 'to', 'feel', 'fatigued', 'and', 'febrile', 'and', 'was', 'found', '-', 'to', 'have', 'a', '2/2', 'bottles', 'positive', 'for', 'group', 'b', 'streptococcus', '-', '-', '-', '-', '-', 'on', '2/21', 'pcn', 'mic', '0.125', 'for', 'which', 'her', 'pcp', 'treated', 'her', 'with', '2', 'week', 'course', 'of', 'amoxicillin', '-', '-', '-', '-', '-', '-', '-', '-', '-'], align_B=['-', '-', 'she', '-', '-', '-', '-', '-', '-', '-', 'was', '-', 'transferred', 'to', '-', '-', '-', '-', '-', '-', '-', '-', '-', 'nsh', 'where', 'she', 'was', 'started', 'on', '-', '-', '-', '-', '-', '-', '-', '-', '-', '-', '-', '-', '-', '-', '-', '-', 'ampicillin', '1gm', 'iv', 'q8h', 'and', 'gentamicin', '120', 'mg', 'tid'], align_score=-0.20000000000000198, ovrlp_score=0.14285714285714285),\n",
       " bp_redundancy(sen_A='soon after she began to feel fatigued and febrile and was found to have a 2/2 bottles positive for group b streptococcus on 2/21 pcn mic 0.125 for which her pcp treated her with 2 week course of amoxicillin', sen_B='tte 4/4 showed a mobile mass of echoes attached to the valve c/w vegetation', align_A=['soon', 'after', 'she', 'began', 'to', 'feel', 'fatigued', 'and', 'febrile', 'and', 'was', 'found', 'to', 'have', '-', '-', '-', 'a', '2/2', 'bottles', 'positive', 'for', 'group', 'b', 'streptococcus', 'on', '2/21', 'pcn', 'mic', '0.125', 'for', 'which', 'her', 'pcp', 'treated', 'her', 'with', '2', 'week', 'course', '-', '-', 'of', 'amoxicillin', '-', '-', '-', '-', '-', '-', '-'], align_B=['-', '-', '-', '-', '-', '-', '-', '-', '-', '-', '-', '-', '-', '-', 'tte', '4/4', 'showed', 'a', '-', '-', '-', '-', '-', '-', '-', '-', '-', '-', '-', '-', '-', '-', '-', '-', '-', '-', '-', '-', '-', '-', 'mobile', 'mass', 'of', '-', 'echoes', 'attached', 'to', 'the', 'valve', 'c/w', 'vegetation'], align_score=-3.3000000000000025, ovrlp_score=0.08571428571428572),\n",
       " bp_redundancy(sen_A='soon after she began to feel fatigued and febrile and was found to have a 2/2 bottles positive for group b streptococcus on 2/21 pcn mic 0.125 for which her pcp treated her with 2 week course of amoxicillin', sen_B='the right coronary leaflet appears flail and there was prolapse of the non-coronary cusp as well', align_A=['soon', 'after', 'she', 'began', 'to', 'feel', 'fatigued', 'and', 'febrile', '-', '-', '-', '-', '-', '-', 'and', '-', 'was', 'found', 'to', 'have', 'a', '2/2', 'bottles', 'positive', 'for', 'group', 'b', 'streptococcus', 'on', '2/21', 'pcn', 'mic', '0.125', 'for', 'which', 'her', 'pcp', 'treated', 'her', 'with', '2', 'week', 'course', '-', 'of', 'amoxicillin', '-', '-', '-', '-', '-'], align_B=['-', '-', '-', '-', '-', '-', '-', '-', '-', 'the', 'right', 'coronary', 'leaflet', 'appears', 'flail', 'and', 'there', 'was', '-', '-', '-', '-', '-', '-', '-', '-', '-', '-', '-', '-', '-', '-', '-', '-', '-', '-', '-', '-', '-', '-', '-', '-', '-', '-', 'prolapse', 'of', '-', 'the', 'non-coronary', 'cusp', 'as', 'well'], align_score=-1.7000000000000008, ovrlp_score=0.08571428571428572),\n",
       " bp_redundancy(sen_A='soon after she began to feel fatigued and febrile and was found to have a 2/2 bottles positive for group b streptococcus on 2/21 pcn mic 0.125 for which her pcp treated her with 2 week course of amoxicillin', sen_B='there was evidence of at least moderate aortic insufficiency by color and spectral doppler', align_A=['soon', 'after', 'she', 'began', 'to', 'feel', 'fatigued', 'and', 'febrile', 'and', '-', 'was', 'found', 'to', 'have', 'a', '2/2', 'bottles', 'positive', 'for', 'group', 'b', 'streptococcus', 'on', '2/21', 'pcn', 'mic', '0.125', 'for', 'which', 'her', 'pcp', 'treated', 'her', 'with', '2', 'week', 'course', '-', 'of', 'amoxicillin', '-', '-', '-', '-', '-', '-', '-', '-', '-', '-'], align_B=['-', '-', '-', '-', '-', '-', '-', '-', '-', '-', 'there', 'was', '-', '-', '-', '-', '-', '-', '-', '-', '-', '-', '-', '-', '-', '-', '-', '-', '-', '-', '-', '-', '-', '-', '-', '-', '-', '-', 'evidence', 'of', '-', 'at', 'least', 'moderate', 'aortic', 'insufficiency', 'by', 'color', 'and', 'spectral', 'doppler'], align_score=-3.300000000000002, ovrlp_score=0.08571428571428572),\n",
       " bp_redundancy(sen_A='soon after she began to feel fatigued and febrile and was found to have a 2/2 bottles positive for group b streptococcus on 2/21 pcn mic 0.125 for which her pcp treated her with 2 week course of amoxicillin', sen_B='she went to the or on 4/5 cabg tee homograft aortic root placement oin the or the aortic valve was severely damaged', align_A=['soon', 'after', 'she', 'began', '-', 'to', 'feel', 'fatigued', 'and', 'febrile', 'and', 'was', 'found', 'to', 'have', 'a', '2/2', 'bottles', 'positive', 'for', 'group', 'b', 'streptococcus', '-', '-', 'on', '2/21', 'pcn', 'mic', '0.125', 'for', 'which', 'her', 'pcp', 'treated', 'her', 'with', '2', 'week', 'course', 'of', 'amoxicillin', '-', '-', '-', '-', '-', '-', '-', '-', '-', '-', '-', '-', '-', '-', '-', '-'], align_B=['-', '-', 'she', '-', 'went', 'to', '-', '-', '-', '-', '-', '-', '-', '-', '-', '-', '-', '-', '-', '-', '-', '-', '-', 'the', 'or', 'on', '-', '-', '-', '-', '-', '-', '-', '-', '-', '-', '-', '-', '-', '-', '-', '-', '4/5', 'cabg', 'tee', 'homograft', 'aortic', 'root', 'placement', 'oin', 'the', 'or', 'the', 'aortic', 'valve', 'was', 'severely', 'damaged'], align_score=-2.3000000000000007, ovrlp_score=0.11428571428571428),\n",
       " bp_redundancy(sen_A='soon after she began to feel fatigued and febrile and was found to have a 2/2 bottles positive for group b streptococcus on 2/21 pcn mic 0.125 for which her pcp treated her with 2 week course of amoxicillin', sen_B='there was perforation of the right coronary leaflet and there were numerous vegetations which appeared to be rolled up aortic valve tissue on predominantly the right and noncoronary leaflets', align_A=['soon', 'after', 'she', 'began', 'to', 'feel', 'fatigued', 'and', 'febrile', 'and', '-', 'was', 'found', '-', '-', '-', '-', '-', '-', '-', '-', '-', '-', '-', '-', '-', 'to', 'have', 'a', '2/2', 'bottles', 'positive', 'for', 'group', 'b', 'streptococcus', '-', '-', '-', '-', '-', '-', 'on', '2/21', 'pcn', 'mic', '0.125', 'for', 'which', 'her', 'pcp', 'treated', 'her', 'with', '2', 'week', 'course', 'of', 'amoxicillin', '-', '-', '-', '-', '-', '-'], align_B=['-', '-', '-', '-', '-', '-', '-', '-', '-', '-', 'there', 'was', '-', 'perforation', 'of', 'the', 'right', 'coronary', 'leaflet', 'and', 'there', 'were', 'numerous', 'vegetations', 'which', 'appeared', 'to', '-', '-', '-', '-', '-', '-', '-', '-', '-', 'be', 'rolled', 'up', 'aortic', 'valve', 'tissue', 'on', '-', '-', '-', '-', '-', '-', '-', '-', '-', '-', '-', '-', '-', '-', '-', '-', 'predominantly', 'the', 'right', 'and', 'noncoronary', 'leaflets'], align_score=-3.400000000000003, ovrlp_score=0.17142857142857143),\n",
       " bp_redundancy(sen_A='soon after she began to feel fatigued and febrile and was found to have a 2/2 bottles positive for group b streptococcus on 2/21 pcn mic 0.125 for which her pcp treated her with 2 week course of amoxicillin', sen_B='underneath the annulus of the right coronary there was an area of early abscess formation', align_A=['soon', 'after', 'she', 'began', 'to', 'feel', 'fatigued', 'and', 'febrile', 'and', '-', '-', '-', '-', '-', '-', '-', '-', 'was', 'found', 'to', 'have', 'a', '2/2', 'bottles', 'positive', 'for', 'group', 'b', 'streptococcus', 'on', '2/21', 'pcn', 'mic', '0.125', 'for', 'which', 'her', 'pcp', 'treated', 'her', 'with', '2', 'week', 'course', '-', '-', 'of', 'amoxicillin', '-', '-', '-'], align_B=['-', '-', '-', '-', '-', '-', '-', '-', '-', '-', 'underneath', 'the', 'annulus', 'of', 'the', 'right', 'coronary', 'there', 'was', '-', '-', '-', '-', '-', '-', '-', '-', '-', '-', '-', '-', '-', '-', '-', '-', '-', '-', '-', '-', '-', '-', '-', '-', '-', '-', 'an', 'area', 'of', '-', 'early', 'abscess', 'formation'], align_score=-3.400000000000002, ovrlp_score=0.05714285714285714),\n",
       " bp_redundancy(sen_A='soon after she began to feel fatigued and febrile and was found to have a 2/2 bottles positive for group b streptococcus on 2/21 pcn mic 0.125 for which her pcp treated her with 2 week course of amoxicillin', sen_B='gram stain of tissues was negative for organisms and cultures were negative', align_A=['soon', 'after', 'she', 'began', 'to', 'feel', 'fatigued', 'and', 'febrile', 'and', '-', '-', '-', '-', 'was', 'found', 'to', 'have', 'a', '2/2', 'bottles', 'positive', '-', 'for', 'group', 'b', 'streptococcus', 'on', '2/21', 'pcn', 'mic', '0.125', 'for', 'which', 'her', 'pcp', 'treated', 'her', 'with', '2', 'week', 'course', 'of', 'amoxicillin', '-', '-', '-', '-', '-'], align_B=['-', '-', '-', '-', '-', '-', '-', '-', '-', '-', 'gram', 'stain', 'of', 'tissues', 'was', '-', '-', '-', '-', '-', '-', '-', 'negative', 'for', '-', '-', '-', '-', '-', '-', '-', '-', '-', '-', '-', '-', '-', '-', '-', '-', '-', '-', '-', '-', 'organisms', 'and', 'cultures', 'were', 'negative'], align_score=-3.100000000000002, ovrlp_score=0.11428571428571428),\n",
       " bp_redundancy(sen_A='soon after she began to feel fatigued and febrile and was found to have a 2/2 bottles positive for group b streptococcus on 2/21 pcn mic 0.125 for which her pcp treated her with 2 week course of amoxicillin', sen_B='pathology was notable for numerous degenerated bacterial coccal forms present on silver stain consistent with streptococcus', align_A=['soon', 'after', 'she', 'began', 'to', 'feel', 'fatigued', 'and', 'febrile', 'and', '-', 'was', 'found', 'to', 'have', 'a', '2/2', 'bottles', 'positive', '-', 'for', 'group', 'b', 'streptococcus', '-', '-', '-', '-', '-', '-', 'on', '2/21', 'pcn', 'mic', '0.125', 'for', 'which', 'her', 'pcp', 'treated', 'her', '-', '-', '-', 'with', '2', 'week', 'course', 'of', 'amoxicillin', '-'], align_B=['-', '-', '-', '-', '-', '-', '-', '-', '-', '-', 'pathology', 'was', '-', '-', '-', '-', '-', '-', '-', 'notable', 'for', '-', '-', '-', 'numerous', 'degenerated', 'bacterial', 'coccal', 'forms', 'present', 'on', '-', '-', '-', '-', '-', '-', '-', '-', '-', '-', 'silver', 'stain', 'consistent', 'with', '-', '-', '-', '-', '-', 'streptococcus'], align_score=-0.6999999999999997, ovrlp_score=0.14285714285714285),\n",
       " bp_redundancy(sen_A='soon after she began to feel fatigued and febrile and was found to have a 2/2 bottles positive for group b streptococcus on 2/21 pcn mic 0.125 for which her pcp treated her with 2 week course of amoxicillin', sen_B='occasional residual gram positive cocci present on brown-hopps stain', align_A=['soon', 'after', 'she', 'began', 'to', 'feel', 'fatigued', 'and', 'febrile', 'and', 'was', 'found', 'to', 'have', 'a', '2/2', 'bottles', '-', '-', '-', 'positive', 'for', 'group', 'b', 'streptococcus', '-', '-', 'on', '2/21', 'pcn', 'mic', '0.125', 'for', 'which', 'her', 'pcp', 'treated', 'her', 'with', '2', 'week', 'course', 'of', 'amoxicillin', '-', '-'], align_B=['-', '-', '-', '-', '-', '-', '-', '-', '-', '-', '-', '-', '-', '-', '-', '-', '-', 'occasional', 'residual', 'gram', 'positive', '-', '-', '-', '-', 'cocci', 'present', 'on', '-', '-', '-', '-', '-', '-', '-', '-', '-', '-', '-', '-', '-', '-', '-', '-', 'brown-hopps', 'stain'], align_score=-2.8000000000000016, ovrlp_score=0.05714285714285714),\n",
       " bp_redundancy(sen_A='on 4/3 she presents with sob orthopnea and pnd', sen_B='she developed doe pnd orthopnea worsening fatigue and malaise', align_A=['on', '4/3', 'she', 'presents', 'with', 'sob', '-', '-', '-', 'orthopnea', '-', '-', 'and', 'pnd', '-'], align_B=['-', '-', 'she', '-', '-', '-', 'developed', 'doe', 'pnd', 'orthopnea', 'worsening', 'fatigue', 'and', '-', 'malaise'], align_score=2.4, ovrlp_score=0.4444444444444444),\n",
       " bp_redundancy(sen_A='on 4/3 she presents with sob orthopnea and pnd', sen_B='cxr at osh notable for pulm edema and tte demonstrated vegetation on the aortic valve', align_A=['-', '-', '-', '-', '-', '-', '-', '-', '-', '-', '-', 'on', '4/3', 'she', 'presents', 'with', 'sob', 'orthopnea', 'and', 'pnd', '-', '-', '-'], align_B=['cxr', 'at', 'osh', 'notable', 'for', 'pulm', 'edema', 'and', 'tte', 'demonstrated', 'vegetation', 'on', '-', '-', '-', '-', '-', '-', '-', '-', 'the', 'aortic', 'valve'], align_score=-1.4000000000000001, ovrlp_score=0.2222222222222222),\n",
       " bp_redundancy(sen_A='on 4/3 she presents with sob orthopnea and pnd', sen_B='she was transferred to nsh where she was started on ampicillin 1gm iv q8h and gentamicin 120 mg tid', align_A=['on', '4/3', 'she', 'presents', 'with', 'sob', 'orthopnea', '-', '-', '-', '-', '-', '-', '-', '-', '-', '-', '-', '-', '-', 'and', 'pnd', '-', '-', '-', '-'], align_B=['-', '-', 'she', '-', '-', '-', '-', 'was', 'transferred', 'to', 'nsh', 'where', 'she', 'was', 'started', 'on', 'ampicillin', '1gm', 'iv', 'q8h', 'and', '-', 'gentamicin', '120', 'mg', 'tid'], align_score=-0.39999999999999986, ovrlp_score=0.3333333333333333),\n",
       " bp_redundancy(sen_A='on 4/3 she presents with sob orthopnea and pnd', sen_B='tte 4/4 showed a mobile mass of echoes attached to the valve c/w vegetation', align_A=['on', '4/3', 'she', 'presents', 'with', 'sob', 'orthopnea', 'and', 'pnd', '-', '-', '-', '-', '-', '-', '-', '-', '-', '-', '-', '-', '-', '-'], align_B=['-', '-', '-', '-', '-', '-', '-', '-', '-', 'tte', '4/4', 'showed', 'a', 'mobile', 'mass', 'of', 'echoes', 'attached', 'to', 'the', 'valve', 'c/w', 'vegetation'], align_score=-3.1000000000000005, ovrlp_score=0.0),\n",
       " bp_redundancy(sen_A='on 4/3 she presents with sob orthopnea and pnd', sen_B='the right coronary leaflet appears flail and there was prolapse of the non-coronary cusp as well', align_A=['on', '4/3', 'she', 'presents', 'with', 'sob', 'orthopnea', '-', '-', '-', '-', '-', '-', 'and', 'pnd', '-', '-', '-', '-', '-', '-', '-', '-', '-'], align_B=['-', '-', '-', '-', '-', '-', '-', 'the', 'right', 'coronary', 'leaflet', 'appears', 'flail', 'and', '-', 'there', 'was', 'prolapse', 'of', 'the', 'non-coronary', 'cusp', 'as', 'well'], align_score=-1.9000000000000008, ovrlp_score=0.1111111111111111),\n",
       " bp_redundancy(sen_A='on 4/3 she presents with sob orthopnea and pnd', sen_B='there was evidence of at least moderate aortic insufficiency by color and spectral doppler', align_A=['on', '4/3', 'she', 'presents', 'with', 'sob', 'orthopnea', '-', '-', '-', '-', '-', '-', '-', '-', '-', '-', '-', 'and', 'pnd', '-', '-'], align_B=['-', '-', '-', '-', '-', '-', '-', 'there', 'was', 'evidence', 'of', 'at', 'least', 'moderate', 'aortic', 'insufficiency', 'by', 'color', 'and', '-', 'spectral', 'doppler'], align_score=-1.7000000000000006, ovrlp_score=0.1111111111111111),\n",
       " bp_redundancy(sen_A='on 4/3 she presents with sob orthopnea and pnd', sen_B='she went to the or on 4/5 cabg tee homograft aortic root placement oin the or the aortic valve was severely damaged', align_A=['on', '4/3', 'she', 'presents', 'with', 'sob', 'orthopnea', 'and', 'pnd', '-', '-', '-', '-', '-', '-', '-', '-', '-', '-', '-', '-', '-', '-', '-', '-', '-', '-', '-', '-', '-'], align_B=['-', '-', 'she', '-', '-', '-', '-', '-', '-', 'went', 'to', 'the', 'or', 'on', '4/5', 'cabg', 'tee', 'homograft', 'aortic', 'root', 'placement', 'oin', 'the', 'or', 'the', 'aortic', 'valve', 'was', 'severely', 'damaged'], align_score=-2.1, ovrlp_score=0.2222222222222222),\n",
       " bp_redundancy(sen_A='on 4/3 she presents with sob orthopnea and pnd', sen_B='there was perforation of the right coronary leaflet and there were numerous vegetations which appeared to be rolled up aortic valve tissue on predominantly the right and noncoronary leaflets', align_A=['-', '-', '-', '-', '-', '-', '-', '-', '-', '-', '-', '-', '-', '-', '-', '-', '-', '-', '-', '-', '-', '-', 'on', '4/3', 'she', 'presents', 'with', 'sob', 'orthopnea', '-', '-', '-', 'and', 'pnd', '-', '-'], align_B=['there', 'was', 'perforation', 'of', 'the', 'right', 'coronary', 'leaflet', 'and', 'there', 'were', 'numerous', 'vegetations', 'which', 'appeared', 'to', 'be', 'rolled', 'up', 'aortic', 'valve', 'tissue', 'on', '-', '-', '-', '-', '-', '-', 'predominantly', 'the', 'right', 'and', '-', 'noncoronary', 'leaflets'], align_score=-1.4000000000000008, ovrlp_score=0.2222222222222222),\n",
       " bp_redundancy(sen_A='on 4/3 she presents with sob orthopnea and pnd', sen_B='underneath the annulus of the right coronary there was an area of early abscess formation', align_A=['on', '4/3', 'she', 'presents', 'with', 'sob', 'orthopnea', 'and', 'pnd', '-', '-', '-', '-', '-', '-', '-', '-', '-', '-', '-', '-', '-', '-', '-'], align_B=['-', '-', '-', '-', '-', '-', '-', '-', '-', 'underneath', 'the', 'annulus', 'of', 'the', 'right', 'coronary', 'there', 'was', 'an', 'area', 'of', 'early', 'abscess', 'formation'], align_score=-3.2000000000000006, ovrlp_score=0.0),\n",
       " bp_redundancy(sen_A='on 4/3 she presents with sob orthopnea and pnd', sen_B='gram stain of tissues was negative for organisms and cultures were negative', align_A=['on', '4/3', 'she', 'presents', 'with', 'sob', 'orthopnea', '-', '-', '-', '-', '-', '-', '-', '-', 'and', 'pnd', '-', '-', '-'], align_B=['-', '-', '-', '-', '-', '-', '-', 'gram', 'stain', 'of', 'tissues', 'was', 'negative', 'for', 'organisms', 'and', '-', 'cultures', 'were', 'negative'], align_score=-1.5000000000000002, ovrlp_score=0.1111111111111111),\n",
       " bp_redundancy(sen_A='on 4/3 she presents with sob orthopnea and pnd', sen_B='pathology was notable for numerous degenerated bacterial coccal forms present on silver stain consistent with streptococcus', align_A=['-', '-', '-', '-', '-', '-', '-', '-', '-', '-', 'on', '4/3', 'she', 'presents', '-', '-', '-', 'with', 'sob', 'orthopnea', 'and', 'pnd', '-'], align_B=['pathology', 'was', 'notable', 'for', 'numerous', 'degenerated', 'bacterial', 'coccal', 'forms', 'present', 'on', '-', '-', '-', 'silver', 'stain', 'consistent', 'with', '-', '-', '-', '-', 'streptococcus'], align_score=-0.09999999999999976, ovrlp_score=0.2222222222222222),\n",
       " bp_redundancy(sen_A='on 4/3 she presents with sob orthopnea and pnd', sen_B='occasional residual gram positive cocci present on brown-hopps stain', align_A=['-', '-', '-', '-', '-', '-', 'on', '4/3', 'she', 'presents', 'with', 'sob', 'orthopnea', 'and', 'pnd', '-', '-'], align_B=['occasional', 'residual', 'gram', 'positive', 'cocci', 'present', 'on', '-', '-', '-', '-', '-', '-', '-', '-', 'brown-hopps', 'stain'], align_score=-0.7999999999999999, ovrlp_score=0.1111111111111111),\n",
       " bp_redundancy(sen_A='she developed doe pnd orthopnea worsening fatigue and malaise', sen_B='cxr at osh notable for pulm edema and tte demonstrated vegetation on the aortic valve', align_A=['she', 'developed', 'doe', 'pnd', 'orthopnea', 'worsening', 'fatigue', '-', '-', '-', '-', '-', '-', '-', 'and', 'malaise', '-', '-', '-', '-', '-', '-', '-'], align_B=['-', '-', '-', '-', '-', '-', '-', 'cxr', 'at', 'osh', 'notable', 'for', 'pulm', 'edema', 'and', '-', 'tte', 'demonstrated', 'vegetation', 'on', 'the', 'aortic', 'valve'], align_score=-1.800000000000001, ovrlp_score=0.1111111111111111),\n",
       " bp_redundancy(sen_A='she developed doe pnd orthopnea worsening fatigue and malaise', sen_B='she was transferred to nsh where she was started on ampicillin 1gm iv q8h and gentamicin 120 mg tid', align_A=['she', 'developed', 'doe', 'pnd', 'orthopnea', 'worsening', 'fatigue', '-', '-', '-', '-', '-', '-', '-', '-', '-', '-', '-', '-', '-', 'and', 'malaise', '-', '-', '-', '-'], align_B=['she', '-', '-', '-', '-', '-', '-', 'was', 'transferred', 'to', 'nsh', 'where', 'she', 'was', 'started', 'on', 'ampicillin', '1gm', 'iv', 'q8h', 'and', '-', 'gentamicin', '120', 'mg', 'tid'], align_score=-1.1102230246251565e-16, ovrlp_score=0.2222222222222222),\n",
       " bp_redundancy(sen_A='she developed doe pnd orthopnea worsening fatigue and malaise', sen_B='tte 4/4 showed a mobile mass of echoes attached to the valve c/w vegetation', align_A=['she', 'developed', 'doe', 'pnd', 'orthopnea', 'worsening', 'fatigue', 'and', 'malaise', '-', '-', '-', '-', '-', '-', '-', '-', '-', '-', '-', '-', '-', '-'], align_B=['-', '-', '-', '-', '-', '-', '-', '-', '-', 'tte', '4/4', 'showed', 'a', 'mobile', 'mass', 'of', 'echoes', 'attached', 'to', 'the', 'valve', 'c/w', 'vegetation'], align_score=-3.1000000000000005, ovrlp_score=0.0),\n",
       " bp_redundancy(sen_A='she developed doe pnd orthopnea worsening fatigue and malaise', sen_B='the right coronary leaflet appears flail and there was prolapse of the non-coronary cusp as well', align_A=['she', 'developed', 'doe', 'pnd', 'orthopnea', 'worsening', 'fatigue', '-', '-', '-', '-', '-', '-', 'and', 'malaise', '-', '-', '-', '-', '-', '-', '-', '-', '-'], align_B=['-', '-', '-', '-', '-', '-', '-', 'the', 'right', 'coronary', 'leaflet', 'appears', 'flail', 'and', '-', 'there', 'was', 'prolapse', 'of', 'the', 'non-coronary', 'cusp', 'as', 'well'], align_score=-1.9000000000000008, ovrlp_score=0.1111111111111111),\n",
       " bp_redundancy(sen_A='she developed doe pnd orthopnea worsening fatigue and malaise', sen_B='there was evidence of at least moderate aortic insufficiency by color and spectral doppler', align_A=['she', 'developed', 'doe', 'pnd', 'orthopnea', 'worsening', 'fatigue', '-', '-', '-', '-', '-', '-', '-', '-', '-', '-', '-', 'and', 'malaise', '-', '-'], align_B=['-', '-', '-', '-', '-', '-', '-', 'there', 'was', 'evidence', 'of', 'at', 'least', 'moderate', 'aortic', 'insufficiency', 'by', 'color', 'and', '-', 'spectral', 'doppler'], align_score=-1.7000000000000006, ovrlp_score=0.1111111111111111),\n",
       " bp_redundancy(sen_A='she developed doe pnd orthopnea worsening fatigue and malaise', sen_B='she went to the or on 4/5 cabg tee homograft aortic root placement oin the or the aortic valve was severely damaged', align_A=['she', 'developed', 'doe', 'pnd', 'orthopnea', 'worsening', 'fatigue', 'and', 'malaise', '-', '-', '-', '-', '-', '-', '-', '-', '-', '-', '-', '-', '-', '-', '-', '-', '-', '-', '-', '-', '-'], align_B=['she', '-', '-', '-', '-', '-', '-', '-', '-', 'went', 'to', 'the', 'or', 'on', '4/5', 'cabg', 'tee', 'homograft', 'aortic', 'root', 'placement', 'oin', 'the', 'or', 'the', 'aortic', 'valve', 'was', 'severely', 'damaged'], align_score=-1.7000000000000008, ovrlp_score=0.1111111111111111),\n",
       " bp_redundancy(sen_A='she developed doe pnd orthopnea worsening fatigue and malaise', sen_B='there was perforation of the right coronary leaflet and there were numerous vegetations which appeared to be rolled up aortic valve tissue on predominantly the right and noncoronary leaflets', align_A=['she', 'developed', 'doe', 'pnd', 'orthopnea', 'worsening', 'fatigue', '-', '-', '-', '-', '-', '-', '-', '-', 'and', 'malaise', '-', '-', '-', '-', '-', '-', '-', '-', '-', '-', '-', '-', '-', '-', '-', '-', '-', '-', '-', '-'], align_B=['-', '-', '-', '-', '-', '-', '-', 'there', 'was', 'perforation', 'of', 'the', 'right', 'coronary', 'leaflet', 'and', '-', 'there', 'were', 'numerous', 'vegetations', 'which', 'appeared', 'to', 'be', 'rolled', 'up', 'aortic', 'valve', 'tissue', 'on', 'predominantly', 'the', 'right', 'and', 'noncoronary', 'leaflets'], align_score=-3.1999999999999997, ovrlp_score=0.1111111111111111),\n",
       " bp_redundancy(sen_A='she developed doe pnd orthopnea worsening fatigue and malaise', sen_B='underneath the annulus of the right coronary there was an area of early abscess formation', align_A=['she', 'developed', 'doe', 'pnd', 'orthopnea', 'worsening', 'fatigue', 'and', 'malaise', '-', '-', '-', '-', '-', '-', '-', '-', '-', '-', '-', '-', '-', '-', '-'], align_B=['-', '-', '-', '-', '-', '-', '-', '-', '-', 'underneath', 'the', 'annulus', 'of', 'the', 'right', 'coronary', 'there', 'was', 'an', 'area', 'of', 'early', 'abscess', 'formation'], align_score=-3.2000000000000006, ovrlp_score=0.0),\n",
       " bp_redundancy(sen_A='she developed doe pnd orthopnea worsening fatigue and malaise', sen_B='gram stain of tissues was negative for organisms and cultures were negative', align_A=['she', 'developed', 'doe', 'pnd', 'orthopnea', 'worsening', 'fatigue', '-', '-', '-', '-', '-', '-', '-', '-', 'and', 'malaise', '-', '-', '-'], align_B=['-', '-', '-', '-', '-', '-', '-', 'gram', 'stain', 'of', 'tissues', 'was', 'negative', 'for', 'organisms', 'and', '-', 'cultures', 'were', 'negative'], align_score=-1.5000000000000002, ovrlp_score=0.1111111111111111),\n",
       " bp_redundancy(sen_A='she developed doe pnd orthopnea worsening fatigue and malaise', sen_B='pathology was notable for numerous degenerated bacterial coccal forms present on silver stain consistent with streptococcus', align_A=['she', 'developed', 'doe', 'pnd', 'orthopnea', 'worsening', 'fatigue', 'and', 'malaise', '-', '-', '-', '-', '-', '-', '-', '-', '-', '-', '-', '-', '-', '-', '-', '-'], align_B=['-', '-', '-', '-', '-', '-', '-', '-', '-', 'pathology', 'was', 'notable', 'for', 'numerous', 'degenerated', 'bacterial', 'coccal', 'forms', 'present', 'on', 'silver', 'stain', 'consistent', 'with', 'streptococcus'], align_score=-3.3000000000000007, ovrlp_score=0.0),\n",
       " bp_redundancy(sen_A='she developed doe pnd orthopnea worsening fatigue and malaise', sen_B='occasional residual gram positive cocci present on brown-hopps stain', align_A=['she', 'developed', 'doe', 'pnd', 'orthopnea', 'worsening', 'fatigue', 'and', 'malaise', '-', '-', '-', '-', '-', '-', '-', '-', '-'], align_B=['-', '-', '-', '-', '-', '-', '-', '-', '-', 'occasional', 'residual', 'gram', 'positive', 'cocci', 'present', 'on', 'brown-hopps', 'stain'], align_score=-2.6000000000000005, ovrlp_score=0.0),\n",
       " bp_redundancy(sen_A='cxr at osh notable for pulm edema and tte demonstrated vegetation on the aortic valve', sen_B='she was transferred to nsh where she was started on ampicillin 1gm iv q8h and gentamicin 120 mg tid', align_A=['cxr', 'at', 'osh', 'notable', 'for', 'pulm', 'edema', 'and', 'tte', 'demonstrated', 'vegetation', '-', '-', '-', '-', '-', '-', '-', '-', '-', 'on', 'the', 'aortic', 'valve', '-', '-', '-', '-', '-', '-', '-', '-', '-'], align_B=['-', '-', '-', '-', '-', '-', '-', '-', '-', '-', '-', 'she', 'was', 'transferred', 'to', 'nsh', 'where', 'she', 'was', 'started', 'on', '-', '-', '-', 'ampicillin', '1gm', 'iv', 'q8h', 'and', 'gentamicin', '120', 'mg', 'tid'], align_score=-2.800000000000001, ovrlp_score=0.13333333333333333),\n",
       " bp_redundancy(sen_A='cxr at osh notable for pulm edema and tte demonstrated vegetation on the aortic valve', sen_B='tte 4/4 showed a mobile mass of echoes attached to the valve c/w vegetation', align_A=['cxr', 'at', 'osh', 'notable', 'for', 'pulm', 'edema', 'and', 'tte', 'demonstrated', 'vegetation', 'on', '-', '-', '-', '-', '-', '-', '-', '-', '-', 'the', 'aortic', 'valve', '-', '-'], align_B=['-', '-', '-', '-', '-', '-', '-', '-', 'tte', '-', '-', '-', '4/4', 'showed', 'a', 'mobile', 'mass', 'of', 'echoes', 'attached', 'to', 'the', '-', 'valve', 'c/w', 'vegetation'], align_score=1.6999999999999997, ovrlp_score=0.26666666666666666),\n",
       " bp_redundancy(sen_A='cxr at osh notable for pulm edema and tte demonstrated vegetation on the aortic valve', sen_B='the right coronary leaflet appears flail and there was prolapse of the non-coronary cusp as well', align_A=['cxr', 'at', 'osh', 'notable', 'for', 'pulm', 'edema', '-', '-', '-', '-', '-', '-', 'and', 'tte', 'demonstrated', 'vegetation', 'on', '-', '-', '-', '-', 'the', 'aortic', 'valve', '-', '-', '-', '-'], align_B=['-', '-', '-', '-', '-', '-', '-', 'the', 'right', 'coronary', 'leaflet', 'appears', 'flail', 'and', '-', '-', '-', '-', 'there', 'was', 'prolapse', 'of', 'the', '-', '-', 'non-coronary', 'cusp', 'as', 'well'], align_score=-1.1000000000000005, ovrlp_score=0.13333333333333333),\n",
       " bp_redundancy(sen_A='cxr at osh notable for pulm edema and tte demonstrated vegetation on the aortic valve', sen_B='there was evidence of at least moderate aortic insufficiency by color and spectral doppler', align_A=['cxr', '-', '-', '-', '-', 'at', 'osh', 'notable', 'for', 'pulm', 'edema', 'and', 'tte', 'demonstrated', 'vegetation', 'on', 'the', '-', '-', 'aortic', 'valve', '-', '-', '-', '-', '-', '-'], align_B=['-', 'there', 'was', 'evidence', 'of', 'at', '-', '-', '-', '-', '-', '-', '-', '-', '-', '-', '-', 'least', 'moderate', 'aortic', '-', 'insufficiency', 'by', 'color', 'and', 'spectral', 'doppler'], align_score=-0.8999999999999998, ovrlp_score=0.2),\n",
       " bp_redundancy(sen_A='cxr at osh notable for pulm edema and tte demonstrated vegetation on the aortic valve', sen_B='she went to the or on 4/5 cabg tee homograft aortic root placement oin the or the aortic valve was severely damaged', align_A=['cxr', 'at', 'osh', 'notable', 'for', 'pulm', 'edema', 'and', 'tte', 'demonstrated', 'vegetation', '-', '-', '-', '-', '-', 'on', '-', '-', '-', '-', '-', '-', '-', '-', '-', '-', 'the', 'aortic', 'valve', '-', '-', '-'], align_B=['-', '-', '-', '-', '-', '-', '-', '-', '-', '-', '-', 'she', 'went', 'to', 'the', 'or', 'on', '4/5', 'cabg', 'tee', 'homograft', 'aortic', 'root', 'placement', 'oin', 'the', 'or', 'the', 'aortic', 'valve', 'was', 'severely', 'damaged'], align_score=3.499999999999999, ovrlp_score=0.26666666666666666),\n",
       " bp_redundancy(sen_A='cxr at osh notable for pulm edema and tte demonstrated vegetation on the aortic valve', sen_B='there was perforation of the right coronary leaflet and there were numerous vegetations which appeared to be rolled up aortic valve tissue on predominantly the right and noncoronary leaflets', align_A=['cxr', 'at', 'osh', 'notable', 'for', 'pulm', 'edema', 'and', 'tte', 'demonstrated', 'vegetation', 'on', '-', '-', '-', '-', 'the', '-', '-', '-', '-', '-', '-', '-', '-', '-', '-', '-', '-', '-', '-', 'aortic', 'valve', '-', '-', '-', '-', '-', '-', '-', '-'], align_B=['-', '-', '-', '-', '-', '-', '-', '-', '-', '-', '-', '-', 'there', 'was', 'perforation', 'of', 'the', 'right', 'coronary', 'leaflet', 'and', 'there', 'were', 'numerous', 'vegetations', 'which', 'appeared', 'to', 'be', 'rolled', 'up', 'aortic', 'valve', 'tissue', 'on', 'predominantly', 'the', 'right', 'and', 'noncoronary', 'leaflets'], align_score=0.5999999999999984, ovrlp_score=0.3333333333333333),\n",
       " bp_redundancy(sen_A='cxr at osh notable for pulm edema and tte demonstrated vegetation on the aortic valve', sen_B='underneath the annulus of the right coronary there was an area of early abscess formation', align_A=['cxr', 'at', 'osh', 'notable', 'for', 'pulm', 'edema', 'and', 'tte', 'demonstrated', 'vegetation', 'on', '-', 'the', 'aortic', 'valve', '-', '-', '-', '-', '-', '-', '-', '-', '-', '-', '-', '-', '-'], align_B=['-', '-', '-', '-', '-', '-', '-', '-', '-', '-', '-', '-', 'underneath', 'the', '-', '-', 'annulus', 'of', 'the', 'right', 'coronary', 'there', 'was', 'an', 'area', 'of', 'early', 'abscess', 'formation'], align_score=-2.400000000000001, ovrlp_score=0.06666666666666667),\n",
       " bp_redundancy(sen_A='cxr at osh notable for pulm edema and tte demonstrated vegetation on the aortic valve', sen_B='gram stain of tissues was negative for organisms and cultures were negative', align_A=['cxr', 'at', 'osh', 'notable', '-', '-', '-', '-', '-', '-', 'for', 'pulm', 'edema', '-', 'and', 'tte', 'demonstrated', 'vegetation', 'on', 'the', 'aortic', 'valve', '-', '-', '-'], align_B=['-', '-', '-', '-', 'gram', 'stain', 'of', 'tissues', 'was', 'negative', 'for', '-', '-', 'organisms', 'and', '-', '-', '-', '-', '-', '-', '-', 'cultures', 'were', 'negative'], align_score=-0.7000000000000003, ovrlp_score=0.13333333333333333),\n",
       " bp_redundancy(sen_A='cxr at osh notable for pulm edema and tte demonstrated vegetation on the aortic valve', sen_B='pathology was notable for numerous degenerated bacterial coccal forms present on silver stain consistent with streptococcus', align_A=['cxr', 'at', 'osh', '-', '-', 'notable', 'for', 'pulm', 'edema', 'and', 'tte', 'demonstrated', 'vegetation', '-', '-', '-', '-', '-', '-', 'on', 'the', 'aortic', 'valve', '-', '-', '-', '-', '-'], align_B=['-', '-', '-', 'pathology', 'was', 'notable', 'for', '-', '-', '-', '-', '-', '-', 'numerous', 'degenerated', 'bacterial', 'coccal', 'forms', 'present', 'on', '-', '-', '-', 'silver', 'stain', 'consistent', 'with', 'streptococcus'], align_score=1.0999999999999988, ovrlp_score=0.2),\n",
       " bp_redundancy(sen_A='cxr at osh notable for pulm edema and tte demonstrated vegetation on the aortic valve', sen_B='occasional residual gram positive cocci present on brown-hopps stain', align_A=['cxr', 'at', 'osh', 'notable', 'for', 'pulm', 'edema', 'and', 'tte', 'demonstrated', 'vegetation', '-', '-', '-', '-', '-', '-', 'on', 'the', 'aortic', 'valve', '-', '-'], align_B=['-', '-', '-', '-', '-', '-', '-', '-', '-', '-', '-', 'occasional', 'residual', 'gram', 'positive', 'cocci', 'present', 'on', '-', '-', '-', 'brown-hopps', 'stain'], align_score=-1.8000000000000007, ovrlp_score=0.06666666666666667),\n",
       " bp_redundancy(sen_A='she was transferred to nsh where she was started on ampicillin 1gm iv q8h and gentamicin 120 mg tid', sen_B='tte 4/4 showed a mobile mass of echoes attached to the valve c/w vegetation', align_A=['she', 'was', 'transferred', '-', '-', '-', '-', '-', '-', '-', '-', '-', 'to', 'nsh', 'where', 'she', 'was', 'started', 'on', 'ampicillin', '1gm', 'iv', 'q8h', 'and', 'gentamicin', '120', 'mg', 'tid', '-', '-', '-', '-'], align_B=['-', '-', '-', 'tte', '4/4', 'showed', 'a', 'mobile', 'mass', 'of', 'echoes', 'attached', 'to', '-', '-', '-', '-', '-', '-', '-', '-', '-', '-', '-', '-', '-', '-', '-', 'the', 'valve', 'c/w', 'vegetation'], align_score=-2.7000000000000006, ovrlp_score=0.058823529411764705),\n",
       " bp_redundancy(sen_A='she was transferred to nsh where she was started on ampicillin 1gm iv q8h and gentamicin 120 mg tid', sen_B='the right coronary leaflet appears flail and there was prolapse of the non-coronary cusp as well', align_A=['she', 'was', 'transferred', 'to', 'nsh', 'where', 'she', 'was', 'started', 'on', 'ampicillin', '1gm', 'iv', 'q8h', '-', '-', '-', '-', '-', '-', 'and', 'gentamicin', '120', 'mg', 'tid', '-', '-', '-', '-', '-', '-', '-', '-', '-'], align_B=['-', '-', '-', '-', '-', '-', '-', '-', '-', '-', '-', '-', '-', '-', 'the', 'right', 'coronary', 'leaflet', 'appears', 'flail', 'and', '-', '-', '-', '-', 'there', 'was', 'prolapse', 'of', 'the', 'non-coronary', 'cusp', 'as', 'well'], align_score=-2.9000000000000012, ovrlp_score=0.11764705882352941),\n",
       " bp_redundancy(sen_A='she was transferred to nsh where she was started on ampicillin 1gm iv q8h and gentamicin 120 mg tid', sen_B='there was evidence of at least moderate aortic insufficiency by color and spectral doppler', align_A=['she', '-', 'was', 'transferred', 'to', 'nsh', 'where', 'she', 'was', 'started', 'on', 'ampicillin', '1gm', 'iv', 'q8h', '-', '-', '-', '-', '-', '-', '-', '-', '-', 'and', 'gentamicin', '120', 'mg', 'tid', '-', '-'], align_B=['-', 'there', 'was', '-', '-', '-', '-', '-', '-', '-', '-', '-', '-', '-', '-', 'evidence', 'of', 'at', 'least', 'moderate', 'aortic', 'insufficiency', 'by', 'color', 'and', '-', '-', '-', '-', 'spectral', 'doppler'], align_score=-1.3000000000000003, ovrlp_score=0.11764705882352941),\n",
       " bp_redundancy(sen_A='she was transferred to nsh where she was started on ampicillin 1gm iv q8h and gentamicin 120 mg tid', sen_B='she went to the or on 4/5 cabg tee homograft aortic root placement oin the or the aortic valve was severely damaged', align_A=['she', 'was', 'transferred', '-', 'to', 'nsh', 'where', 'she', 'was', 'started', '-', '-', 'on', 'ampicillin', '1gm', 'iv', 'q8h', 'and', 'gentamicin', '120', 'mg', 'tid', '-', '-', '-', '-', '-', '-', '-', '-', '-', '-', '-', '-', '-', '-', '-', '-'], align_B=['she', '-', '-', 'went', 'to', '-', '-', '-', '-', '-', 'the', 'or', 'on', '-', '-', '-', '-', '-', '-', '-', '-', '-', '4/5', 'cabg', 'tee', 'homograft', 'aortic', 'root', 'placement', 'oin', 'the', 'or', 'the', 'aortic', 'valve', 'was', 'severely', 'damaged'], align_score=0.09999999999999937, ovrlp_score=0.23529411764705882),\n",
       " bp_redundancy(sen_A='she was transferred to nsh where she was started on ampicillin 1gm iv q8h and gentamicin 120 mg tid', sen_B='there was perforation of the right coronary leaflet and there were numerous vegetations which appeared to be rolled up aortic valve tissue on predominantly the right and noncoronary leaflets', align_A=['she', '-', 'was', 'transferred', '-', '-', '-', '-', '-', '-', '-', '-', '-', '-', '-', '-', '-', 'to', 'nsh', 'where', 'she', 'was', 'started', '-', '-', '-', '-', '-', '-', 'on', 'ampicillin', '1gm', 'iv', 'q8h', '-', '-', '-', 'and', 'gentamicin', '120', 'mg', 'tid', '-', '-'], align_B=['-', 'there', 'was', '-', 'perforation', 'of', 'the', 'right', 'coronary', 'leaflet', 'and', 'there', 'were', 'numerous', 'vegetations', 'which', 'appeared', 'to', '-', '-', '-', '-', '-', 'be', 'rolled', 'up', 'aortic', 'valve', 'tissue', 'on', '-', '-', '-', '-', 'predominantly', 'the', 'right', 'and', '-', '-', '-', '-', 'noncoronary', 'leaflets'], align_score=4.163336342344337e-16, ovrlp_score=0.23529411764705882),\n",
       " bp_redundancy(sen_A='she was transferred to nsh where she was started on ampicillin 1gm iv q8h and gentamicin 120 mg tid', sen_B='underneath the annulus of the right coronary there was an area of early abscess formation', align_A=['she', '-', '-', '-', '-', '-', '-', '-', '-', 'was', 'transferred', 'to', 'nsh', 'where', 'she', 'was', 'started', 'on', 'ampicillin', '1gm', 'iv', 'q8h', 'and', 'gentamicin', '120', 'mg', 'tid', '-', '-', '-', '-', '-', '-'], align_B=['-', 'underneath', 'the', 'annulus', 'of', 'the', 'right', 'coronary', 'there', 'was', '-', '-', '-', '-', '-', '-', '-', '-', '-', '-', '-', '-', '-', '-', '-', '-', '-', 'an', 'area', 'of', 'early', 'abscess', 'formation'], align_score=-2.800000000000001, ovrlp_score=0.058823529411764705),\n",
       " bp_redundancy(sen_A='she was transferred to nsh where she was started on ampicillin 1gm iv q8h and gentamicin 120 mg tid', sen_B='gram stain of tissues was negative for organisms and cultures were negative', align_A=['she', '-', '-', '-', '-', 'was', 'transferred', 'to', 'nsh', 'where', 'she', 'was', 'started', 'on', 'ampicillin', '1gm', 'iv', 'q8h', '-', '-', '-', 'and', 'gentamicin', '120', 'mg', 'tid', '-', '-', '-'], align_B=['-', 'gram', 'stain', 'of', 'tissues', 'was', '-', '-', '-', '-', '-', '-', '-', '-', '-', '-', '-', '-', 'negative', 'for', 'organisms', 'and', '-', '-', '-', '-', 'cultures', 'were', 'negative'], align_score=-1.1, ovrlp_score=0.11764705882352941),\n",
       " bp_redundancy(sen_A='she was transferred to nsh where she was started on ampicillin 1gm iv q8h and gentamicin 120 mg tid', sen_B='pathology was notable for numerous degenerated bacterial coccal forms present on silver stain consistent with streptococcus', align_A=['she', 'was', 'transferred', 'to', 'nsh', 'where', 'she', '-', 'was', 'started', '-', '-', '-', '-', '-', '-', '-', '-', 'on', 'ampicillin', '1gm', 'iv', 'q8h', 'and', 'gentamicin', '120', 'mg', 'tid', '-', '-', '-', '-', '-'], align_B=['-', '-', '-', '-', '-', '-', '-', 'pathology', 'was', '-', 'notable', 'for', 'numerous', 'degenerated', 'bacterial', 'coccal', 'forms', 'present', 'on', '-', '-', '-', '-', '-', '-', '-', '-', '-', 'silver', 'stain', 'consistent', 'with', 'streptococcus'], align_score=-1.5000000000000004, ovrlp_score=0.11764705882352941),\n",
       " bp_redundancy(sen_A='she was transferred to nsh where she was started on ampicillin 1gm iv q8h and gentamicin 120 mg tid', sen_B='occasional residual gram positive cocci present on brown-hopps stain', align_A=['she', 'was', 'transferred', 'to', 'nsh', 'where', 'she', 'was', 'started', '-', '-', '-', '-', '-', '-', 'on', 'ampicillin', '1gm', 'iv', 'q8h', 'and', 'gentamicin', '120', 'mg', 'tid', '-', '-'], align_B=['-', '-', '-', '-', '-', '-', '-', '-', '-', 'occasional', 'residual', 'gram', 'positive', 'cocci', 'present', 'on', '-', '-', '-', '-', '-', '-', '-', '-', '-', 'brown-hopps', 'stain'], align_score=-2.2000000000000006, ovrlp_score=0.058823529411764705),\n",
       " bp_redundancy(sen_A='tte 4/4 showed a mobile mass of echoes attached to the valve c/w vegetation', sen_B='the right coronary leaflet appears flail and there was prolapse of the non-coronary cusp as well', align_A=['tte', '4/4', 'showed', 'a', 'mobile', 'mass', '-', '-', '-', '-', '-', '-', '-', '-', '-', '-', 'of', 'echoes', 'attached', 'to', 'the', 'valve', 'c/w', 'vegetation', '-', '-', '-', '-'], align_B=['-', '-', '-', '-', '-', '-', 'the', 'right', 'coronary', 'leaflet', 'appears', 'flail', 'and', 'there', 'was', 'prolapse', 'of', '-', '-', '-', 'the', '-', '-', '-', 'non-coronary', 'cusp', 'as', 'well'], align_score=-0.6000000000000004, ovrlp_score=0.14285714285714285),\n",
       " bp_redundancy(sen_A='tte 4/4 showed a mobile mass of echoes attached to the valve c/w vegetation', sen_B='there was evidence of at least moderate aortic insufficiency by color and spectral doppler', align_A=['tte', '4/4', 'showed', 'a', 'mobile', 'mass', '-', '-', '-', 'of', 'echoes', 'attached', 'to', 'the', 'valve', 'c/w', 'vegetation', '-', '-', '-', '-', '-', '-', '-', '-', '-', '-'], align_B=['-', '-', '-', '-', '-', '-', 'there', 'was', 'evidence', 'of', '-', '-', '-', '-', '-', '-', '-', 'at', 'least', 'moderate', 'aortic', 'insufficiency', 'by', 'color', 'and', 'spectral', 'doppler'], align_score=-2.2000000000000006, ovrlp_score=0.07142857142857142),\n",
       " bp_redundancy(sen_A='tte 4/4 showed a mobile mass of echoes attached to the valve c/w vegetation', sen_B='she went to the or on 4/5 cabg tee homograft aortic root placement oin the or the aortic valve was severely damaged', align_A=['tte', '4/4', 'showed', 'a', 'mobile', 'mass', 'of', 'echoes', 'attached', '-', '-', 'to', 'the', '-', '-', '-', '-', '-', '-', '-', '-', '-', '-', '-', '-', '-', '-', 'valve', 'c/w', 'vegetation', '-', '-', '-'], align_B=['-', '-', '-', '-', '-', '-', '-', '-', '-', 'she', 'went', 'to', 'the', 'or', 'on', '4/5', 'cabg', 'tee', 'homograft', 'aortic', 'root', 'placement', 'oin', 'the', 'or', 'the', 'aortic', 'valve', '-', '-', 'was', 'severely', 'damaged'], align_score=0.9999999999999997, ovrlp_score=0.21428571428571427),\n",
       " bp_redundancy(sen_A='tte 4/4 showed a mobile mass of echoes attached to the valve c/w vegetation', sen_B='there was perforation of the right coronary leaflet and there were numerous vegetations which appeared to be rolled up aortic valve tissue on predominantly the right and noncoronary leaflets', align_A=['tte', '4/4', 'showed', 'a', 'mobile', 'mass', '-', '-', '-', 'of', 'echoes', 'attached', 'to', 'the', '-', '-', '-', '-', '-', '-', '-', '-', '-', '-', '-', '-', '-', '-', '-', 'valve', 'c/w', 'vegetation', '-', '-', '-', '-', '-', '-', '-', '-'], align_B=['-', '-', '-', '-', '-', '-', 'there', 'was', 'perforation', 'of', '-', '-', '-', 'the', 'right', 'coronary', 'leaflet', 'and', 'there', 'were', 'numerous', 'vegetations', 'which', 'appeared', 'to', 'be', 'rolled', 'up', 'aortic', 'valve', '-', '-', 'tissue', 'on', 'predominantly', 'the', 'right', 'and', 'noncoronary', 'leaflets'], align_score=-0.1, ovrlp_score=0.2857142857142857),\n",
       " bp_redundancy(sen_A='tte 4/4 showed a mobile mass of echoes attached to the valve c/w vegetation', sen_B='underneath the annulus of the right coronary there was an area of early abscess formation', align_A=['tte', '4/4', 'showed', 'a', 'mobile', 'mass', '-', '-', '-', 'of', 'echoes', 'attached', 'to', 'the', 'valve', 'c/w', 'vegetation', '-', '-', '-', '-', '-', '-', '-', '-', '-', '-'], align_B=['-', '-', '-', '-', '-', '-', 'underneath', 'the', 'annulus', 'of', '-', '-', '-', 'the', '-', '-', '-', 'right', 'coronary', 'there', 'was', 'an', 'area', 'of', 'early', 'abscess', 'formation'], align_score=-0.4999999999999999, ovrlp_score=0.14285714285714285),\n",
       " bp_redundancy(sen_A='tte 4/4 showed a mobile mass of echoes attached to the valve c/w vegetation', sen_B='gram stain of tissues was negative for organisms and cultures were negative', align_A=['tte', '4/4', 'showed', 'a', 'mobile', 'mass', '-', '-', 'of', 'echoes', 'attached', 'to', 'the', 'valve', 'c/w', 'vegetation', '-', '-', '-', '-', '-', '-', '-', '-', '-'], align_B=['-', '-', '-', '-', '-', '-', 'gram', 'stain', 'of', '-', '-', '-', '-', '-', '-', '-', 'tissues', 'was', 'negative', 'for', 'organisms', 'and', 'cultures', 'were', 'negative'], align_score=-2.0000000000000004, ovrlp_score=0.07142857142857142),\n",
       " bp_redundancy(sen_A='tte 4/4 showed a mobile mass of echoes attached to the valve c/w vegetation', sen_B='pathology was notable for numerous degenerated bacterial coccal forms present on silver stain consistent with streptococcus', align_A=['tte', '4/4', 'showed', 'a', 'mobile', 'mass', 'of', 'echoes', 'attached', 'to', 'the', 'valve', 'c/w', 'vegetation', '-', '-', '-', '-', '-', '-', '-', '-', '-', '-', '-', '-', '-', '-', '-', '-'], align_B=['-', '-', '-', '-', '-', '-', '-', '-', '-', '-', '-', '-', '-', '-', 'pathology', 'was', 'notable', 'for', 'numerous', 'degenerated', 'bacterial', 'coccal', 'forms', 'present', 'on', 'silver', 'stain', 'consistent', 'with', 'streptococcus'], align_score=-3.800000000000001, ovrlp_score=0.0),\n",
       " bp_redundancy(sen_A='tte 4/4 showed a mobile mass of echoes attached to the valve c/w vegetation', sen_B='occasional residual gram positive cocci present on brown-hopps stain', align_A=['tte', '4/4', 'showed', 'a', 'mobile', 'mass', 'of', 'echoes', 'attached', 'to', 'the', 'valve', 'c/w', 'vegetation', '-', '-', '-', '-', '-', '-', '-', '-', '-'], align_B=['-', '-', '-', '-', '-', '-', '-', '-', '-', '-', '-', '-', '-', '-', 'occasional', 'residual', 'gram', 'positive', 'cocci', 'present', 'on', 'brown-hopps', 'stain'], align_score=-3.1000000000000005, ovrlp_score=0.0),\n",
       " bp_redundancy(sen_A='the right coronary leaflet appears flail and there was prolapse of the non-coronary cusp as well', sen_B='there was evidence of at least moderate aortic insufficiency by color and spectral doppler', align_A=['the', 'right', 'coronary', 'leaflet', 'appears', 'flail', 'and', 'there', 'was', 'prolapse', '-', 'of', 'the', 'non-coronary', 'cusp', 'as', 'well', '-', '-', '-', '-', '-', '-', '-', '-', '-', '-'], align_B=['-', '-', '-', '-', '-', '-', '-', 'there', 'was', '-', 'evidence', 'of', '-', '-', '-', '-', '-', 'at', 'least', 'moderate', 'aortic', 'insufficiency', 'by', 'color', 'and', 'spectral', 'doppler'], align_score=1.5999999999999988, ovrlp_score=0.26666666666666666),\n",
       " bp_redundancy(sen_A='the right coronary leaflet appears flail and there was prolapse of the non-coronary cusp as well', sen_B='she went to the or on 4/5 cabg tee homograft aortic root placement oin the or the aortic valve was severely damaged', align_A=['-', '-', '-', 'the', 'right', 'coronary', 'leaflet', 'appears', 'flail', 'and', 'there', 'was', 'prolapse', 'of', '-', '-', '-', '-', '-', '-', '-', '-', '-', '-', 'the', 'non-coronary', 'cusp', 'as', 'well', '-', '-', '-', '-', '-', '-', '-'], align_B=['she', 'went', 'to', 'the', '-', '-', '-', '-', '-', '-', '-', '-', '-', '-', 'or', 'on', '4/5', 'cabg', 'tee', 'homograft', 'aortic', 'root', 'placement', 'oin', 'the', '-', '-', '-', '-', 'or', 'the', 'aortic', 'valve', 'was', 'severely', 'damaged'], align_score=-1.4, ovrlp_score=0.13333333333333333),\n",
       " bp_redundancy(sen_A='the right coronary leaflet appears flail and there was prolapse of the non-coronary cusp as well', sen_B='there was perforation of the right coronary leaflet and there were numerous vegetations which appeared to be rolled up aortic valve tissue on predominantly the right and noncoronary leaflets', align_A=['-', '-', '-', '-', 'the', 'right', 'coronary', 'leaflet', 'appears', 'flail', 'and', 'there', 'was', 'prolapse', 'of', '-', '-', '-', '-', '-', '-', '-', '-', '-', '-', '-', '-', '-', '-', 'the', 'non-coronary', 'cusp', 'as', 'well', '-', '-', '-', '-'], align_B=['there', 'was', 'perforation', 'of', 'the', 'right', 'coronary', 'leaflet', '-', '-', 'and', 'there', '-', '-', '-', 'were', 'numerous', 'vegetations', 'which', 'appeared', 'to', 'be', 'rolled', 'up', 'aortic', 'valve', 'tissue', 'on', 'predominantly', 'the', '-', '-', '-', '-', 'right', 'and', 'noncoronary', 'leaflets'], align_score=8.500000000000009, ovrlp_score=0.5333333333333333),\n",
       " bp_redundancy(sen_A='the right coronary leaflet appears flail and there was prolapse of the non-coronary cusp as well', sen_B='underneath the annulus of the right coronary there was an area of early abscess formation', align_A=['-', '-', '-', '-', 'the', 'right', 'coronary', 'leaflet', 'appears', 'flail', 'and', 'there', 'was', 'prolapse', '-', '-', 'of', 'the', 'non-coronary', 'cusp', 'as', 'well', '-', '-', '-'], align_B=['underneath', 'the', 'annulus', 'of', 'the', 'right', 'coronary', '-', '-', '-', '-', 'there', 'was', '-', 'an', 'area', 'of', '-', '-', '-', '-', '-', 'early', 'abscess', 'formation'], align_score=7.700000000000005, ovrlp_score=0.4),\n",
       " bp_redundancy(sen_A='the right coronary leaflet appears flail and there was prolapse of the non-coronary cusp as well', sen_B='gram stain of tissues was negative for organisms and cultures were negative', align_A=['the', 'right', 'coronary', 'leaflet', 'appears', 'flail', 'and', 'there', 'was', 'prolapse', '-', '-', 'of', 'the', 'non-coronary', 'cusp', 'as', 'well', '-', '-', '-', '-', '-', '-', '-', '-', '-'], align_B=['-', '-', '-', '-', '-', '-', '-', '-', '-', '-', 'gram', 'stain', 'of', '-', '-', '-', '-', '-', 'tissues', 'was', 'negative', 'for', 'organisms', 'and', 'cultures', 'were', 'negative'], align_score=-2.2, ovrlp_score=0.2),\n",
       " bp_redundancy(sen_A='the right coronary leaflet appears flail and there was prolapse of the non-coronary cusp as well', sen_B='pathology was notable for numerous degenerated bacterial coccal forms present on silver stain consistent with streptococcus', align_A=['the', 'right', 'coronary', 'leaflet', 'appears', 'flail', 'and', 'there', '-', 'was', 'prolapse', 'of', 'the', 'non-coronary', 'cusp', 'as', 'well', '-', '-', '-', '-', '-', '-', '-', '-', '-', '-', '-', '-', '-', '-'], align_B=['-', '-', '-', '-', '-', '-', '-', '-', 'pathology', 'was', '-', '-', '-', '-', '-', '-', '-', 'notable', 'for', 'numerous', 'degenerated', 'bacterial', 'coccal', 'forms', 'present', 'on', 'silver', 'stain', 'consistent', 'with', 'streptococcus'], align_score=-2.6000000000000005, ovrlp_score=0.06666666666666667),\n",
       " bp_redundancy(sen_A='the right coronary leaflet appears flail and there was prolapse of the non-coronary cusp as well', sen_B='occasional residual gram positive cocci present on brown-hopps stain', align_A=['the', 'right', 'coronary', 'leaflet', 'appears', 'flail', 'and', 'there', 'was', 'prolapse', 'of', 'the', 'non-coronary', 'cusp', 'as', 'well', '-', '-', '-', '-', '-', '-', '-', '-', '-'], align_B=['-', '-', '-', '-', '-', '-', '-', '-', '-', '-', '-', '-', '-', '-', '-', '-', 'occasional', 'residual', 'gram', 'positive', 'cocci', 'present', 'on', 'brown-hopps', 'stain'], align_score=-3.3000000000000007, ovrlp_score=0.0),\n",
       " bp_redundancy(sen_A='there was evidence of at least moderate aortic insufficiency by color and spectral doppler', sen_B='she went to the or on 4/5 cabg tee homograft aortic root placement oin the or the aortic valve was severely damaged', align_A=['there', 'was', 'evidence', 'of', 'at', 'least', 'moderate', '-', '-', '-', '-', '-', '-', '-', '-', '-', '-', 'aortic', 'insufficiency', 'by', 'color', 'and', 'spectral', 'doppler', '-', '-', '-', '-', '-', '-', '-', '-', '-', '-', '-'], align_B=['-', '-', '-', '-', '-', '-', '-', 'she', 'went', 'to', 'the', 'or', 'on', '4/5', 'cabg', 'tee', 'homograft', 'aortic', '-', '-', '-', '-', '-', '-', 'root', 'placement', 'oin', 'the', 'or', 'the', 'aortic', 'valve', 'was', 'severely', 'damaged'], align_score=-3.0000000000000013, ovrlp_score=0.14285714285714285),\n",
       " bp_redundancy(sen_A='there was evidence of at least moderate aortic insufficiency by color and spectral doppler', sen_B='there was perforation of the right coronary leaflet and there were numerous vegetations which appeared to be rolled up aortic valve tissue on predominantly the right and noncoronary leaflets', align_A=['there', 'was', 'evidence', '-', 'of', 'at', 'least', 'moderate', '-', '-', '-', '-', '-', '-', '-', '-', '-', '-', '-', '-', '-', '-', '-', 'aortic', 'insufficiency', 'by', 'color', '-', '-', '-', '-', '-', '-', 'and', 'spectral', 'doppler', '-', '-'], align_B=['there', 'was', '-', 'perforation', 'of', '-', '-', '-', 'the', 'right', 'coronary', 'leaflet', 'and', 'there', 'were', 'numerous', 'vegetations', 'which', 'appeared', 'to', 'be', 'rolled', 'up', 'aortic', '-', '-', '-', 'valve', 'tissue', 'on', 'predominantly', 'the', 'right', 'and', '-', '-', 'noncoronary', 'leaflets'], align_score=3.4999999999999996, ovrlp_score=0.35714285714285715),\n",
       " bp_redundancy(sen_A='there was evidence of at least moderate aortic insufficiency by color and spectral doppler', sen_B='underneath the annulus of the right coronary there was an area of early abscess formation', align_A=['-', '-', '-', '-', '-', '-', '-', 'there', 'was', 'evidence', '-', '-', 'of', 'at', 'least', 'moderate', 'aortic', 'insufficiency', 'by', 'color', 'and', 'spectral', 'doppler', '-', '-', '-'], align_B=['underneath', 'the', 'annulus', 'of', 'the', 'right', 'coronary', 'there', 'was', '-', 'an', 'area', 'of', '-', '-', '-', '-', '-', '-', '-', '-', '-', '-', 'early', 'abscess', 'formation'], align_score=1.6999999999999988, ovrlp_score=0.21428571428571427),\n",
       " bp_redundancy(sen_A='there was evidence of at least moderate aortic insufficiency by color and spectral doppler', sen_B='gram stain of tissues was negative for organisms and cultures were negative', align_A=['there', 'was', 'evidence', '-', '-', 'of', 'at', 'least', 'moderate', 'aortic', 'insufficiency', 'by', 'color', '-', '-', '-', '-', '-', 'and', 'spectral', 'doppler', '-', '-', '-'], align_B=['-', '-', '-', 'gram', 'stain', 'of', '-', '-', '-', '-', '-', '-', '-', 'tissues', 'was', 'negative', 'for', 'organisms', 'and', '-', '-', 'cultures', 'were', 'negative'], align_score=-0.6, ovrlp_score=0.21428571428571427),\n",
       " bp_redundancy(sen_A='there was evidence of at least moderate aortic insufficiency by color and spectral doppler', sen_B='pathology was notable for numerous degenerated bacterial coccal forms present on silver stain consistent with streptococcus', align_A=['there', '-', 'was', 'evidence', 'of', 'at', 'least', 'moderate', 'aortic', 'insufficiency', 'by', 'color', 'and', 'spectral', 'doppler', '-', '-', '-', '-', '-', '-', '-', '-', '-', '-', '-', '-', '-', '-'], align_B=['-', 'pathology', 'was', '-', '-', '-', '-', '-', '-', '-', '-', '-', '-', '-', '-', 'notable', 'for', 'numerous', 'degenerated', 'bacterial', 'coccal', 'forms', 'present', 'on', 'silver', 'stain', 'consistent', 'with', 'streptococcus'], align_score=-2.400000000000001, ovrlp_score=0.07142857142857142),\n",
       " bp_redundancy(sen_A='there was evidence of at least moderate aortic insufficiency by color and spectral doppler', sen_B='occasional residual gram positive cocci present on brown-hopps stain', align_A=['there', 'was', 'evidence', 'of', 'at', 'least', 'moderate', 'aortic', 'insufficiency', 'by', 'color', 'and', 'spectral', 'doppler', '-', '-', '-', '-', '-', '-', '-', '-', '-'], align_B=['-', '-', '-', '-', '-', '-', '-', '-', '-', '-', '-', '-', '-', '-', 'occasional', 'residual', 'gram', 'positive', 'cocci', 'present', 'on', 'brown-hopps', 'stain'], align_score=-3.1000000000000005, ovrlp_score=0.0),\n",
       " bp_redundancy(sen_A='she went to the or on 4/5 cabg tee homograft aortic root placement oin the or the aortic valve was severely damaged', sen_B='there was perforation of the right coronary leaflet and there were numerous vegetations which appeared to be rolled up aortic valve tissue on predominantly the right and noncoronary leaflets', align_A=['she', 'went', 'to', 'the', 'or', 'on', '4/5', 'cabg', 'tee', 'homograft', 'aortic', 'root', 'placement', 'oin', 'the', 'or', '-', '-', '-', '-', 'the', '-', '-', '-', '-', '-', '-', '-', '-', '-', '-', '-', '-', '-', '-', 'aortic', 'valve', 'was', 'severely', 'damaged', '-', '-', '-', '-', '-', '-', '-', '-'], align_B=['-', '-', '-', '-', '-', '-', '-', '-', '-', '-', '-', '-', '-', '-', '-', '-', 'there', 'was', 'perforation', 'of', 'the', 'right', 'coronary', 'leaflet', 'and', 'there', 'were', 'numerous', 'vegetations', 'which', 'appeared', 'to', 'be', 'rolled', 'up', 'aortic', 'valve', '-', '-', '-', 'tissue', 'on', 'predominantly', 'the', 'right', 'and', 'noncoronary', 'leaflets'], align_score=-0.5000000000000012, ovrlp_score=0.3333333333333333),\n",
       " bp_redundancy(sen_A='she went to the or on 4/5 cabg tee homograft aortic root placement oin the or the aortic valve was severely damaged', sen_B='underneath the annulus of the right coronary there was an area of early abscess formation', align_A=['she', 'went', 'to', '-', 'the', 'or', 'on', '4/5', 'cabg', 'tee', 'homograft', 'aortic', 'root', 'placement', 'oin', '-', '-', 'the', 'or', 'the', 'aortic', 'valve', '-', '-', '-', 'was', 'severely', 'damaged', '-', '-', '-', '-', '-', '-'], align_B=['-', '-', '-', 'underneath', 'the', '-', '-', '-', '-', '-', '-', '-', '-', '-', '-', 'annulus', 'of', 'the', '-', '-', '-', '-', 'right', 'coronary', 'there', 'was', '-', '-', 'an', 'area', 'of', 'early', 'abscess', 'formation'], align_score=-0.2999999999999996, ovrlp_score=0.1111111111111111),\n",
       " bp_redundancy(sen_A='she went to the or on 4/5 cabg tee homograft aortic root placement oin the or the aortic valve was severely damaged', sen_B='gram stain of tissues was negative for organisms and cultures were negative', align_A=['she', 'went', 'to', 'the', 'or', 'on', '4/5', 'cabg', 'tee', 'homograft', 'aortic', 'root', 'placement', 'oin', 'the', 'or', 'the', 'aortic', 'valve', '-', '-', '-', '-', 'was', 'severely', 'damaged', '-', '-', '-', '-', '-', '-', '-'], align_B=['-', '-', '-', '-', '-', '-', '-', '-', '-', '-', '-', '-', '-', '-', '-', '-', '-', '-', '-', 'gram', 'stain', 'of', 'tissues', 'was', '-', '-', 'negative', 'for', 'organisms', 'and', 'cultures', 'were', 'negative'], align_score=-2.800000000000001, ovrlp_score=0.05555555555555555),\n",
       " bp_redundancy(sen_A='she went to the or on 4/5 cabg tee homograft aortic root placement oin the or the aortic valve was severely damaged', sen_B='pathology was notable for numerous degenerated bacterial coccal forms present on silver stain consistent with streptococcus', align_A=['she', 'went', 'to', 'the', 'or', 'on', '4/5', 'cabg', 'tee', 'homograft', 'aortic', 'root', 'placement', 'oin', 'the', 'or', 'the', 'aortic', 'valve', '-', 'was', 'severely', 'damaged', '-', '-', '-', '-', '-', '-', '-', '-', '-', '-', '-', '-', '-', '-'], align_B=['-', '-', '-', '-', '-', '-', '-', '-', '-', '-', '-', '-', '-', '-', '-', '-', '-', '-', '-', 'pathology', 'was', '-', '-', 'notable', 'for', 'numerous', 'degenerated', 'bacterial', 'coccal', 'forms', 'present', 'on', 'silver', 'stain', 'consistent', 'with', 'streptococcus'], align_score=-3.2000000000000015, ovrlp_score=0.1111111111111111),\n",
       " bp_redundancy(sen_A='she went to the or on 4/5 cabg tee homograft aortic root placement oin the or the aortic valve was severely damaged', sen_B='occasional residual gram positive cocci present on brown-hopps stain', align_A=['she', 'went', 'to', 'the', 'or', '-', '-', '-', '-', '-', '-', 'on', '4/5', 'cabg', 'tee', 'homograft', 'aortic', 'root', 'placement', 'oin', 'the', 'or', 'the', 'aortic', 'valve', 'was', 'severely', 'damaged', '-', '-'], align_B=['-', '-', '-', '-', '-', 'occasional', 'residual', 'gram', 'positive', 'cocci', 'present', 'on', '-', '-', '-', '-', '-', '-', '-', '-', '-', '-', '-', '-', '-', '-', '-', '-', 'brown-hopps', 'stain'], align_score=-2.5000000000000013, ovrlp_score=0.05555555555555555),\n",
       " bp_redundancy(sen_A='there was perforation of the right coronary leaflet and there were numerous vegetations which appeared to be rolled up aortic valve tissue on predominantly the right and noncoronary leaflets', sen_B='underneath the annulus of the right coronary there was an area of early abscess formation', align_A=['there', 'was', 'perforation', '-', '-', '-', 'of', 'the', 'right', 'coronary', 'leaflet', 'and', 'there', 'were', 'numerous', 'vegetations', 'which', 'appeared', 'to', 'be', 'rolled', 'up', 'aortic', 'valve', 'tissue', 'on', 'predominantly', 'the', 'right', 'and', 'noncoronary', 'leaflets', '-', '-', '-', '-', '-', '-', '-'], align_B=['-', '-', '-', 'underneath', 'the', 'annulus', 'of', 'the', 'right', 'coronary', '-', '-', 'there', '-', '-', '-', '-', '-', '-', '-', '-', '-', '-', '-', '-', '-', '-', '-', '-', '-', '-', '-', 'was', 'an', 'area', 'of', 'early', 'abscess', 'formation'], align_score=4.6000000000000085, ovrlp_score=0.24),\n",
       " bp_redundancy(sen_A='there was perforation of the right coronary leaflet and there were numerous vegetations which appeared to be rolled up aortic valve tissue on predominantly the right and noncoronary leaflets', sen_B='gram stain of tissues was negative for organisms and cultures were negative', align_A=['there', 'was', 'perforation', '-', '-', 'of', 'the', 'right', 'coronary', 'leaflet', '-', '-', '-', '-', '-', 'and', 'there', '-', 'were', 'numerous', 'vegetations', 'which', 'appeared', 'to', 'be', 'rolled', 'up', 'aortic', 'valve', 'tissue', 'on', 'predominantly', 'the', 'right', 'and', 'noncoronary', 'leaflets', '-'], align_B=['-', '-', '-', 'gram', 'stain', 'of', '-', '-', '-', '-', 'tissues', 'was', 'negative', 'for', 'organisms', 'and', '-', 'cultures', 'were', '-', '-', '-', '-', '-', '-', '-', '-', '-', '-', '-', '-', '-', '-', '-', '-', '-', '-', 'negative'], align_score=-0.6999999999999998, ovrlp_score=0.16),\n",
       " bp_redundancy(sen_A='there was perforation of the right coronary leaflet and there were numerous vegetations which appeared to be rolled up aortic valve tissue on predominantly the right and noncoronary leaflets', sen_B='pathology was notable for numerous degenerated bacterial coccal forms present on silver stain consistent with streptococcus', align_A=['there', '-', 'was', 'perforation', 'of', 'the', 'right', 'coronary', 'leaflet', 'and', 'there', 'were', '-', '-', 'numerous', 'vegetations', 'which', 'appeared', 'to', 'be', 'rolled', 'up', 'aortic', 'valve', 'tissue', '-', '-', '-', '-', '-', 'on', 'predominantly', 'the', 'right', 'and', 'noncoronary', 'leaflets', '-', '-', '-', '-', '-'], align_B=['-', 'pathology', 'was', '-', '-', '-', '-', '-', '-', '-', '-', '-', 'notable', 'for', 'numerous', '-', '-', '-', '-', '-', '-', '-', '-', '-', '-', 'degenerated', 'bacterial', 'coccal', 'forms', 'present', 'on', '-', '-', '-', '-', '-', '-', 'silver', 'stain', 'consistent', 'with', 'streptococcus'], align_score=-1.0999999999999996, ovrlp_score=0.12),\n",
       " bp_redundancy(sen_A='there was perforation of the right coronary leaflet and there were numerous vegetations which appeared to be rolled up aortic valve tissue on predominantly the right and noncoronary leaflets', sen_B='occasional residual gram positive cocci present on brown-hopps stain', align_A=['there', 'was', 'perforation', 'of', 'the', 'right', 'coronary', 'leaflet', 'and', 'there', 'were', 'numerous', 'vegetations', 'which', 'appeared', 'to', 'be', 'rolled', 'up', 'aortic', 'valve', 'tissue', '-', '-', '-', '-', '-', '-', 'on', 'predominantly', 'the', 'right', 'and', 'noncoronary', 'leaflets', '-', '-'], align_B=['-', '-', '-', '-', '-', '-', '-', '-', '-', '-', '-', '-', '-', '-', '-', '-', '-', '-', '-', '-', '-', '-', 'occasional', 'residual', 'gram', 'positive', 'cocci', 'present', 'on', '-', '-', '-', '-', '-', '-', 'brown-hopps', 'stain'], align_score=-3.200000000000001, ovrlp_score=0.04),\n",
       " bp_redundancy(sen_A='underneath the annulus of the right coronary there was an area of early abscess formation', sen_B='gram stain of tissues was negative for organisms and cultures were negative', align_A=['underneath', 'the', 'annulus', '-', '-', 'of', 'the', 'right', 'coronary', 'there', '-', 'was', 'an', 'area', 'of', 'early', 'abscess', 'formation', '-', '-', '-', '-', '-', '-', '-'], align_B=['-', '-', '-', 'gram', 'stain', 'of', '-', '-', '-', '-', 'tissues', 'was', '-', '-', '-', '-', '-', '-', 'negative', 'for', 'organisms', 'and', 'cultures', 'were', 'negative'], align_score=-0.6999999999999998, ovrlp_score=0.15384615384615385),\n",
       " bp_redundancy(sen_A='underneath the annulus of the right coronary there was an area of early abscess formation', sen_B='pathology was notable for numerous degenerated bacterial coccal forms present on silver stain consistent with streptococcus', align_A=['underneath', 'the', 'annulus', 'of', 'the', 'right', 'coronary', 'there', '-', 'was', 'an', 'area', 'of', 'early', 'abscess', 'formation', '-', '-', '-', '-', '-', '-', '-', '-', '-', '-', '-', '-', '-', '-'], align_B=['-', '-', '-', '-', '-', '-', '-', '-', 'pathology', 'was', '-', '-', '-', '-', '-', '-', 'notable', 'for', 'numerous', 'degenerated', 'bacterial', 'coccal', 'forms', 'present', 'on', 'silver', 'stain', 'consistent', 'with', 'streptococcus'], align_score=-2.5000000000000004, ovrlp_score=0.07692307692307693),\n",
       " bp_redundancy(sen_A='underneath the annulus of the right coronary there was an area of early abscess formation', sen_B='occasional residual gram positive cocci present on brown-hopps stain', align_A=['underneath', 'the', 'annulus', 'of', 'the', 'right', 'coronary', 'there', 'was', 'an', 'area', 'of', 'early', 'abscess', 'formation', '-', '-', '-', '-', '-', '-', '-', '-', '-'], align_B=['-', '-', '-', '-', '-', '-', '-', '-', '-', '-', '-', '-', '-', '-', '-', 'occasional', 'residual', 'gram', 'positive', 'cocci', 'present', 'on', 'brown-hopps', 'stain'], align_score=-3.2000000000000006, ovrlp_score=0.0),\n",
       " bp_redundancy(sen_A='gram stain of tissues was negative for organisms and cultures were negative', sen_B='pathology was notable for numerous degenerated bacterial coccal forms present on silver stain consistent with streptococcus', align_A=['gram', 'stain', 'of', 'tissues', '-', 'was', 'negative', '-', 'for', 'organisms', 'and', 'cultures', 'were', 'negative', '-', '-', '-', '-', '-', '-', '-', '-', '-', '-', '-', '-'], align_B=['-', '-', '-', '-', 'pathology', 'was', '-', 'notable', 'for', '-', '-', '-', '-', '-', 'numerous', 'degenerated', 'bacterial', 'coccal', 'forms', 'present', 'on', 'silver', 'stain', 'consistent', 'with', 'streptococcus'], align_score=-0.7999999999999999, ovrlp_score=0.2727272727272727),\n",
       " bp_redundancy(sen_A='gram stain of tissues was negative for organisms and cultures were negative', sen_B='occasional residual gram positive cocci present on brown-hopps stain', align_A=['-', '-', 'gram', '-', '-', '-', '-', '-', 'stain', 'of', 'tissues', 'was', 'negative', 'for', 'organisms', 'and', 'cultures', 'were', 'negative'], align_B=['occasional', 'residual', 'gram', 'positive', 'cocci', 'present', 'on', 'brown-hopps', 'stain', '-', '-', '-', '-', '-', '-', '-', '-', '-', '-'], align_score=1.0999999999999992, ovrlp_score=0.18181818181818182),\n",
       " bp_redundancy(sen_A='pathology was notable for numerous degenerated bacterial coccal forms present on silver stain consistent with streptococcus', sen_B='occasional residual gram positive cocci present on brown-hopps stain', align_A=['pathology', 'was', 'notable', 'for', 'numerous', 'degenerated', 'bacterial', 'coccal', 'forms', '-', '-', '-', '-', '-', 'present', 'on', 'silver', '-', 'stain', 'consistent', 'with', 'streptococcus'], align_B=['-', '-', '-', '-', '-', '-', '-', '-', '-', 'occasional', 'residual', 'gram', 'positive', 'cocci', 'present', 'on', '-', 'brown-hopps', 'stain', '-', '-', '-'], align_score=2.0999999999999996, ovrlp_score=0.1875)]"
      ]
     },
     "execution_count": 799,
     "metadata": {},
     "output_type": "execute_result"
    }
   ],
   "source": [
    "notes"
   ]
  },
  {
   "cell_type": "code",
   "execution_count": 787,
   "metadata": {},
   "outputs": [],
   "source": [
    "with open('./data/test_n2c2_datasets_preprocessed.csv', 'w') as f:\n",
    "    wr = csv.writer(f, delimiter='|')\n",
    "    wr.writerow([\"ID\", \"TEXT\"])\n",
    "    for el in notes:\n",
    "        wr.writerow(list(el))"
   ]
  },
  {
   "cell_type": "code",
   "execution_count": 791,
   "metadata": {},
   "outputs": [
    {
     "data": {
      "text/plain": [
       "'long'"
      ]
     },
     "execution_count": 791,
     "metadata": {},
     "output_type": "execute_result"
    }
   ],
   "source": [
    "notes[0].challenge"
   ]
  },
  {
   "cell_type": "code",
   "execution_count": 800,
   "metadata": {},
   "outputs": [],
   "source": [
    "import spacy\n",
    "nlp = spacy.load('en_core_sci_md', disable=['ner'])"
   ]
  },
  {
   "cell_type": "code",
   "execution_count": 826,
   "metadata": {},
   "outputs": [],
   "source": [
    "prova = \"ciao come stai. io sto bene grazie\""
   ]
  },
  {
   "cell_type": "code",
   "execution_count": 827,
   "metadata": {},
   "outputs": [],
   "source": [
    "doc = nlp(prova)"
   ]
  },
  {
   "cell_type": "code",
   "execution_count": 828,
   "metadata": {},
   "outputs": [
    {
     "data": {
      "text/plain": [
       "['ciao come stai', 'io sto bene grazie']"
      ]
     },
     "execution_count": 828,
     "metadata": {},
     "output_type": "execute_result"
    }
   ],
   "source": [
    "sentences = [str(s).strip('\\.') for s in doc.sents]\n",
    "tokens = [[t.text for t in s if t.text != '.'] for s in doc.sents]\n",
    "tokens\n",
    "sentences"
   ]
  },
  {
   "cell_type": "code",
   "execution_count": 830,
   "metadata": {},
   "outputs": [
    {
     "data": {
      "text/plain": [
       "['ciao', 'come', 'stai']"
      ]
     },
     "execution_count": 830,
     "metadata": {},
     "output_type": "execute_result"
    }
   ],
   "source": [
    "tokens[0]"
   ]
  },
  {
   "cell_type": "code",
   "execution_count": 831,
   "metadata": {},
   "outputs": [
    {
     "data": {
      "text/plain": [
       "[1, 2, 3, 4]"
      ]
     },
     "execution_count": 831,
     "metadata": {},
     "output_type": "execute_result"
    }
   ],
   "source": [
    "import itertools\n",
    "\n",
    "list(itertools.chain.from_iterable([[1,2], [3,4]]))"
   ]
  },
  {
   "cell_type": "code",
   "execution_count": 858,
   "metadata": {},
   "outputs": [],
   "source": [
    "def iterative_levenshtein(s, t, **weight_dict):\n",
    "    \"\"\" \n",
    "        iterative_levenshtein(s, t) -> ldist\n",
    "        ldist is the Levenshtein distance between the strings \n",
    "        s and t.\n",
    "        For all i and j, dist[i,j] will contain the Levenshtein \n",
    "        distance between the first i characters of s and the \n",
    "        first j characters of t\n",
    "        \n",
    "        weight_dict: keyword parameters setting the costs for characters,\n",
    "                     the default value for a character will be 1\n",
    "    \"\"\"\n",
    "\n",
    "    rows = len(s)+1\n",
    "    cols = len(t)+1\n",
    "    \n",
    "    alphabet = \"abcdefghijklmnopqrstuvwxyz\"\n",
    "    w = dict( (x, (1, 1, 1)) for x in alphabet + alphabet.upper())\n",
    "    if weight_dict:\n",
    "        w.update(weight_dict)\n",
    "    \n",
    "    dist = [[0 for x in range(cols)] for x in range(rows)]\n",
    "    print(dist)\n",
    "    print('\\n')\n",
    "\n",
    "    # source prefixes can be transformed into empty strings \n",
    "    # by deletions:\n",
    "    for row in range(1, rows):\n",
    "        dist[row][0] = dist[row-1][0] + w[s[row-1]][0]\n",
    "    print(dist)\n",
    "    print('\\n')\n",
    "    \n",
    "    # target prefixes can be created from an empty source string\n",
    "    # by inserting the characters\n",
    "    for col in range(1, cols):\n",
    "        dist[0][col] = dist[0][col-1] + w[t[col-1]][1]\n",
    "    print(dist)\n",
    "    print('\\n')\n",
    "    \n",
    "    for col in range(1, cols):\n",
    "        for row in range(1, rows):\n",
    "            deletes = w[s[row-1]][0]\n",
    "            inserts = w[t[col-1]][1]\n",
    "            subs = max( (w[s[row-1]][2], w[t[col-1]][2]))\n",
    "            if s[row-1] == t[col-1]:\n",
    "                subs = 0\n",
    "            else:\n",
    "                subs = subs\n",
    "\n",
    "            dist[row][col] = min(dist[row-1][col] + deletes,\n",
    "                                 dist[row][col-1] + inserts,\n",
    "                                 dist[row-1][col-1] + subs) # substitution\n",
    "\n",
    "#     for r in range(rows):\n",
    "#         print(dist[r])\n",
    "    \n",
    " \n",
    "    return dist[row][col]"
   ]
  },
  {
   "cell_type": "code",
   "execution_count": 859,
   "metadata": {},
   "outputs": [
    {
     "name": "stdout",
     "output_type": "stream",
     "text": [
      "[[0, 0, 0, 0], [0, 0, 0, 0], [0, 0, 0, 0], [0, 0, 0, 0]]\n",
      "\n",
      "\n",
      "[[0, 0, 0, 0], [1, 0, 0, 0], [2, 0, 0, 0], [3, 0, 0, 0]]\n",
      "\n",
      "\n",
      "[[0, 1, 2, 3], [1, 0, 0, 0], [2, 0, 0, 0], [3, 0, 0, 0]]\n",
      "\n",
      "\n",
      "3\n"
     ]
    }
   ],
   "source": [
    "print(iterative_levenshtein(\"abx\", \n",
    "                            \"xya\") )"
   ]
  },
  {
   "cell_type": "code",
   "execution_count": 860,
   "metadata": {},
   "outputs": [],
   "source": [
    "def levenshtein_sen(sen1, sen2):\n",
    "\n",
    "    rows = len(sen1) + 1\n",
    "    cols = len(sen2) + 1\n",
    "\n",
    "    dist = np.zeros((rows, cols))\n",
    "    dist[:, 0] = range(rows)\n",
    "    dist[0, :] = range(cols)\n",
    "\n",
    "    for col in range(1, cols):\n",
    "        for row in range(1, rows):\n",
    "            if sen1[row - 1] == sen2[col - 1]:\n",
    "                cost = 0\n",
    "            else:\n",
    "                cost = 1\n",
    "            dist[row, col] = min(dist[row - 1, col] + 1,\n",
    "                                 dist[row, col - 1] + 1,\n",
    "                                 dist[row - 1, col - 1] + cost)\n",
    "    return dist[-1, -1]"
   ]
  },
  {
   "cell_type": "code",
   "execution_count": 861,
   "metadata": {},
   "outputs": [
    {
     "data": {
      "text/plain": [
       "3.0"
      ]
     },
     "execution_count": 861,
     "metadata": {},
     "output_type": "execute_result"
    }
   ],
   "source": [
    "levenshtein_sen(\"abx\", \"xya\")"
   ]
  },
  {
   "cell_type": "code",
   "execution_count": 873,
   "metadata": {},
   "outputs": [],
   "source": [
    "bp_notes = pkl.load(open('./data/test_n2c2_datasets_sentences_preprocessed.pkl', 'rb'))"
   ]
  },
  {
   "cell_type": "code",
   "execution_count": 866,
   "metadata": {},
   "outputs": [
    {
     "data": {
      "text/plain": [
       "'ciao ciao'"
      ]
     },
     "execution_count": 866,
     "metadata": {},
     "output_type": "execute_result"
    }
   ],
   "source": [
    "prova = 'ciao ciao .'\n",
    "prova.strip(r' ?\\.? ?')"
   ]
  },
  {
   "cell_type": "code",
   "execution_count": 876,
   "metadata": {},
   "outputs": [],
   "source": [
    "def levenshtein_sen(sen1, sen2):\n",
    "    \"\"\"\n",
    "    Compute Levenshtein distance between two sentences\n",
    "    :param sen1: list of tokens (words)\n",
    "    :param sen2: list of tokens (words)\n",
    "    :return: edit distance (Levenshtein)\n",
    "    \"\"\"\n",
    "    rows = len(sen1) + 1\n",
    "    cols = len(sen2) + 1\n",
    "\n",
    "    dist = np.zeros((rows, cols))\n",
    "    dist[:, 0] = range(rows)\n",
    "    dist[0, :] = range(cols)\n",
    "\n",
    "    for col, row in itertools.product(range(1, cols), range(1, rows)):\n",
    "        if sen1[row - 1] == sen2[col - 1]:\n",
    "            cost = 0\n",
    "        else:\n",
    "            cost = 1\n",
    "        dist[row, col] = min(dist[row - 1, col] + 1,\n",
    "                             dist[row, col - 1] + 1,\n",
    "                             dist[row - 1, col - 1] + cost)\n",
    "    return dist[-1, -1]"
   ]
  },
  {
   "cell_type": "code",
   "execution_count": 877,
   "metadata": {},
   "outputs": [
    {
     "data": {
      "text/plain": [
       "3.0"
      ]
     },
     "execution_count": 877,
     "metadata": {},
     "output_type": "execute_result"
    }
   ],
   "source": [
    "levenshtein_sen([\"ciao\", \"come\", \"stai\"], [\"tutto\", \"ok\"])"
   ]
  },
  {
   "cell_type": "code",
   "execution_count": null,
   "metadata": {},
   "outputs": [],
   "source": []
  }
 ],
 "metadata": {
  "kernelspec": {
   "display_name": "Python 3",
   "language": "python",
   "name": "python3"
  },
  "language_info": {
   "codemirror_mode": {
    "name": "ipython",
    "version": 3
   },
   "file_extension": ".py",
   "mimetype": "text/x-python",
   "name": "python",
   "nbconvert_exporter": "python",
   "pygments_lexer": "ipython3",
   "version": "3.8.5"
  }
 },
 "nbformat": 4,
 "nbformat_minor": 4
}
